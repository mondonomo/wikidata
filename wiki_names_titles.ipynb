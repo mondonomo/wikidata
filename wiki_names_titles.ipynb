{
 "cells": [
  {
   "cell_type": "code",
   "execution_count": 1,
   "id": "a7c8e613",
   "metadata": {},
   "outputs": [
    {
     "data": {
      "text/plain": [
       "{'דאגלס אדמס': {'he'}}"
      ]
     },
     "execution_count": 1,
     "metadata": {},
     "output_type": "execute_result"
    }
   ],
   "source": [
    "import json\n",
    "from collections import Counter\n",
    "import re\n",
    "from text_utils import remove_reg\n",
    "from tqdm.notebook import tqdm\n",
    "import pickle\n",
    "\n",
    "from wiki_labels import qid_lab_get\n",
    "qid_lab_get(42, 'he')"
   ]
  },
  {
   "cell_type": "code",
   "execution_count": null,
   "id": "3d909db1",
   "metadata": {},
   "outputs": [
    {
     "data": {
      "application/vnd.jupyter.widget-view+json": {
       "model_id": "45066499e3de44b79ba867847ef3f953",
       "version_major": 2,
       "version_minor": 0
      },
      "text/plain": [
       "  0%|          | 0/10044572 [00:00<?, ?it/s]"
      ]
     },
     "metadata": {},
     "output_type": "display_data"
    }
   ],
   "source": [
    "# PAC assess fn ln order\n",
    "fnln_order = Counter()\n",
    "fo =  open('/backup/wikidata/fnln_order.txt', 'w')\n",
    "for l in tqdm(open('/backup/wikidata/wiki_person.jsonl'), total=10_044_572):\n",
    "    j = json.loads(l)\n",
    "    qid = int(j['id'][1:])\n",
    "    fnid = int(j['fn'][0][6:]) if len(j['fn']) > 0 else None\n",
    "    lnid = int(j['ln'][0][6:]) if len(j['ln']) > 0 else None\n",
    "    labs = qid_lab_get(qid, include_alt=False)\n",
    "    if fnid:\n",
    "        fns = qid_lab_get(fnid, include_alt=True)\n",
    "        fns = [remove_reg.sub(' ', fn) for fn in fns.keys()]\n",
    "        fn_re = re.compile('^'+'|'.join(fns)+'.+')\n",
    "        for n, langs in labs.items():\n",
    "            if len(langs) == 1 and fn_re.match(n) and ',' not in n:\n",
    "                for lang in langs:\n",
    "                    fnln_order[(lang, 'f')] += 1\n",
    "                    fo.write(f'fl\\t{n}\\t{lang}\\n')\n",
    "    if lnid:\n",
    "        lns = qid_lab_get(lnid, include_alt=True)\n",
    "        lns = [remove_reg.sub(' ', ln) for ln in lns.keys()]\n",
    "        ln_re = re.compile('^'+'|'.join(lns)+'.+')\n",
    "        for n, langs in labs.items():\n",
    "            if len(langs) == 1 and ln_re.match(n) and ',' not in n:\n",
    "                for lang in langs:\n",
    "                    fnln_order[(lang, 'l')] += 1\n",
    "                    fo.write(f'lf\\t{n}\\t{lang}\\n')\n",
    "\n",
    "pickle.dump(fnln_order, open('/backup/wikidata/fnln_order.pickle', 'wb'))\n"
   ]
  },
  {
   "cell_type": "code",
   "execution_count": 4,
   "id": "7f7e5782",
   "metadata": {},
   "outputs": [
    {
     "data": {
      "text/plain": [
       "(43661,\n",
       " ['==)à',\n",
       "  'dimtri',\n",
       "  'dmitr',\n",
       "  'dmitri',\n",
       "  'dmitry',\n",
       "  \"d'mitr\",\n",
       "  'demitri',\n",
       "  'dimitri',\n",
       "  'dimitry',\n",
       "  'dmitrij',\n",
       "  'dmitriy',\n",
       "  'dmitrii',\n",
       "  'митя',\n",
       "  'дима',\n",
       "  'dmitrijs',\n",
       "  'дми́трий',\n",
       "  'demetrius',\n",
       "  'димочка',\n",
       "  'димка',\n",
       "  'дмітрій',\n",
       "  'зьміцер',\n",
       "  '德米特里',\n",
       "  'ドミトリ',\n",
       "  'ντμίτρι',\n",
       "  'дмитро',\n",
       "  'ντιμίτρι',\n",
       "  'дзьмітры',\n",
       "  'дзмітрый',\n",
       "  'дмитрий',\n",
       "  'დიმიტრი',\n",
       "  'ديميتري',\n",
       "  'ディミトリー'])"
      ]
     },
     "execution_count": 4,
     "metadata": {},
     "output_type": "execute_result"
    }
   ],
   "source": [
    "#l = 'th'\n",
    "#fnln_order[(l, 'l')] / (fnln_order[(l, 'l')]+fnln_order[(l, 'f')])\n",
    "qid, fns"
   ]
  }
 ],
 "metadata": {
  "kernelspec": {
   "display_name": "Python 3 (ipykernel)",
   "language": "python",
   "name": "python3"
  },
  "language_info": {
   "codemirror_mode": {
    "name": "ipython",
    "version": 3
   },
   "file_extension": ".py",
   "mimetype": "text/x-python",
   "name": "python",
   "nbconvert_exporter": "python",
   "pygments_lexer": "ipython3",
   "version": "3.10.5"
  }
 },
 "nbformat": 4,
 "nbformat_minor": 5
}

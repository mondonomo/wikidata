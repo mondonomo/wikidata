{
 "cells": [
  {
   "cell_type": "code",
   "execution_count": 1,
   "id": "830f5eae",
   "metadata": {},
   "outputs": [
    {
     "name": "stdout",
     "output_type": "stream",
     "text": [
      "{'en'}\n",
      "{'uk', 'en', 'nb', 'lb', 'lt', 'nn', 'ru', 'cs', 'fi', 'da', 'vi', 'zh', 'ar', 'fr', 'hu', 'pt', 'kk', 'my', 'fa', 'id', 'sv', 'tr', 'eu'}\n"
     ]
    }
   ],
   "source": [
    "import os\n",
    "from collections import defaultdict, Counter\n",
    "from text_utils import remove_reg, tokenise, get_provenance\n",
    "import json\n",
    "import numpy as np\n",
    "from tqdm.notebook import tqdm\n",
    "from wiki_labels import qid_lab_get\n",
    "\n",
    "BASE_DIR, DB_DIR = '/projekti/mondoAPI', 'db'\n",
    "\n",
    "types = json.load(open(os.path.join(BASE_DIR, DB_DIR, 'types.json'), 'r'))\n",
    "types_a = np.array([tuple([b if b else '' for b in a]) if len(a) == 4 else ('', '', '', '') for a in types],\n",
    "                   [('tip', 'U3'), ('lang', 'U2'), ('script', 'U4'), ('cc', 'U2')])\n",
    "t2i = {'_'.join(v):i for i, v in enumerate(types_a)}\n",
    "print(qid_lab_get(177053, include_alt=True)['mr'])\n",
    "print(qid_lab_get(191701, include_alt=True)['mba'])"
   ]
  },
  {
   "cell_type": "code",
   "execution_count": 39,
   "id": "2dacf8cd",
   "metadata": {},
   "outputs": [
    {
     "data": {
      "application/vnd.jupyter.widget-view+json": {
       "model_id": "d2aebe2c15694bfd875a4617066c975d",
       "version_major": 2,
       "version_minor": 0
      },
      "text/plain": [
       "  0%|          | 0/26332292 [00:00<?, ?it/s]"
      ]
     },
     "metadata": {},
     "output_type": "display_data"
    },
    {
     "data": {
      "text/plain": [
       "(Counter(),\n",
       " Counter({'PER_ln_nn_Latn_': 1,\n",
       "          'PER_ln_ca_Latn_': 12,\n",
       "          'PER_ln_sl_Latn_': 4,\n",
       "          'PER_ln_sq_Latn_': 4,\n",
       "          'PER_ln_nl_Latn_': 16,\n",
       "          'PER_ln_es_Latn_': 14,\n",
       "          'PER_ln_it_Latn_': 1,\n",
       "          'PER_ln_sv_Latn_': 1,\n",
       "          'PER_ln_en_Latn_': 16,\n",
       "          'PER_ln_da_Latn_': 1,\n",
       "          'PER_ln_nb_Latn_': 1,\n",
       "          'PER_ln_fr_Latn_': 4,\n",
       "          'PER_ln_ga_Latn_': 2,\n",
       "          'PER_ln_de_Latn_': 14,\n",
       "          'PER_ln_cs_Latn_': 12,\n",
       "          'PER_ln_pt_Latn_': 2,\n",
       "          'PER_ln_eo_Latn_': 1,\n",
       "          'PER_ln_sk_Latn_': 1}),\n",
       " Counter({'PER_fn1_pt_Latn_': 12,\n",
       "          'PER_fn1_ca_Latn_': 7,\n",
       "          'PER_fn1_sl_Latn_': 9,\n",
       "          'PER_fn1_fi_Latn_': 6,\n",
       "          'PER_fn1_nb_Latn_': 6,\n",
       "          'PER_fn1_sq_Latn_': 6,\n",
       "          'PER_fn1_nl_Latn_': 13,\n",
       "          'PER_fn1_es_Latn_': 10,\n",
       "          'PER_fn1_it_Latn_': 6,\n",
       "          'PER_fn1_pl_Latn_': 6,\n",
       "          'PER_fn1_da_Latn_': 6,\n",
       "          'PER_fn1_en_Latn_': 20,\n",
       "          'PER_fn1_br_Latn_': 4,\n",
       "          'PER_fn1_fr_Latn_': 9,\n",
       "          'PER_fn1_ga_Latn_': 5,\n",
       "          'PER_fn1_de_Latn_': 10,\n",
       "          'PER_fn1_hr_Latn_': 7,\n",
       "          'PER_fn1_mi_Latn_': 1,\n",
       "          'PER_fn1_oc_Latn_': 1,\n",
       "          'PER_fn1_id_Latn_': 1,\n",
       "          'PER_fn1_ms_Latn_': 1,\n",
       "          'PER_fn1_sw_Latn_': 1,\n",
       "          'PER_fn1_vi_Latn_': 1,\n",
       "          'PER_fn1_tr_Latn_': 5,\n",
       "          'PER_fn1_sv_Latn_': 5,\n",
       "          'PER_fn1_rm_Latn_': 3,\n",
       "          'PER_fn1_ro_Latn_': 4,\n",
       "          'PER_fn1_cy_Latn_': 3,\n",
       "          'PER_fn1_sk_Latn_': 3,\n",
       "          'PER_fn1_co_Latn_': 3,\n",
       "          'PER_fn1_nn_Latn_': 5,\n",
       "          'PER_fn1_bm_Latn_': 1,\n",
       "          'PER_fn1_sc_Latn_': 3,\n",
       "          'PER_fn1_kg_Latn_': 1,\n",
       "          'PER_fn1_eu_Latn_': 5,\n",
       "          'PER_fn1_ia_Latn_': 1,\n",
       "          'PER_fn1_sr_Latn_': 1,\n",
       "          'PER_fn1_gl_Latn_': 4,\n",
       "          'PER_fn1_eo_Latn_': 3,\n",
       "          'PER_fn1_mg_Latn_': 1,\n",
       "          'PER_fn1_gd_Latn_': 3,\n",
       "          'PER_fn1_et_Latn_': 3,\n",
       "          'PER_fn1_af_Latn_': 3,\n",
       "          'PER_fn1_lt_Latn_': 3,\n",
       "          'PER_fn1_cs_Latn_': 3,\n",
       "          'PER_fn1_wo_Latn_': 1,\n",
       "          'PER_fn1_li_Latn_': 3,\n",
       "          'PER_fn1_zu_Latn_': 1,\n",
       "          'PER_fn1_hu_Latn_': 5,\n",
       "          'PER_fn1_wa_Latn_': 3,\n",
       "          'PER_fn1_lb_Latn_': 3,\n",
       "          'PER_fn1_an_Latn_': 4,\n",
       "          'PER_fn1_is_Latn_': 2,\n",
       "          'PER_fn1_bs_Latn_': 2,\n",
       "          'PER_fn0_sl_Latn_': 1,\n",
       "          'PER_fn0_es_Latn_': 1,\n",
       "          'PER_fn0_en_Latn_': 1,\n",
       "          'PER_fn0_nl_Latn_': 1,\n",
       "          'PER_fn1_se_Latn_': 1}),\n",
       " Counter({'PER_ln_sl_Latn_': 1532,\n",
       "          'PER_ln_id_Latn_': 354,\n",
       "          'PER_ln_de_Latn_': 2087,\n",
       "          'PER_ln_pt_Latn_': 2333,\n",
       "          'PER_ln_cy_Latn_': 216,\n",
       "          'PER_ln_fi_Latn_': 983,\n",
       "          'PER_ln_en_Latn_': 5993,\n",
       "          'PER_ln_sq_Latn_': 1928,\n",
       "          'PER_ln_es_Latn_': 2953,\n",
       "          'PER_ln_nb_Latn_': 771,\n",
       "          'PER_ln_fr_Latn_': 2258,\n",
       "          'PER_ln_hr_Latn_': 95,\n",
       "          'PER_ln_hu_Latn_': 559,\n",
       "          'PER_ln_da_Latn_': 844,\n",
       "          'PER_ln_sv_Latn_': 928,\n",
       "          'PER_ln_ca_Latn_': 1984,\n",
       "          'PER_ln_it_Latn_': 1803,\n",
       "          'PER_ln_pl_Latn_': 448,\n",
       "          'PER_ln_nl_Latn_': 4268,\n",
       "          'PER_ln_cs_Latn_': 389,\n",
       "          'PER_ln_nn_Latn_': 528,\n",
       "          'PER_ln_ga_Latn_': 1241,\n",
       "          'PER_ln_sk_Latn_': 149,\n",
       "          'PER_ln_yo_Latn_': 181,\n",
       "          'PER_ln_eu_Latn_': 159,\n",
       "          'PER_ln_ig_Latn_': 24,\n",
       "          'PER_ln_oc_Latn_': 97,\n",
       "          'PER_ln_ms_Latn_': 91,\n",
       "          'PER_ln_sw_Latn_': 91,\n",
       "          'PER_ln_vi_Latn_': 115,\n",
       "          'PER_ln_tr_Latn_': 120,\n",
       "          'PER_ln_rm_Latn_': 89,\n",
       "          'PER_ln_ro_Latn_': 145,\n",
       "          'PER_ln_co_Latn_': 113,\n",
       "          'PER_ln_br_Latn_': 118,\n",
       "          'PER_ln_bm_Latn_': 78,\n",
       "          'PER_ln_sc_Latn_': 96,\n",
       "          'PER_ln_kg_Latn_': 86,\n",
       "          'PER_ln_ia_Latn_': 87,\n",
       "          'PER_ln_sr_Latn_': 62,\n",
       "          'PER_ln_gl_Latn_': 187,\n",
       "          'PER_ln_lv_Latn_': 53,\n",
       "          'PER_ln_eo_Latn_': 99,\n",
       "          'PER_ln_mg_Latn_': 93,\n",
       "          'PER_ln_gd_Latn_': 89,\n",
       "          'PER_ln_et_Latn_': 100,\n",
       "          'PER_ln_af_Latn_': 113,\n",
       "          'PER_ln_lt_Latn_': 82,\n",
       "          'PER_ln_wo_Latn_': 86,\n",
       "          'PER_ln_li_Latn_': 87,\n",
       "          'PER_ln_zu_Latn_': 87,\n",
       "          'PER_ln_wa_Latn_': 87,\n",
       "          'PER_ln_lb_Latn_': 120,\n",
       "          'PER_ln_an_Latn_': 97,\n",
       "          'PER_ln_ty_Latn_': 36,\n",
       "          'PER_ln_ku_Latn_': 25,\n",
       "          'PER_ln_la_Latn_': 19,\n",
       "          'PER_ln_mi_Latn_': 23,\n",
       "          'PER_ln_is_Latn_': 33,\n",
       "          'PER_ln_uz_Latn_': 18,\n",
       "          'PER_ln_fj_Latn_': 13,\n",
       "          'PER_ln_ve_Latn_': 12,\n",
       "          'PER_ln_fo_Latn_': 21,\n",
       "          'PER_ln_aa_Latn_': 13,\n",
       "          'PER_ln_ln_Latn_': 12,\n",
       "          'PER_ln_xh_Latn_': 12,\n",
       "          'PER_ln_gn_Latn_': 14,\n",
       "          'PER_ln_gv_Latn_': 13,\n",
       "          'PER_ln_mt_Latn_': 13,\n",
       "          'PER_ln_sg_Latn_': 12,\n",
       "          'PER_ln_kw_Latn_': 12,\n",
       "          'PER_ln_sm_Latn_': 12,\n",
       "          'PER_ln_st_Latn_': 12,\n",
       "          'PER_ln_ht_Latn_': 15,\n",
       "          'PER_ln_sn_Latn_': 13,\n",
       "          'PER_ln_om_Latn_': 12,\n",
       "          'PER_ln_nv_Latn_': 12,\n",
       "          'PER_ln_lg_Latn_': 12,\n",
       "          'PER_ln_ff_Latn_': 13,\n",
       "          'PER_ln_my_Latn_': 11,\n",
       "          'PER_ln_kj_Latn_': 12,\n",
       "          'PER_ln_tn_Latn_': 12,\n",
       "          'PER_ln_fy_Latn_': 16,\n",
       "          'PER_ln_lo_Latn_': 12,\n",
       "          'PER_ln_ho_Latn_': 13,\n",
       "          'PER_ln_kl_Latn_': 17,\n",
       "          'PER_ln_kk_Latn_': 13,\n",
       "          'PER_ln_to_Latn_': 12,\n",
       "          'PER_ln_ch_Latn_': 13,\n",
       "          'PER_ln_tg_Latn_': 12,\n",
       "          'PER_ln_ik_Latn_': 13,\n",
       "          'PER_ln_rw_Latn_': 12,\n",
       "          'PER_ln_bi_Latn_': 13,\n",
       "          'PER_ln_se_Latn_': 26,\n",
       "          'PER_ln_tk_Latn_': 12,\n",
       "          'PER_ln_hz_Latn_': 13,\n",
       "          'PER_ln_ki_Latn_': 13,\n",
       "          'PER_ln_so_Latn_': 12,\n",
       "          'PER_ln_ss_Latn_': 12,\n",
       "          'PER_ln_qu_Latn_': 13,\n",
       "          'PER_ln_mh_Latn_': 12,\n",
       "          'PER_ln_ay_Latn_': 13,\n",
       "          'PER_ln_za_Latn_': 12,\n",
       "          'PER_ln_na_Latn_': 12,\n",
       "          'PER_ln_rn_Latn_': 12,\n",
       "          'PER_ln_ts_Latn_': 12,\n",
       "          'PER_ln_bs_Latn_': 15,\n",
       "          'PER_fn1_nl_Latn_': 17,\n",
       "          'PER_fn1_en_Latn_': 18,\n",
       "          'PER_fn1_es_Latn_': 14,\n",
       "          'PER_fn1_fr_Latn_': 13,\n",
       "          'PER_ln_ha_Latn_': 15,\n",
       "          'PER_ln_ak_Latn_': 12,\n",
       "          'PER_ln_iu_Latn_': 11,\n",
       "          'PER_ln_ee_Latn_': 15,\n",
       "          'PER_ln_ny_Latn_': 11,\n",
       "          'PER_ln_ng_Latn_': 11,\n",
       "          'PER_ln_az_Latn_': 12,\n",
       "          'PER_fn1_ca_Latn_': 10,\n",
       "          'PER_fn1_sl_Latn_': 8,\n",
       "          'PER_fn1_sq_Latn_': 8,\n",
       "          'PER_fn1_ga_Latn_': 7,\n",
       "          'PER_fn1_eo_Latn_': 1,\n",
       "          'PER_fn1_pl_Latn_': 4,\n",
       "          'PER_fn1_de_Latn_': 11,\n",
       "          'PER_fn1_id_Latn_': 1,\n",
       "          'PER_fn1_ro_Latn_': 1,\n",
       "          'PER_fn1_pt_Latn_': 8,\n",
       "          'PER_fn1_co_Latn_': 1,\n",
       "          'PER_fn1_nb_Latn_': 4,\n",
       "          'PER_fn1_br_Latn_': 1,\n",
       "          'PER_fn1_ty_Latn_': 1,\n",
       "          'PER_fn1_da_Latn_': 4,\n",
       "          'PER_fn1_sv_Latn_': 4,\n",
       "          'PER_fn1_it_Latn_': 5,\n",
       "          'PER_fn1_fi_Latn_': 3,\n",
       "          'PER_fn1_cs_Latn_': 2,\n",
       "          'PER_fn1_hu_Latn_': 2,\n",
       "          'PER_ln_el_Latn_': 1,\n",
       "          'PER_ln_uk_Latn_': 1,\n",
       "          'PER_fn1_nn_Latn_': 1,\n",
       "          'PER_ln_ru_Latn_': 1,\n",
       "          'PER_fn1_cy_Latn_': 1}))"
      ]
     },
     "execution_count": 39,
     "metadata": {},
     "output_type": "execute_result"
    }
   ],
   "source": [
    "i = 0\n",
    "names = defaultdict(Counter)\n",
    "nema = Counter()\n",
    "for l in tqdm(open('/backup/wikidata/fnln.txt'), total=26_332_292):\n",
    "    try:\n",
    "        qid, n, lang, fn, ln, tip, gender = l.strip('\\n').split('\\t')\n",
    "    except Exception as e:\n",
    "        print(e, l)\n",
    "    if fn and ln:\n",
    "        provs = set([a[:-2] for a in get_provenance(n, lang)])\n",
    "        for prov in provs:\n",
    "            tag_t = 'fn' + ('1' if gender == 'm' else ('2' if gender == 'f' else '0'))\n",
    "            tag = tag_t +'_'+prov\n",
    "            names[fn]['PER_'+tag] += 1\n",
    "            tag = 'ln' + '_' + prov\n",
    "            names[ln]['PER_'+tag] += 1\n",
    "names['prof.'], names['doctor'], names['davor'], names['johnson']"
   ]
  },
  {
   "cell_type": "code",
   "execution_count": 41,
   "id": "59ec7399",
   "metadata": {},
   "outputs": [
    {
     "data": {
      "application/vnd.jupyter.widget-view+json": {
       "model_id": "905ad54008eb4e35a3e9f5e4061f8e71",
       "version_major": 2,
       "version_minor": 0
      },
      "text/plain": [
       "  0%|          | 0/834281 [00:00<?, ?it/s]"
      ]
     },
     "metadata": {},
     "output_type": "display_data"
    },
    {
     "data": {
      "text/plain": [
       "({'tit'}, {'tit'}, 790368)"
      ]
     },
     "execution_count": 41,
     "metadata": {},
     "output_type": "execute_result"
    }
   ],
   "source": [
    "TODO = defaultdict(set)\n",
    "for l in tqdm(open('data/wikiid.tsv'), total=834281):\n",
    "    l = l.strip('\\n')\n",
    "    tip, qid = l.strip('\\n').split('\\t')\n",
    "    if qid[0] == 'Q':\n",
    "        if tip in ('TITLE', 'RANK', 'POS',):\n",
    "            tip = 'tit'\n",
    "        else:\n",
    "            tip = tip.lower()\n",
    "\n",
    "        qid = int(qid[1:])\n",
    "        TODO[qid].add(tip)\n",
    "TODO[121594], TODO[177053], len(TODO)"
   ]
  },
  {
   "cell_type": "code",
   "execution_count": 42,
   "id": "b14fecbd",
   "metadata": {},
   "outputs": [
    {
     "data": {
      "application/vnd.jupyter.widget-view+json": {
       "model_id": "0e17ae0089e74edda0db0bb60a1117fd",
       "version_major": 2,
       "version_minor": 0
      },
      "text/plain": [
       "  0%|          | 0/10558506 [00:00<?, ?it/s]"
      ]
     },
     "metadata": {},
     "output_type": "display_data"
    }
   ],
   "source": [
    "freq_nelma = Counter()\n",
    "for l in tqdm(open('/backup/wikidata/wiki_nelma.jsonl'), total=10558506):\n",
    "    j = json.loads(l)\n",
    "    if 'title' in j:\n",
    "        for qtit in j['title']:\n",
    "            qtit = int(qtit[6:])\n",
    "            freq_nelma[qtit] += 1\n",
    "            if qtit not in TODO:\n",
    "                TODO[qtit].add('tit')\n",
    "            elif 'tit' not in TODO[qtit]:\n",
    "                TODO[qtit].add('tit')\n",
    "    if 'fn' in j:\n",
    "        for qtit in j['fn']:\n",
    "            qtit = int(qtit[6:])\n",
    "            freq_nelma[qtit] += 1\n",
    "    if 'ln' in j:\n",
    "        for qtit in j['ln']:\n",
    "            qtit = int(qtit[6:])\n",
    "            freq_nelma[qtit] += 1\n"
   ]
  },
  {
   "cell_type": "code",
   "execution_count": 43,
   "id": "7ff9e7ed",
   "metadata": {},
   "outputs": [
    {
     "data": {
      "application/vnd.jupyter.widget-view+json": {
       "model_id": "17bd850663994e12a0ec1a0c0d10bb1d",
       "version_major": 2,
       "version_minor": 0
      },
      "text/plain": [
       "  0%|          | 0/798119 [00:00<?, ?it/s]"
      ]
     },
     "metadata": {},
     "output_type": "display_data"
    },
    {
     "data": {
      "text/plain": [
       "(Counter({'W_tit_sl_Latn_': 4043,\n",
       "          'W_tit_de_Latn_': 4043,\n",
       "          'W_tit_wa_Latn_': 120,\n",
       "          'W_tit_fr_Latn_': 10}),\n",
       " Counter({'W_ln__unkn_': 1,\n",
       "          'W_fn0__unkn_': 1,\n",
       "          'W_tit_uk_Latn_': 222,\n",
       "          'W_tit_en_Latn_': 222,\n",
       "          'W_tit_nb_Latn_': 222,\n",
       "          'W_tit_lb_Latn_': 222,\n",
       "          'W_tit_lt_Latn_': 222,\n",
       "          'W_tit_nn_Latn_': 222,\n",
       "          'W_tit_ru_Latn_': 222,\n",
       "          'W_tit_cs_Latn_': 222,\n",
       "          'W_tit_fi_Latn_': 222,\n",
       "          'W_tit_da_Latn_': 222,\n",
       "          'W_tit_vi_Latn_': 222,\n",
       "          'W_tit_zh_Latn_': 222,\n",
       "          'W_tit_ar_Latn_': 222,\n",
       "          'W_tit_fr_Latn_': 222,\n",
       "          'W_tit_hu_Latn_': 222,\n",
       "          'W_tit_pt_Latn_': 222,\n",
       "          'W_tit_kk_Latn_': 222,\n",
       "          'W_tit_my_Latn_': 222,\n",
       "          'W_tit_fa_Latn_': 531,\n",
       "          'W_tit_id_Latn_': 222,\n",
       "          'W_tit_sv_Latn_': 222,\n",
       "          'W_tit_tr_Latn_': 222,\n",
       "          'W_tit_eu_Latn_': 222,\n",
       "          'W_tit_he_Latn_': 786}))"
      ]
     },
     "execution_count": 43,
     "metadata": {},
     "output_type": "execute_result"
    }
   ],
   "source": [
    "for qid, tips in tqdm(TODO.items(), total=len(TODO)):\n",
    "    lab = qid_lab_get(qid, include_alt=True)\n",
    "    for l, langs in lab.items():\n",
    "        for lang in langs:\n",
    "            for tip in tips:\n",
    "                provs = set([a[:-2] for a in get_provenance(l, lang)])\n",
    "                for prov in provs:\n",
    "                    tag = f'{tip}_'+prov\n",
    "                    #print(tag, tag in t2i)\n",
    "                    if tag in t2i:\n",
    "                        names[l][f'W_{tag}'] = freq_nelma[qid]\n",
    "                    else:\n",
    "                        names[l][f'W_{tip}__unkn_'] = freq_nelma[qid]\n",
    "                        nema[tag] += 1\n",
    "\n",
    "names['prof'], names['mba']"
   ]
  },
  {
   "cell_type": "code",
   "execution_count": 77,
   "id": "92a12e9a",
   "metadata": {},
   "outputs": [
    {
     "data": {
      "application/vnd.jupyter.widget-view+json": {
       "model_id": "0122cb1edd79446eb5cb2157035b7681",
       "version_major": 2,
       "version_minor": 0
      },
      "text/plain": [
       "  0%|          | 0/1820542 [00:00<?, ?it/s]"
      ]
     },
     "metadata": {},
     "output_type": "display_data"
    },
    {
     "data": {
      "text/plain": [
       "(Counter({('W.', 'tit'): 1486}), Counter({('W', 'tit'): 222}))"
      ]
     },
     "execution_count": 77,
     "metadata": {},
     "output_type": "execute_result"
    }
   ],
   "source": [
    "toks = defaultdict(Counter)\n",
    "for tok, v in tqdm(names.items(), total=len(names)):\n",
    "    for t_prov, cnt in v.items():\n",
    "        src, t, lang, script, cc = t_prov.split('_')\n",
    "        toks[f'{tok}_{lang}_{script}'][(src, t)] += cnt\n",
    "        if tok[-1] == '.' and tok.count('.') == 1:\n",
    "            toks[f'{tok[:-1]}_{lang}_{script}'][(src+'.', t)] += cnt\n",
    "toks = dict(toks)\n",
    "toks['dr_en_Latn'], toks['mba_en_Latn']"
   ]
  },
  {
   "cell_type": "code",
   "execution_count": 93,
   "id": "af110b8b",
   "metadata": {},
   "outputs": [
    {
     "data": {
      "text/plain": [
       "({1074}, 'tit_hr_Latn_')"
      ]
     },
     "execution_count": 93,
     "metadata": {},
     "output_type": "execute_result"
    }
   ],
   "source": [
    "t2set = defaultdict(set)\n",
    "for t, c in t2i.items():\n",
    "    t2 = t.split('_')\n",
    "    t2 = '_'.join(t2[:3])\n",
    "    t2set[t2].add(c)\n",
    "t2set = dict(t2set)    \n",
    "i2t = {k: v for v, k in t2i.items()}\n",
    "t2set['tit_hr_Latn'], i2t[1074]"
   ]
  },
  {
   "cell_type": "code",
   "execution_count": 121,
   "id": "d2589993",
   "metadata": {},
   "outputs": [
    {
     "data": {
      "application/vnd.jupyter.widget-view+json": {
       "model_id": "f5bf88705ac2465e88adb08b39b9a8cd",
       "version_major": 2,
       "version_minor": 0
      },
      "text/plain": [
       "  0%|          | 0/8313926 [00:00<?, ?it/s]"
      ]
     },
     "metadata": {},
     "output_type": "display_data"
    },
    {
     "data": {
      "application/vnd.jupyter.widget-view+json": {
       "model_id": "74ecae9dd7e24ea2942794ab4d8f88f7",
       "version_major": 2,
       "version_minor": 0
      },
      "text/plain": [
       "  0%|          | 0/43177209 [00:00<?, ?it/s]"
      ]
     },
     "metadata": {},
     "output_type": "display_data"
    },
    {
     "data": {
      "text/plain": [
       "(5099, 2135573, {'fn0': 0, 'fn1': 0, 'fn2': 0, 'ln': 0, 'tit': 4043}, 100.0)"
      ]
     },
     "execution_count": 121,
     "metadata": {},
     "output_type": "execute_result"
    }
   ],
   "source": [
    "freqs = {}\n",
    "nema = Counter()\n",
    "for k, v in tqdm(toks.items(), total=len(toks)):\n",
    "    (tok, provt) = k.split('_', 1) \n",
    "    for (src, tip), cnt in v.items():\n",
    "        provt = f'{tip}_{provt}'\n",
    "        if provt in t2set:\n",
    "            for prov in t2set[provt]:\n",
    "                if (tok, prov) not in freqs:\n",
    "                    freqs[(tok, prov)] = {'fn0': 0, 'fn1': 0, 'fn2': 0, 'ln': 0, 'tit': 0, }\n",
    "                freqs[(tok, prov)][tip] += cnt\n",
    "        else:\n",
    "            nema[provt] += 1\n",
    "\n",
    "freqs2 = {}\n",
    "for k, v in tqdm(freqs.items(), total=len(freqs)):\n",
    "    tok, prov = k\n",
    "    tip = i2t[prov].split('_')[0]\n",
    "    cnt = v[tip]\n",
    "    cnt_all = sum(v.values())\n",
    "    if cnt_all > 0:\n",
    "        freqs2[(tok, prov)] = round(cnt*100 / cnt_all,2)\n",
    "    \n",
    "len(nema), sum(nema.values()), freqs[('prof', 1074)], freqs2[('prof', 1074)]"
   ]
  },
  {
   "cell_type": "code",
   "execution_count": null,
   "id": "eb00b35f",
   "metadata": {},
   "outputs": [
    {
     "name": "stdout",
     "output_type": "stream",
     "text": [
      "loading ...\n"
     ]
    }
   ],
   "source": [
    "# to Oracle\n",
    "import cx_Oracle\n",
    "tls = 'db202201301230_high'\n",
    "connection = cx_Oracle.connect(user='mondo', password=open('orapsw.txt').read(),dsn=tls,encoding=\"UTF-8\")\n",
    "cur = connection.cursor()\n",
    "try:\n",
    "    cur.execute('drop table mondo.wiki_name_parts purge') \n",
    "except:\n",
    "    pass\n",
    "cur.execute('create table mondo.wiki_name_parts (token varchar2(200), prov number(4,0), ratio number(6, 2))')\n",
    "#cur.execute('delete  from  mondo.wiki_name_parts')\n",
    "print('loading ...')\n",
    "batch = []\n",
    "br = 0\n",
    "for t_prov, cnt in tqdm(freqs2.items(), total=len(freqs2)):\n",
    "    tok, prov = t_prov\n",
    "    if len(bytes(tok, 'utf-8')) < 190:\n",
    "        batch.append((tok, prov, cnt))\n",
    "    if len(batch)>10_048:\n",
    "        cur.executemany('insert into mondo.wiki_name_parts values (:1, :2, :2) ', batch) \n",
    "        connection.commit()\n",
    "        batch = []\n",
    "    br += 1\n",
    "cur.executemany('insert into mondo.wiki_name_parts values (:1, :2, :2) ', batch) \n",
    "connection.commit()\n",
    "    "
   ]
  },
  {
   "cell_type": "code",
   "execution_count": 127,
   "id": "eb00e683",
   "metadata": {},
   "outputs": [
    {
     "data": {
      "text/plain": [
       "42563037"
      ]
     },
     "execution_count": 127,
     "metadata": {},
     "output_type": "execute_result"
    }
   ],
   "source": [
    "len(batch)"
   ]
  }
 ],
 "metadata": {
  "kernelspec": {
   "display_name": "Python 3 (ipykernel)",
   "language": "python",
   "name": "python3"
  },
  "language_info": {
   "codemirror_mode": {
    "name": "ipython",
    "version": 3
   },
   "file_extension": ".py",
   "mimetype": "text/x-python",
   "name": "python",
   "nbconvert_exporter": "python",
   "pygments_lexer": "ipython3",
   "version": "3.10.5"
  }
 },
 "nbformat": 4,
 "nbformat_minor": 5
}

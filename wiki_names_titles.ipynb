{
 "cells": [
  {
   "cell_type": "code",
   "execution_count": 3,
   "id": "830f5eae",
   "metadata": {},
   "outputs": [
    {
     "name": "stdout",
     "output_type": "stream",
     "text": [
      "{'en'}\n",
      "{'nn', 'ru', 'en', 'vi', 'fi', 'tr', 'pt', 'id', 'kk', 'mt', 'cs', 'fa', 'uk', 'lb', 'zh', 'ar', 'hu', 'eu', 'da', 'sv', 'nb', 'my', 'lt', 'fr'}\n"
     ]
    }
   ],
   "source": [
    "import sys\n",
    "sys.path.insert(0, '/projekti/wikidata')\n",
    "import os\n",
    "from collections import defaultdict, Counter\n",
    "from text_utils import remove_reg, tokenise, get_provenance\n",
    "import json\n",
    "import numpy as np\n",
    "from tqdm.notebook import tqdm\n",
    "from wiki_labels import qid_lab_get\n",
    "\n",
    "BASE_DIR, DB_DIR = '/projekti/mondoAPI', 'db'\n",
    "\n",
    "types = json.load(open(os.path.join(BASE_DIR, DB_DIR, 'types.json'), 'r'))\n",
    "types_a = np.array([tuple([b if b else '' for b in a]) if len(a) == 4 else ('', '', '', '') for a in types],\n",
    "                   [('tip', 'U3'), ('lang', 'U2'), ('script', 'U4'), ('cc', 'U2')])\n",
    "t2i = {'_'.join(v):i for i, v in enumerate(types_a)}\n",
    "print(qid_lab_get(177053, include_alt=True)['mr'])\n",
    "print(qid_lab_get(191701, include_alt=True)['mba'])"
   ]
  },
  {
   "cell_type": "code",
   "execution_count": null,
   "id": "630abcea-b73d-4a4c-a0d4-9514bcef1703",
   "metadata": {},
   "outputs": [],
   "source": []
  },
  {
   "cell_type": "code",
   "execution_count": 2,
   "id": "2dacf8cd",
   "metadata": {},
   "outputs": [
    {
     "data": {
      "application/vnd.jupyter.widget-view+json": {
       "model_id": "4fdced7d265a4202aaef2254f0d9f7f4",
       "version_major": 2,
       "version_minor": 0
      },
      "text/plain": [
       "  0%|          | 0/26332292 [00:00<?, ?it/s]"
      ]
     },
     "metadata": {},
     "output_type": "display_data"
    },
    {
     "data": {
      "text/plain": [
       "(Counter(),\n",
       " Counter({'PER_ln_nn_Latn_': 1,\n",
       "          'PER_ln_ca_Latn_': 12,\n",
       "          'PER_ln_sl_Latn_': 4,\n",
       "          'PER_ln_sq_Latn_': 4,\n",
       "          'PER_ln_nl_Latn_': 16,\n",
       "          'PER_ln_es_Latn_': 14,\n",
       "          'PER_ln_it_Latn_': 1,\n",
       "          'PER_ln_sv_Latn_': 1,\n",
       "          'PER_ln_en_Latn_': 16,\n",
       "          'PER_ln_da_Latn_': 1,\n",
       "          'PER_ln_nb_Latn_': 1,\n",
       "          'PER_ln_fr_Latn_': 4,\n",
       "          'PER_ln_ga_Latn_': 2,\n",
       "          'PER_ln_de_Latn_': 14,\n",
       "          'PER_ln_cs_Latn_': 12,\n",
       "          'PER_ln_pt_Latn_': 2,\n",
       "          'PER_ln_eo_Latn_': 1,\n",
       "          'PER_ln_sk_Latn_': 1}),\n",
       " Counter({'PER_fn1_pt_Latn_': 12,\n",
       "          'PER_fn1_ca_Latn_': 7,\n",
       "          'PER_fn1_sl_Latn_': 9,\n",
       "          'PER_fn1_fi_Latn_': 6,\n",
       "          'PER_fn1_nb_Latn_': 6,\n",
       "          'PER_fn1_sq_Latn_': 6,\n",
       "          'PER_fn1_nl_Latn_': 13,\n",
       "          'PER_fn1_es_Latn_': 10,\n",
       "          'PER_fn1_it_Latn_': 6,\n",
       "          'PER_fn1_pl_Latn_': 6,\n",
       "          'PER_fn1_da_Latn_': 6,\n",
       "          'PER_fn1_en_Latn_': 20,\n",
       "          'PER_fn1_br_Latn_': 4,\n",
       "          'PER_fn1_fr_Latn_': 9,\n",
       "          'PER_fn1_ga_Latn_': 5,\n",
       "          'PER_fn1_de_Latn_': 10,\n",
       "          'PER_fn1_hr_Latn_': 7,\n",
       "          'PER_fn1_mi_Latn_': 1,\n",
       "          'PER_fn1_oc_Latn_': 1,\n",
       "          'PER_fn1_id_Latn_': 1,\n",
       "          'PER_fn1_ms_Latn_': 1,\n",
       "          'PER_fn1_sw_Latn_': 1,\n",
       "          'PER_fn1_vi_Latn_': 1,\n",
       "          'PER_fn1_tr_Latn_': 5,\n",
       "          'PER_fn1_sv_Latn_': 5,\n",
       "          'PER_fn1_rm_Latn_': 3,\n",
       "          'PER_fn1_ro_Latn_': 4,\n",
       "          'PER_fn1_cy_Latn_': 3,\n",
       "          'PER_fn1_sk_Latn_': 3,\n",
       "          'PER_fn1_co_Latn_': 3,\n",
       "          'PER_fn1_nn_Latn_': 5,\n",
       "          'PER_fn1_bm_Latn_': 1,\n",
       "          'PER_fn1_sc_Latn_': 3,\n",
       "          'PER_fn1_kg_Latn_': 1,\n",
       "          'PER_fn1_eu_Latn_': 5,\n",
       "          'PER_fn1_ia_Latn_': 1,\n",
       "          'PER_fn1_sr_Latn_': 1,\n",
       "          'PER_fn1_gl_Latn_': 4,\n",
       "          'PER_fn1_eo_Latn_': 3,\n",
       "          'PER_fn1_mg_Latn_': 1,\n",
       "          'PER_fn1_gd_Latn_': 3,\n",
       "          'PER_fn1_et_Latn_': 3,\n",
       "          'PER_fn1_af_Latn_': 3,\n",
       "          'PER_fn1_lt_Latn_': 3,\n",
       "          'PER_fn1_cs_Latn_': 3,\n",
       "          'PER_fn1_wo_Latn_': 1,\n",
       "          'PER_fn1_li_Latn_': 3,\n",
       "          'PER_fn1_zu_Latn_': 1,\n",
       "          'PER_fn1_hu_Latn_': 5,\n",
       "          'PER_fn1_wa_Latn_': 3,\n",
       "          'PER_fn1_lb_Latn_': 3,\n",
       "          'PER_fn1_an_Latn_': 4,\n",
       "          'PER_fn1_is_Latn_': 2,\n",
       "          'PER_fn1_bs_Latn_': 2,\n",
       "          'PER_fn0_sl_Latn_': 1,\n",
       "          'PER_fn0_es_Latn_': 1,\n",
       "          'PER_fn0_en_Latn_': 1,\n",
       "          'PER_fn0_nl_Latn_': 1,\n",
       "          'PER_fn1_se_Latn_': 1}),\n",
       " Counter({'PER_ln_sl_Latn_': 1532,\n",
       "          'PER_ln_id_Latn_': 354,\n",
       "          'PER_ln_de_Latn_': 2087,\n",
       "          'PER_ln_pt_Latn_': 2333,\n",
       "          'PER_ln_cy_Latn_': 216,\n",
       "          'PER_ln_fi_Latn_': 983,\n",
       "          'PER_ln_en_Latn_': 5993,\n",
       "          'PER_ln_sq_Latn_': 1928,\n",
       "          'PER_ln_es_Latn_': 2953,\n",
       "          'PER_ln_nb_Latn_': 771,\n",
       "          'PER_ln_fr_Latn_': 2258,\n",
       "          'PER_ln_hr_Latn_': 95,\n",
       "          'PER_ln_hu_Latn_': 559,\n",
       "          'PER_ln_da_Latn_': 844,\n",
       "          'PER_ln_sv_Latn_': 928,\n",
       "          'PER_ln_ca_Latn_': 1984,\n",
       "          'PER_ln_it_Latn_': 1803,\n",
       "          'PER_ln_pl_Latn_': 448,\n",
       "          'PER_ln_nl_Latn_': 4268,\n",
       "          'PER_ln_cs_Latn_': 389,\n",
       "          'PER_ln_nn_Latn_': 528,\n",
       "          'PER_ln_ga_Latn_': 1241,\n",
       "          'PER_ln_sk_Latn_': 149,\n",
       "          'PER_ln_yo_Latn_': 181,\n",
       "          'PER_ln_eu_Latn_': 159,\n",
       "          'PER_ln_ig_Latn_': 24,\n",
       "          'PER_ln_oc_Latn_': 97,\n",
       "          'PER_ln_ms_Latn_': 91,\n",
       "          'PER_ln_sw_Latn_': 91,\n",
       "          'PER_ln_vi_Latn_': 115,\n",
       "          'PER_ln_tr_Latn_': 120,\n",
       "          'PER_ln_rm_Latn_': 89,\n",
       "          'PER_ln_ro_Latn_': 145,\n",
       "          'PER_ln_co_Latn_': 113,\n",
       "          'PER_ln_br_Latn_': 118,\n",
       "          'PER_ln_bm_Latn_': 78,\n",
       "          'PER_ln_sc_Latn_': 96,\n",
       "          'PER_ln_kg_Latn_': 86,\n",
       "          'PER_ln_ia_Latn_': 87,\n",
       "          'PER_ln_sr_Latn_': 62,\n",
       "          'PER_ln_gl_Latn_': 187,\n",
       "          'PER_ln_lv_Latn_': 53,\n",
       "          'PER_ln_eo_Latn_': 99,\n",
       "          'PER_ln_mg_Latn_': 93,\n",
       "          'PER_ln_gd_Latn_': 89,\n",
       "          'PER_ln_et_Latn_': 100,\n",
       "          'PER_ln_af_Latn_': 113,\n",
       "          'PER_ln_lt_Latn_': 82,\n",
       "          'PER_ln_wo_Latn_': 86,\n",
       "          'PER_ln_li_Latn_': 87,\n",
       "          'PER_ln_zu_Latn_': 87,\n",
       "          'PER_ln_wa_Latn_': 87,\n",
       "          'PER_ln_lb_Latn_': 120,\n",
       "          'PER_ln_an_Latn_': 97,\n",
       "          'PER_ln_ty_Latn_': 36,\n",
       "          'PER_ln_ku_Latn_': 25,\n",
       "          'PER_ln_la_Latn_': 19,\n",
       "          'PER_ln_mi_Latn_': 23,\n",
       "          'PER_ln_is_Latn_': 33,\n",
       "          'PER_ln_uz_Latn_': 18,\n",
       "          'PER_ln_fj_Latn_': 13,\n",
       "          'PER_ln_ve_Latn_': 12,\n",
       "          'PER_ln_fo_Latn_': 21,\n",
       "          'PER_ln_aa_Latn_': 13,\n",
       "          'PER_ln_ln_Latn_': 12,\n",
       "          'PER_ln_xh_Latn_': 12,\n",
       "          'PER_ln_gn_Latn_': 14,\n",
       "          'PER_ln_gv_Latn_': 13,\n",
       "          'PER_ln_mt_Latn_': 13,\n",
       "          'PER_ln_sg_Latn_': 12,\n",
       "          'PER_ln_kw_Latn_': 12,\n",
       "          'PER_ln_sm_Latn_': 12,\n",
       "          'PER_ln_st_Latn_': 12,\n",
       "          'PER_ln_ht_Latn_': 15,\n",
       "          'PER_ln_sn_Latn_': 13,\n",
       "          'PER_ln_om_Latn_': 12,\n",
       "          'PER_ln_nv_Latn_': 12,\n",
       "          'PER_ln_lg_Latn_': 12,\n",
       "          'PER_ln_ff_Latn_': 13,\n",
       "          'PER_ln_my_Latn_': 11,\n",
       "          'PER_ln_kj_Latn_': 12,\n",
       "          'PER_ln_tn_Latn_': 12,\n",
       "          'PER_ln_fy_Latn_': 16,\n",
       "          'PER_ln_lo_Latn_': 12,\n",
       "          'PER_ln_ho_Latn_': 13,\n",
       "          'PER_ln_kl_Latn_': 17,\n",
       "          'PER_ln_kk_Latn_': 13,\n",
       "          'PER_ln_to_Latn_': 12,\n",
       "          'PER_ln_ch_Latn_': 13,\n",
       "          'PER_ln_tg_Latn_': 12,\n",
       "          'PER_ln_ik_Latn_': 13,\n",
       "          'PER_ln_rw_Latn_': 12,\n",
       "          'PER_ln_bi_Latn_': 13,\n",
       "          'PER_ln_se_Latn_': 26,\n",
       "          'PER_ln_tk_Latn_': 12,\n",
       "          'PER_ln_hz_Latn_': 13,\n",
       "          'PER_ln_ki_Latn_': 13,\n",
       "          'PER_ln_so_Latn_': 12,\n",
       "          'PER_ln_ss_Latn_': 12,\n",
       "          'PER_ln_qu_Latn_': 13,\n",
       "          'PER_ln_mh_Latn_': 12,\n",
       "          'PER_ln_ay_Latn_': 13,\n",
       "          'PER_ln_za_Latn_': 12,\n",
       "          'PER_ln_na_Latn_': 12,\n",
       "          'PER_ln_rn_Latn_': 12,\n",
       "          'PER_ln_ts_Latn_': 12,\n",
       "          'PER_ln_bs_Latn_': 15,\n",
       "          'PER_fn1_nl_Latn_': 17,\n",
       "          'PER_fn1_en_Latn_': 18,\n",
       "          'PER_fn1_es_Latn_': 14,\n",
       "          'PER_fn1_fr_Latn_': 13,\n",
       "          'PER_ln_ha_Latn_': 15,\n",
       "          'PER_ln_ak_Latn_': 12,\n",
       "          'PER_ln_iu_Latn_': 11,\n",
       "          'PER_ln_ee_Latn_': 15,\n",
       "          'PER_ln_ny_Latn_': 11,\n",
       "          'PER_ln_ng_Latn_': 11,\n",
       "          'PER_ln_az_Latn_': 12,\n",
       "          'PER_fn1_ca_Latn_': 10,\n",
       "          'PER_fn1_sl_Latn_': 8,\n",
       "          'PER_fn1_sq_Latn_': 8,\n",
       "          'PER_fn1_ga_Latn_': 7,\n",
       "          'PER_fn1_eo_Latn_': 1,\n",
       "          'PER_fn1_pl_Latn_': 4,\n",
       "          'PER_fn1_de_Latn_': 11,\n",
       "          'PER_fn1_id_Latn_': 1,\n",
       "          'PER_fn1_ro_Latn_': 1,\n",
       "          'PER_fn1_pt_Latn_': 8,\n",
       "          'PER_fn1_co_Latn_': 1,\n",
       "          'PER_fn1_nb_Latn_': 4,\n",
       "          'PER_fn1_br_Latn_': 1,\n",
       "          'PER_fn1_ty_Latn_': 1,\n",
       "          'PER_fn1_da_Latn_': 4,\n",
       "          'PER_fn1_sv_Latn_': 4,\n",
       "          'PER_fn1_it_Latn_': 5,\n",
       "          'PER_fn1_fi_Latn_': 3,\n",
       "          'PER_fn1_cs_Latn_': 2,\n",
       "          'PER_fn1_hu_Latn_': 2,\n",
       "          'PER_ln_el_Latn_': 1,\n",
       "          'PER_ln_uk_Latn_': 1,\n",
       "          'PER_fn1_nn_Latn_': 1,\n",
       "          'PER_ln_ru_Latn_': 1,\n",
       "          'PER_fn1_cy_Latn_': 1}))"
      ]
     },
     "execution_count": 2,
     "metadata": {},
     "output_type": "execute_result"
    }
   ],
   "source": [
    "i = 0\n",
    "names = defaultdict(Counter)\n",
    "nema = Counter()\n",
    "for l in tqdm(open('/backup/wikidata/fnln.txt'), total=26_332_292):\n",
    "    try:\n",
    "        qid, n, lang, fn, ln, tip, gender = l.strip('\\n').split('\\t')\n",
    "    except Exception as e:\n",
    "        print(e, l)\n",
    "    if fn and ln:\n",
    "        provs = set([a[:-2] for a in get_provenance(n, lang)])\n",
    "        for prov in provs:\n",
    "            tag_t = 'fn' + ('1' if gender == 'm' else ('2' if gender == 'f' else '0'))\n",
    "            tag = tag_t +'_'+prov\n",
    "            names[fn]['PER_'+tag] += 1\n",
    "            tag = 'ln' + '_' + prov\n",
    "            names[ln]['PER_'+tag] += 1\n",
    "names['prof.'], names['doctor'], names['davor'], names['johnson']"
   ]
  },
  {
   "cell_type": "code",
   "execution_count": 5,
   "id": "59ec7399",
   "metadata": {},
   "outputs": [
    {
     "data": {
      "application/vnd.jupyter.widget-view+json": {
       "model_id": "ec391466f492420f91d566edde28212e",
       "version_major": 2,
       "version_minor": 0
      },
      "text/plain": [
       "  0%|          | 0/834281 [00:00<?, ?it/s]"
      ]
     },
     "metadata": {},
     "output_type": "display_data"
    },
    {
     "data": {
      "text/plain": [
       "({'tit'}, {'tit'}, 790368)"
      ]
     },
     "execution_count": 5,
     "metadata": {},
     "output_type": "execute_result"
    }
   ],
   "source": [
    "TODO = defaultdict(set)\n",
    "for l in tqdm(open('data/wikiid.tsv'), total=834281):\n",
    "    l = l.strip('\\n')\n",
    "    tip, qid = l.strip('\\n').split('\\t')\n",
    "    if qid[0] == 'Q':\n",
    "        if tip in ('TITLE', 'RANK', 'POS',):\n",
    "            tip = 'tit'\n",
    "        else:\n",
    "            tip = tip.lower()\n",
    "\n",
    "        qid = int(qid[1:])\n",
    "        TODO[qid].add(tip)\n",
    "TODO[121594], TODO[177053], len(TODO)"
   ]
  },
  {
   "cell_type": "code",
   "execution_count": 14,
   "id": "b14fecbd",
   "metadata": {},
   "outputs": [
    {
     "data": {
      "application/vnd.jupyter.widget-view+json": {
       "model_id": "58a3d7ec57f24afaafe5f828cb994972",
       "version_major": 2,
       "version_minor": 0
      },
      "text/plain": [
       "  0%|          | 0/10558506 [00:00<?, ?it/s]"
      ]
     },
     "metadata": {},
     "output_type": "display_data"
    },
    {
     "data": {
      "text/plain": [
       "{'type': 'N.TITLE',\n",
       " 'instance': ['WIKI_Q28640', 'WIKI_Q4164871'],\n",
       " 'variants': ['WIKI_Q1650915'],\n",
       " 'oposite_gender': [],\n",
       " 'nickname': [],\n",
       " 'soundex': [],\n",
       " 'cologne': [],\n",
       " 'native': [],\n",
       " 'transliteration': [],\n",
       " 'short_name': [],\n",
       " 'wiki_id': 'Q901'}"
      ]
     },
     "execution_count": 14,
     "metadata": {},
     "output_type": "execute_result"
    }
   ],
   "source": [
    "freq_nelma = Counter()\n",
    "stat = Counter()\n",
    "for l in tqdm(gzip.open('/backup/wikidata/wikiname.jsonl.gz'), total=10558506):\n",
    "    j = json.loads(l)\n",
    "    break\n",
    "    stat[j['type']] += 1\n",
    "    if 'title' in j:\n",
    "        for qtit in j['title']:\n",
    "            qtit = int(qtit[6:])\n",
    "            freq_nelma[qtit] += 1\n",
    "            #if qtit not in TODO:\n",
    "            #    TODO[qtit].add('tit')\n",
    "            #elif 'tit' not in TODO[qtit]:\n",
    "            #    TODO[qtit].add('tit')\n",
    "    if 'fn' in j:\n",
    "        for qtit in j['fn']:\n",
    "            qtit = int(qtit[6:])\n",
    "            freq_nelma[qtit] += 1\n",
    "    if 'ln' in j:\n",
    "        for qtit in j['ln']:\n",
    "            qtit = int(qtit[6:])\n",
    "            freq_nelma[qtit] += 1\n",
    "\n",
    "j"
   ]
  },
  {
   "cell_type": "code",
   "execution_count": 7,
   "id": "7ff9e7ed",
   "metadata": {},
   "outputs": [
    {
     "data": {
      "application/vnd.jupyter.widget-view+json": {
       "model_id": "e36f7f2bef1145daa43efe944662a93b",
       "version_major": 2,
       "version_minor": 0
      },
      "text/plain": [
       "  0%|          | 0/798119 [00:00<?, ?it/s]"
      ]
     },
     "metadata": {},
     "output_type": "display_data"
    },
    {
     "data": {
      "text/plain": [
       "(Counter({'W_tit_de_Latn_': 4043,\n",
       "          'W_tit_sl_Latn_': 4043,\n",
       "          'W_tit_wa_Latn_': 120,\n",
       "          'W_tit_fr_Latn_': 10}),\n",
       " Counter({'W_ln__unkn_': 1,\n",
       "          'W_fn0__unkn_': 1,\n",
       "          'W_tit_da_Latn_': 222,\n",
       "          'W_tit_id_Latn_': 222,\n",
       "          'W_tit_cs_Latn_': 222,\n",
       "          'W_tit_en_Latn_': 222,\n",
       "          'W_tit_sv_Latn_': 222,\n",
       "          'W_tit_eu_Latn_': 222,\n",
       "          'W_tit_vi_Latn_': 222,\n",
       "          'W_tit_hu_Latn_': 222,\n",
       "          'W_tit_fa_Latn_': 531,\n",
       "          'W_tit_lb_Latn_': 222,\n",
       "          'W_tit_ru_Latn_': 222,\n",
       "          'W_tit_ar_Latn_': 222,\n",
       "          'W_tit_pt_Latn_': 222,\n",
       "          'W_tit_nb_Latn_': 222,\n",
       "          'W_tit_uk_Latn_': 222,\n",
       "          'W_tit_lt_Latn_': 222,\n",
       "          'W_tit_my_Latn_': 222,\n",
       "          'W_tit_tr_Latn_': 222,\n",
       "          'W_tit_fr_Latn_': 222,\n",
       "          'W_tit_zh_Latn_': 222,\n",
       "          'W_tit_kk_Latn_': 222,\n",
       "          'W_tit_nn_Latn_': 222,\n",
       "          'W_tit_fi_Latn_': 222,\n",
       "          'W_tit_he_Latn_': 786}))"
      ]
     },
     "execution_count": 7,
     "metadata": {},
     "output_type": "execute_result"
    }
   ],
   "source": [
    "for qid, tips in tqdm(TODO.items(), total=len(TODO)):\n",
    "    lab = qid_lab_get(qid, include_alt=True)\n",
    "    for l, langs in lab.items():\n",
    "        for lang in langs:\n",
    "            for tip in tips:\n",
    "                provs = set([a[:-2] for a in get_provenance(l, lang)])\n",
    "                for prov in provs:\n",
    "                    tag = f'{tip}_'+prov\n",
    "                    #print(tag, tag in t2i)\n",
    "                    if tag in t2i:\n",
    "                        names[l][f'W_{tag}'] = freq_nelma[qid]\n",
    "                    else:\n",
    "                        names[l][f'W_{tip}__unkn_'] = freq_nelma[qid]\n",
    "                        nema[tag] += 1\n",
    "\n",
    "names['prof'], names['mba']"
   ]
  },
  {
   "cell_type": "code",
   "execution_count": 37,
   "id": "92a12e9a",
   "metadata": {},
   "outputs": [
    {
     "data": {
      "application/vnd.jupyter.widget-view+json": {
       "model_id": "5846a28209ca445384241ca6ff5b6695",
       "version_major": 2,
       "version_minor": 0
      },
      "text/plain": [
       "  0%|          | 0/1820542 [00:00<?, ?it/s]"
      ]
     },
     "metadata": {},
     "output_type": "display_data"
    },
    {
     "data": {
      "text/plain": [
       "(Counter({('W.', 'tit'): 1486}), Counter({('W', 'tit'): 222}))"
      ]
     },
     "execution_count": 37,
     "metadata": {},
     "output_type": "execute_result"
    }
   ],
   "source": [
    "toks = defaultdict(Counter)\n",
    "for tok, v in tqdm(names.items(), total=len(names)):\n",
    "    for t_prov, cnt in v.items():\n",
    "        src, t, lang, script, cc = t_prov.split('_')\n",
    "        tok = tok.replace('_', ' ')\n",
    "        if len(tok)>0:\n",
    "            toks[f'{tok}_{lang}_{script}'][(src, t)] += cnt\n",
    "            if tok[-1] == '.' and tok.count('.') == 1:\n",
    "                toks[f'{tok[:-1]}_{lang}_{script}'][(src+'.', t)] += cnt\n",
    "toks = dict(toks)\n",
    "toks['dr_en_Latn'], toks['mba_en_Latn']"
   ]
  },
  {
   "cell_type": "code",
   "execution_count": 38,
   "id": "b4406ec7",
   "metadata": {},
   "outputs": [
    {
     "data": {
      "text/plain": [
       "({1521},\n",
       " {'de_Latn_',\n",
       "  'de_Latn_AT',\n",
       "  'de_Latn_CH',\n",
       "  'de_Latn_DE',\n",
       "  'de_Latn_LI',\n",
       "  'de_Latn_NL'})"
      ]
     },
     "execution_count": 38,
     "metadata": {},
     "output_type": "execute_result"
    }
   ],
   "source": [
    "t2set = defaultdict(set)\n",
    "prov2set = defaultdict(set)\n",
    "\n",
    "for t, c in t2i.items():\n",
    "    t = t.split('_')\n",
    "    t2set['_'.join(t[:3])].add(c)    \n",
    "    prov2set['_'.join(t[1:3])].add('_'.join(t[1:]))\n",
    "t2set = dict(t2set)    \n",
    "i2t = {k: v for v, k in t2i.items()}\n",
    "prov2set = dict(prov2set)    \n",
    "i2t = {k: v for v, k in t2i.items()}\n",
    "t2set['tit_hr_Latn'], prov2set['de_Latn']"
   ]
  },
  {
   "cell_type": "code",
   "execution_count": 39,
   "id": "d2589993",
   "metadata": {},
   "outputs": [
    {
     "data": {
      "application/vnd.jupyter.widget-view+json": {
       "model_id": "c600f8261655413eb25cec3f109833d7",
       "version_major": 2,
       "version_minor": 0
      },
      "text/plain": [
       "  0%|          | 0/8314074 [00:00<?, ?it/s]"
      ]
     },
     "metadata": {},
     "output_type": "display_data"
    },
    {
     "data": {
      "text/plain": [
       "{'fn0': 0, 'fn1': 0, 'fn2': 0, 'ln': 0, 'tit': 4043}"
      ]
     },
     "execution_count": 39,
     "metadata": {},
     "output_type": "execute_result"
    }
   ],
   "source": [
    "freqs = {}\n",
    "for k, v in tqdm(toks.items(), total=len(toks)):\n",
    "    (tok, provt) = k.split('_', 1) \n",
    "    for (src, tip), cnt in v.items():\n",
    "        if (tok, provt) not in freqs:\n",
    "            freqs[(tok, provt)] = {'fn0': 0, 'fn1': 0, 'fn2': 0, 'ln': 0, 'tit': 0, }\n",
    "        freqs[(tok, provt)][tip] += cnt\n",
    "\n",
    "freqs[('prof', 'hr_Latn')]"
   ]
  },
  {
   "cell_type": "code",
   "execution_count": 40,
   "id": "4e2afcb1",
   "metadata": {},
   "outputs": [
    {
     "data": {
      "application/vnd.jupyter.widget-view+json": {
       "model_id": "28fa2c5c6e234ccc9e91382937bb0fe6",
       "version_major": 2,
       "version_minor": 0
      },
      "text/plain": [
       "  0%|          | 0/8314074 [00:00<?, ?it/s]"
      ]
     },
     "metadata": {},
     "output_type": "display_data"
    },
    {
     "data": {
      "text/plain": [
       "(20, 1263446, (1, 5.88), (16, 94.12), (4043, 100.0))"
      ]
     },
     "execution_count": 40,
     "metadata": {},
     "output_type": "execute_result"
    }
   ],
   "source": [
    "freqs2 = {}\n",
    "nema = Counter()\n",
    "for k, v in tqdm(freqs.items(), total=len(freqs)):\n",
    "    tok, provt = k\n",
    "    tips = [k for k in v if v[k]>0]\n",
    "    if provt in prov2set:\n",
    "        for tip in tips:\n",
    "            if tip == 'tit':\n",
    "                allprovs = [provt+'_']\n",
    "            else:\n",
    "                allprovs = [a for a in prov2set[provt] if not a.endswith('_')]\n",
    "            cnt = v[tip]\n",
    "            cnt_all = sum(v.values())\n",
    "            if cnt_all > 0: \n",
    "                for prov in allprovs:\n",
    "                    if f'{tip}_{prov}' in t2i:\n",
    "                        provi = t2i[f'{tip}_{prov}']\n",
    "                        freqs2[(tok, provi)] = (cnt, round(cnt*100 / cnt_all,2))\n",
    "                    else:\n",
    "                        nema[f'{tip}_{prov}'] += 1\n",
    "len(nema), sum(nema.values()), freqs2[('doctor', t2i['tit_en_Latn_'])], freqs2[('doctor', t2i['ln_en_Latn_US'])], freqs2[('prof', t2i['tit_hr_Latn_'])]"
   ]
  },
  {
   "cell_type": "code",
   "execution_count": 41,
   "id": "566f552c",
   "metadata": {},
   "outputs": [],
   "source": [
    "# to Oracle\n",
    "import cx_Oracle\n",
    "tls = 'db202201301230_high'\n",
    "connection = cx_Oracle.connect(user='mondo', password=open('orapsw.txt').read(),dsn=tls,encoding=\"UTF-8\")\n",
    "cur = connection.cursor()\n"
   ]
  },
  {
   "cell_type": "code",
   "execution_count": 6,
   "id": "28d9d975-ff3f-4c66-8bc9-4e15ef9e59eb",
   "metadata": {},
   "outputs": [
    {
     "data": {
      "text/plain": [
       "Counter({'loc': 12264207, 'per': 10757820, 'org': 2020191})"
      ]
     },
     "execution_count": 6,
     "metadata": {},
     "output_type": "execute_result"
    }
   ],
   "source": [
    "stat"
   ]
  },
  {
   "cell_type": "code",
   "execution_count": 5,
   "id": "95a94140-4dfd-461f-b348-b9e0be8a5ee4",
   "metadata": {},
   "outputs": [
    {
     "data": {
      "application/vnd.jupyter.widget-view+json": {
       "model_id": "a92e0e78c51d4f3880dc38fd8363dcc6",
       "version_major": 2,
       "version_minor": 0
      },
      "text/plain": [
       "  0%|          | 0/20000000 [00:00<?, ?it/s]"
      ]
     },
     "metadata": {},
     "output_type": "display_data"
    },
    {
     "data": {
      "text/plain": [
       "{'type': 'per',\n",
       " 'fn': ['WIKI_Q99578338'],\n",
       " 'ln': ['WIKI_Q37534081'],\n",
       " 'pat': [],\n",
       " 'gender': [],\n",
       " 'nick': [],\n",
       " 'title': [],\n",
       " 'sufix': [],\n",
       " 'positions': ['WIKI_Q1650915'],\n",
       " 'educated_at': [],\n",
       " 'works_at': [],\n",
       " 'country': [],\n",
       " 'birth_place': [],\n",
       " 'death_place': [],\n",
       " 'residence': [],\n",
       " 'native_language': [],\n",
       " 'nationality': [],\n",
       " 'name_native': [],\n",
       " 'name_born': [],\n",
       " 'dob': [],\n",
       " 'dod': [],\n",
       " 'picture': [],\n",
       " 'affiliation': [],\n",
       " 'wiki_id': 'Q120598284',\n",
       " 'labels': {'en': ['Samba Dieng'],\n",
       "  'fr': ['Samba Dieng'],\n",
       "  'de': ['Samba Dieng']}}"
      ]
     },
     "execution_count": 5,
     "metadata": {},
     "output_type": "execute_result"
    }
   ],
   "source": [
    "import gzip, json\n",
    "from collections import Counter\n",
    "from tqdm.auto import tqdm\n",
    "freq = {}\n",
    "stat = Counter()\n",
    "np = {'': 0, '': 1, '':2, '': 3, '':4}\n",
    "for l in tqdm(gzip.open('/backup/wikidata/wikinelma.jsonl.gz'), total=25_042_218):\n",
    "    j = json.loads(l)\n",
    "    stat[j['type']] += 1\n",
    "    if j['type'] in \n",
    "j"
   ]
  },
  {
   "cell_type": "code",
   "execution_count": 42,
   "id": "eb00b35f",
   "metadata": {},
   "outputs": [
    {
     "name": "stdout",
     "output_type": "stream",
     "text": [
      "loading ...\n"
     ]
    },
    {
     "data": {
      "application/vnd.jupyter.widget-view+json": {
       "model_id": "93cbde324ada4e97aea30cbb50b970e6",
       "version_major": 2,
       "version_minor": 0
      },
      "text/plain": [
       "  0%|          | 0/44574635 [00:00<?, ?it/s]"
      ]
     },
     "metadata": {},
     "output_type": "display_data"
    },
    {
     "name": "stdout",
     "output_type": "stream",
     "text": [
      "8314074\n"
     ]
    }
   ],
   "source": [
    "try:\n",
    "    cur.execute('drop table mondo.wiki_name_parts purge') \n",
    "except:\n",
    "    pass\n",
    "cur.execute(\"\"\"create table mondo.wiki_name_parts (token varchar2(200), lang varchar2(10), fn0 number(6, 0), fn1 number(6, 0), fn2 number(6, 0),\n",
    "            ln number(6, 0), tit number(6, 0), CONSTRAINT pk_locations PRIMARY KEY (token, lang)) ORGANIZATION INDEX\"\"\")\n",
    "print('loading ...')\n",
    "batch = []\n",
    "br = 0\n",
    "for (tok, lng), cnt in tqdm(freqs.items(), total=len(freqs)):\n",
    "    if len(bytes(tok, 'utf-8')) < 190:\n",
    "        batch.append((tok, lng, cnt['fn0'], cnt['fn1'], cnt['fn2'], cnt['ln'], cnt['tit'] ))\n",
    "    if len(batch)>10_048:\n",
    "        cur.executemany('insert into mondo.wiki_name_parts values (:1, :2, :3, :4, :5, :6, :7) ', batch) \n",
    "        connection.commit()\n",
    "        batch = []\n",
    "    br += 1\n",
    "cur.executemany('insert into mondo.wiki_name_parts values (:1, :2, :3, :4, :5, :6, :7) ', batch) \n",
    "connection.commit()\n",
    "print(br)"
   ]
  },
  {
   "cell_type": "code",
   "execution_count": 44,
   "id": "8f1a45b8",
   "metadata": {},
   "outputs": [
    {
     "data": {
      "text/plain": [
       "[(8313994,)]"
      ]
     },
     "execution_count": 44,
     "metadata": {},
     "output_type": "execute_result"
    }
   ],
   "source": [
    "cur.execute('select count(*) from mondo.wiki_name_parts').fetchall()"
   ]
  },
  {
   "cell_type": "code",
   "execution_count": null,
   "id": "eb00e683",
   "metadata": {},
   "outputs": [],
   "source": [
    "# select m.n, (select t.t from  mondo.TYPEID t where t.id=m.t) t, c from MONDO.NAME_M m where n='dr' and\n",
    "# not exists (select 1 from mondo.TYPEID where id=m.t and regexp_like(t, 'title_.+') )  and\n",
    "# exists (select 1 from mondo.wiki_name_parts w where w.token=m.n) and\n",
    "# not exists (select 1 from mondo.wiki_name_parts w where w.token=m.n and w.PROV=m.T and w.RATIO>5);\n",
    "\n",
    "# AD HOC cleaning \n",
    "\n",
    "cur.execute(\"\"\"\n",
    "delete from MONDO.NAME_M m where\n",
    "not exists (select 1 from mondo.TYPEID where id=m.t and regexp_like(t, 'title_.+') )  and\n",
    "exists (select 1 from mondo.wiki_name_parts w where w.token=m.n) and\n",
    "not exists (select 1 from mondo.wiki_name_parts w where w.token=m.n and w.PROV=m.T and w.RATIO>5)\n",
    "\"\"\")\n",
    "connection.commit()"
   ]
  },
  {
   "cell_type": "code",
   "execution_count": 1,
   "id": "1d8471f4",
   "metadata": {},
   "outputs": [
    {
     "ename": "NameError",
     "evalue": "name 'cur' is not defined",
     "output_type": "error",
     "traceback": [
      "\u001b[0;31m---------------------------------------------------------------------------\u001b[0m",
      "\u001b[0;31mNameError\u001b[0m                                 Traceback (most recent call last)",
      "Input \u001b[0;32mIn [1]\u001b[0m, in \u001b[0;36m<cell line: 1>\u001b[0;34m()\u001b[0m\n\u001b[0;32m----> 1\u001b[0m \u001b[43mcur\u001b[49m\u001b[38;5;241m.\u001b[39mexecute(\u001b[38;5;124m\"\u001b[39m\u001b[38;5;124mselect m.n, t.t from mondo.name_m m, mondo.TYPEID t where t.id=m.t and m.n=\u001b[39m\u001b[38;5;124m'\u001b[39m\u001b[38;5;124mmr.\u001b[39m\u001b[38;5;124m'\u001b[39m\u001b[38;5;124m\"\u001b[39m)\u001b[38;5;241m.\u001b[39mfetchall()\n",
      "\u001b[0;31mNameError\u001b[0m: name 'cur' is not defined"
     ]
    }
   ],
   "source": [
    "cur.execute(\"select m.n, t.t from mondo.name_m m, mondo.TYPEID t where t.id=m.t and m.n='mr.'\").fetchall()"
   ]
  }
 ],
 "metadata": {
  "kernelspec": {
   "display_name": "Python 3 (ipykernel)",
   "language": "python",
   "name": "python3"
  },
  "language_info": {
   "codemirror_mode": {
    "name": "ipython",
    "version": 3
   },
   "file_extension": ".py",
   "mimetype": "text/x-python",
   "name": "python",
   "nbconvert_exporter": "python",
   "pygments_lexer": "ipython3",
   "version": "3.11.5"
  }
 },
 "nbformat": 4,
 "nbformat_minor": 5
}

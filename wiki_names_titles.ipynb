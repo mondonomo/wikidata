{
 "cells": [
  {
   "cell_type": "code",
   "execution_count": 1,
   "id": "830f5eae",
   "metadata": {},
   "outputs": [
    {
     "name": "stdout",
     "output_type": "stream",
     "text": [
      "{'en'}\n",
      "{'uk', 'en', 'nb', 'lb', 'lt', 'nn', 'ru', 'cs', 'fi', 'da', 'vi', 'zh', 'ar', 'fr', 'hu', 'pt', 'kk', 'my', 'fa', 'id', 'sv', 'tr', 'eu'}\n"
     ]
    }
   ],
   "source": [
    "import os\n",
    "from collections import defaultdict, Counter\n",
    "from text_utils import remove_reg, tokenise, get_provenance\n",
    "import json\n",
    "import numpy as np\n",
    "from tqdm.notebook import tqdm\n",
    "from wiki_labels import qid_lab_get\n",
    "\n",
    "BASE_DIR, DB_DIR = '/projekti/mondoAPI', 'db'\n",
    "\n",
    "types = json.load(open(os.path.join(BASE_DIR, DB_DIR, 'types.json'), 'r'))\n",
    "types_a = np.array([tuple([b if b else '' for b in a]) if len(a) == 4 else ('', '', '', '') for a in types],\n",
    "                   [('tip', 'U3'), ('lang', 'U2'), ('script', 'U4'), ('cc', 'U2')])\n",
    "t2i = {'_'.join(v):i for i, v in enumerate(types_a)}\n",
    "print(qid_lab_get(177053, include_alt=True)['mr'])\n",
    "print(qid_lab_get(191701, include_alt=True)['mba'])"
   ]
  },
  {
   "cell_type": "code",
   "execution_count": 32,
   "id": "2dacf8cd",
   "metadata": {},
   "outputs": [
    {
     "data": {
      "application/vnd.jupyter.widget-view+json": {
       "model_id": "6d3474aad8134362aea1342b68b65f97",
       "version_major": 2,
       "version_minor": 0
      },
      "text/plain": [
       "  0%|          | 0/26332292 [00:00<?, ?it/s]"
      ]
     },
     "metadata": {},
     "output_type": "display_data"
    },
    {
     "name": "stderr",
     "output_type": "stream",
     "text": [
      "IOPub message rate exceeded.\n",
      "The notebook server will temporarily stop sending output\n",
      "to the client in order to avoid crashing it.\n",
      "To change this limit, set the config variable\n",
      "`--NotebookApp.iopub_msg_rate_limit`.\n",
      "\n",
      "Current values:\n",
      "NotebookApp.iopub_msg_rate_limit=1000.0 (msgs/sec)\n",
      "NotebookApp.rate_limit_window=3.0 (secs)\n",
      "\n"
     ]
    },
    {
     "data": {
      "text/plain": [
       "(Counter(),\n",
       " Counter({'PER_ln_nn_Latn': 1,\n",
       "          'PER_ln_ca_Latn': 12,\n",
       "          'PER_ln_sl_Latn': 4,\n",
       "          'PER_ln_sq_Latn': 4,\n",
       "          'PER_ln_nl_Latn': 16,\n",
       "          'PER_ln_es_Latn': 14,\n",
       "          'PER_ln_it_Latn': 1,\n",
       "          'PER_ln_sv_Latn': 1,\n",
       "          'PER_ln_en_Latn': 16,\n",
       "          'PER_ln_da_Latn': 1,\n",
       "          'PER_ln_nb_Latn': 1,\n",
       "          'PER_ln_fr_Latn': 4,\n",
       "          'PER_ln_ga_Latn': 2,\n",
       "          'PER_ln_de_Latn': 14,\n",
       "          'PER_ln_cs_Latn': 12,\n",
       "          'PER_ln_pt_Latn': 2,\n",
       "          'PER_ln_eo_Latn': 1,\n",
       "          'PER_ln_sk_Latn': 1}),\n",
       " Counter({'PER_fn1_pt_Latn': 12,\n",
       "          'PER_fn1_ca_Latn': 7,\n",
       "          'PER_fn1_sl_Latn': 9,\n",
       "          'PER_fn1_fi_Latn': 6,\n",
       "          'PER_fn1_nb_Latn': 6,\n",
       "          'PER_fn1_sq_Latn': 6,\n",
       "          'PER_fn1_nl_Latn': 13,\n",
       "          'PER_fn1_es_Latn': 10,\n",
       "          'PER_fn1_it_Latn': 6,\n",
       "          'PER_fn1_pl_Latn': 6,\n",
       "          'PER_fn1_da_Latn': 6,\n",
       "          'PER_fn1_en_Latn': 20,\n",
       "          'PER_fn1_br_Latn': 4,\n",
       "          'PER_fn1_fr_Latn': 9,\n",
       "          'PER_fn1_ga_Latn': 5,\n",
       "          'PER_fn1_de_Latn': 10,\n",
       "          'PER_fn1_hr_Latn': 7,\n",
       "          'PER_fn1_mi_Latn': 1,\n",
       "          'PER_fn1_oc_Latn': 1,\n",
       "          'PER_fn1_id_Latn': 1,\n",
       "          'PER_fn1_ms_Latn': 1,\n",
       "          'PER_fn1_sw_Latn': 1,\n",
       "          'PER_fn1_vi_Latn': 1,\n",
       "          'PER_fn1_tr_Latn': 5,\n",
       "          'PER_fn1_sv_Latn': 5,\n",
       "          'PER_fn1_rm_Latn': 3,\n",
       "          'PER_fn1_ro_Latn': 4,\n",
       "          'PER_fn1_cy_Latn': 3,\n",
       "          'PER_fn1_sk_Latn': 3,\n",
       "          'PER_fn1_co_Latn': 3,\n",
       "          'PER_fn1_nn_Latn': 5,\n",
       "          'PER_fn1_bm_Latn': 1,\n",
       "          'PER_fn1_sc_Latn': 3,\n",
       "          'PER_fn1_kg_Latn': 1,\n",
       "          'PER_fn1_eu_Latn': 5,\n",
       "          'PER_fn1_ia_Latn': 1,\n",
       "          'PER_fn1_sr_Latn': 1,\n",
       "          'PER_fn1_gl_Latn': 4,\n",
       "          'PER_fn1_eo_Latn': 3,\n",
       "          'PER_fn1_mg_Latn': 1,\n",
       "          'PER_fn1_gd_Latn': 3,\n",
       "          'PER_fn1_et_Latn': 3,\n",
       "          'PER_fn1_af_Latn': 3,\n",
       "          'PER_fn1_lt_Latn': 3,\n",
       "          'PER_fn1_cs_Latn': 3,\n",
       "          'PER_fn1_wo_Latn': 1,\n",
       "          'PER_fn1_li_Latn': 3,\n",
       "          'PER_fn1_zu_Latn': 1,\n",
       "          'PER_fn1_hu_Latn': 5,\n",
       "          'PER_fn1_wa_Latn': 3,\n",
       "          'PER_fn1_lb_Latn': 3,\n",
       "          'PER_fn1_an_Latn': 4,\n",
       "          'PER_fn1_is_Latn': 2,\n",
       "          'PER_fn1_bs_Latn': 2,\n",
       "          'PER_fn0_sl_Latn': 1,\n",
       "          'PER_fn0_es_Latn': 1,\n",
       "          'PER_fn0_en_Latn': 1,\n",
       "          'PER_fn0_nl_Latn': 1,\n",
       "          'PER_fn1_se_Latn': 1}),\n",
       " Counter({'PER_ln_sl_Latn': 1532,\n",
       "          'PER_ln_id_Latn': 354,\n",
       "          'PER_ln_de_Latn': 2087,\n",
       "          'PER_ln_pt_Latn': 2333,\n",
       "          'PER_ln_cy_Latn': 216,\n",
       "          'PER_ln_fi_Latn': 983,\n",
       "          'PER_ln_en_Latn': 5993,\n",
       "          'PER_ln_sq_Latn': 1928,\n",
       "          'PER_ln_es_Latn': 2953,\n",
       "          'PER_ln_nb_Latn': 771,\n",
       "          'PER_ln_fr_Latn': 2258,\n",
       "          'PER_ln_hr_Latn': 95,\n",
       "          'PER_ln_hu_Latn': 559,\n",
       "          'PER_ln_da_Latn': 844,\n",
       "          'PER_ln_sv_Latn': 928,\n",
       "          'PER_ln_ca_Latn': 1984,\n",
       "          'PER_ln_it_Latn': 1803,\n",
       "          'PER_ln_pl_Latn': 448,\n",
       "          'PER_ln_nl_Latn': 4268,\n",
       "          'PER_ln_cs_Latn': 389,\n",
       "          'PER_ln_nn_Latn': 528,\n",
       "          'PER_ln_ga_Latn': 1241,\n",
       "          'PER_ln_sk_Latn': 149,\n",
       "          'PER_ln_yo_Latn': 181,\n",
       "          'PER_ln_eu_Latn': 159,\n",
       "          'PER_ln_ig_Latn': 24,\n",
       "          'PER_ln_oc_Latn': 97,\n",
       "          'PER_ln_ms_Latn': 91,\n",
       "          'PER_ln_sw_Latn': 91,\n",
       "          'PER_ln_vi_Latn': 115,\n",
       "          'PER_ln_tr_Latn': 120,\n",
       "          'PER_ln_rm_Latn': 89,\n",
       "          'PER_ln_ro_Latn': 145,\n",
       "          'PER_ln_co_Latn': 113,\n",
       "          'PER_ln_br_Latn': 118,\n",
       "          'PER_ln_bm_Latn': 78,\n",
       "          'PER_ln_sc_Latn': 96,\n",
       "          'PER_ln_kg_Latn': 86,\n",
       "          'PER_ln_ia_Latn': 87,\n",
       "          'PER_ln_sr_Latn': 62,\n",
       "          'PER_ln_gl_Latn': 187,\n",
       "          'PER_ln_lv_Latn': 53,\n",
       "          'PER_ln_eo_Latn': 99,\n",
       "          'PER_ln_mg_Latn': 93,\n",
       "          'PER_ln_gd_Latn': 89,\n",
       "          'PER_ln_et_Latn': 100,\n",
       "          'PER_ln_af_Latn': 113,\n",
       "          'PER_ln_lt_Latn': 82,\n",
       "          'PER_ln_wo_Latn': 86,\n",
       "          'PER_ln_li_Latn': 87,\n",
       "          'PER_ln_zu_Latn': 87,\n",
       "          'PER_ln_wa_Latn': 87,\n",
       "          'PER_ln_lb_Latn': 120,\n",
       "          'PER_ln_an_Latn': 97,\n",
       "          'PER_ln_ty_Latn': 36,\n",
       "          'PER_ln_ku_Latn': 25,\n",
       "          'PER_ln_la_Latn': 19,\n",
       "          'PER_ln_mi_Latn': 23,\n",
       "          'PER_ln_is_Latn': 33,\n",
       "          'PER_ln_uz_Latn': 18,\n",
       "          'PER_ln_fj_Latn': 13,\n",
       "          'PER_ln_ve_Latn': 12,\n",
       "          'PER_ln_fo_Latn': 21,\n",
       "          'PER_ln_aa_Latn': 13,\n",
       "          'PER_ln_ln_Latn': 12,\n",
       "          'PER_ln_xh_Latn': 12,\n",
       "          'PER_ln_gn_Latn': 14,\n",
       "          'PER_ln_gv_Latn': 13,\n",
       "          'PER_ln_mt_Latn': 13,\n",
       "          'PER_ln_sg_Latn': 12,\n",
       "          'PER_ln_kw_Latn': 12,\n",
       "          'PER_ln_sm_Latn': 12,\n",
       "          'PER_ln_st_Latn': 12,\n",
       "          'PER_ln_ht_Latn': 15,\n",
       "          'PER_ln_sn_Latn': 13,\n",
       "          'PER_ln_om_Latn': 12,\n",
       "          'PER_ln_nv_Latn': 12,\n",
       "          'PER_ln_lg_Latn': 12,\n",
       "          'PER_ln_ff_Latn': 13,\n",
       "          'PER_ln_my_Latn': 11,\n",
       "          'PER_ln_kj_Latn': 12,\n",
       "          'PER_ln_tn_Latn': 12,\n",
       "          'PER_ln_fy_Latn': 16,\n",
       "          'PER_ln_lo_Latn': 12,\n",
       "          'PER_ln_ho_Latn': 13,\n",
       "          'PER_ln_kl_Latn': 17,\n",
       "          'PER_ln_kk_Latn': 13,\n",
       "          'PER_ln_to_Latn': 12,\n",
       "          'PER_ln_ch_Latn': 13,\n",
       "          'PER_ln_tg_Latn': 12,\n",
       "          'PER_ln_ik_Latn': 13,\n",
       "          'PER_ln_rw_Latn': 12,\n",
       "          'PER_ln_bi_Latn': 13,\n",
       "          'PER_ln_se_Latn': 26,\n",
       "          'PER_ln_tk_Latn': 12,\n",
       "          'PER_ln_hz_Latn': 13,\n",
       "          'PER_ln_ki_Latn': 13,\n",
       "          'PER_ln_so_Latn': 12,\n",
       "          'PER_ln_ss_Latn': 12,\n",
       "          'PER_ln_qu_Latn': 13,\n",
       "          'PER_ln_mh_Latn': 12,\n",
       "          'PER_ln_ay_Latn': 13,\n",
       "          'PER_ln_za_Latn': 12,\n",
       "          'PER_ln_na_Latn': 12,\n",
       "          'PER_ln_rn_Latn': 12,\n",
       "          'PER_ln_ts_Latn': 12,\n",
       "          'PER_ln_bs_Latn': 15,\n",
       "          'PER_fn1_nl_Latn': 17,\n",
       "          'PER_fn1_en_Latn': 18,\n",
       "          'PER_fn1_es_Latn': 14,\n",
       "          'PER_fn1_fr_Latn': 13,\n",
       "          'PER_ln_ha_Latn': 15,\n",
       "          'PER_ln_ak_Latn': 12,\n",
       "          'PER_ln_iu_Latn': 11,\n",
       "          'PER_ln_ee_Latn': 15,\n",
       "          'PER_ln_ny_Latn': 11,\n",
       "          'PER_ln_ng_Latn': 11,\n",
       "          'PER_ln_az_Latn': 12,\n",
       "          'PER_fn1_ca_Latn': 10,\n",
       "          'PER_fn1_sl_Latn': 8,\n",
       "          'PER_fn1_sq_Latn': 8,\n",
       "          'PER_fn1_ga_Latn': 7,\n",
       "          'PER_fn1_eo_Latn': 1,\n",
       "          'PER_fn1_pl_Latn': 4,\n",
       "          'PER_fn1_de_Latn': 11,\n",
       "          'PER_fn1_id_Latn': 1,\n",
       "          'PER_fn1_ro_Latn': 1,\n",
       "          'PER_fn1_pt_Latn': 8,\n",
       "          'PER_fn1_co_Latn': 1,\n",
       "          'PER_fn1_nb_Latn': 4,\n",
       "          'PER_fn1_br_Latn': 1,\n",
       "          'PER_fn1_ty_Latn': 1,\n",
       "          'PER_fn1_da_Latn': 4,\n",
       "          'PER_fn1_sv_Latn': 4,\n",
       "          'PER_fn1_it_Latn': 5,\n",
       "          'PER_fn1_fi_Latn': 3,\n",
       "          'PER_fn1_cs_Latn': 2,\n",
       "          'PER_fn1_hu_Latn': 2,\n",
       "          'PER_ln_el_Latn': 1,\n",
       "          'PER_ln_uk_Latn': 1,\n",
       "          'PER_fn1_nn_Latn': 1,\n",
       "          'PER_ln_ru_Latn': 1,\n",
       "          'PER_fn1_cy_Latn': 1}))"
      ]
     },
     "execution_count": 32,
     "metadata": {},
     "output_type": "execute_result"
    }
   ],
   "source": [
    "i = 0\n",
    "names = defaultdict(Counter)\n",
    "nema = Counter()\n",
    "for l in tqdm(open('/backup/wikidata/fnln.txt'), total=26_332_292):\n",
    "    try:\n",
    "        qid, n, lang, fn, ln, tip, gender = l.strip('\\n').split('\\t')\n",
    "    except Exception as e:\n",
    "        print(e, l)\n",
    "    if fn and ln:\n",
    "        provs = set([a[:-3] for a in get_provenance(n, lang)])\n",
    "        for prov in provs:\n",
    "            tag_t = 'fn' + ('1' if gender == 'm' else ('2' if gender == 'f' else '0'))\n",
    "            tag = tag_t +'_'+prov\n",
    "            names[fn]['PER_'+tag] += 1\n",
    "            tag = 'ln' + '_' + prov\n",
    "            names[ln]['PER_'+tag] += 1\n",
    "names['prof.'], names['doctor'], names['davor'], names['johnson']"
   ]
  },
  {
   "cell_type": "code",
   "execution_count": 33,
   "id": "25eae1c6",
   "metadata": {},
   "outputs": [
    {
     "data": {
      "text/plain": [
       "Counter({'PER_ln_nn_Latn': 1,\n",
       "         'PER_ln_ca_Latn': 12,\n",
       "         'PER_ln_sl_Latn': 4,\n",
       "         'PER_ln_sq_Latn': 4,\n",
       "         'PER_ln_nl_Latn': 16,\n",
       "         'PER_ln_es_Latn': 14,\n",
       "         'PER_ln_it_Latn': 1,\n",
       "         'PER_ln_sv_Latn': 1,\n",
       "         'PER_ln_en_Latn': 16,\n",
       "         'PER_ln_da_Latn': 1,\n",
       "         'PER_ln_nb_Latn': 1,\n",
       "         'PER_ln_fr_Latn': 4,\n",
       "         'PER_ln_ga_Latn': 2,\n",
       "         'PER_ln_de_Latn': 14,\n",
       "         'PER_ln_cs_Latn': 12,\n",
       "         'PER_ln_pt_Latn': 2,\n",
       "         'PER_ln_eo_Latn': 1,\n",
       "         'PER_ln_sk_Latn': 1})"
      ]
     },
     "execution_count": 33,
     "metadata": {},
     "output_type": "execute_result"
    }
   ],
   "source": [
    "names['doctor']"
   ]
  },
  {
   "cell_type": "code",
   "execution_count": 34,
   "id": "59ec7399",
   "metadata": {},
   "outputs": [
    {
     "data": {
      "application/vnd.jupyter.widget-view+json": {
       "model_id": "69a908a3cfb646959f16d6c86467df04",
       "version_major": 2,
       "version_minor": 0
      },
      "text/plain": [
       "  0%|          | 0/834281 [00:00<?, ?it/s]"
      ]
     },
     "metadata": {},
     "output_type": "display_data"
    },
    {
     "data": {
      "text/plain": [
       "({'tit'}, {'tit'}, 790368)"
      ]
     },
     "execution_count": 34,
     "metadata": {},
     "output_type": "execute_result"
    }
   ],
   "source": [
    "TODO = defaultdict(set)\n",
    "for l in tqdm(open('data/wikiid.tsv'), total=834281):\n",
    "    l = l.strip('\\n')\n",
    "    tip, qid = l.strip('\\n').split('\\t')\n",
    "    if qid[0] == 'Q':\n",
    "        if tip in ('TITLE', 'RANK', 'POS',):\n",
    "            tip = 'tit'\n",
    "        else:\n",
    "            tip = tip.lower()\n",
    "\n",
    "        qid = int(qid[1:])\n",
    "        TODO[qid].add(tip)\n",
    "TODO[121594], TODO[177053], len(TODO)"
   ]
  },
  {
   "cell_type": "code",
   "execution_count": 35,
   "id": "b14fecbd",
   "metadata": {},
   "outputs": [
    {
     "data": {
      "application/vnd.jupyter.widget-view+json": {
       "model_id": "2bbe7442ddab4084b83ca420930b3423",
       "version_major": 2,
       "version_minor": 0
      },
      "text/plain": [
       "  0%|          | 0/10558506 [00:00<?, ?it/s]"
      ]
     },
     "metadata": {},
     "output_type": "display_data"
    }
   ],
   "source": [
    "freq_nelma = Counter()\n",
    "for l in tqdm(open('/backup/wikidata/wiki_nelma.jsonl'), total=10558506):\n",
    "    j = json.loads(l)\n",
    "    if 'title' in j:\n",
    "        for qtit in j['title']:\n",
    "            qtit = int(qtit[6:])\n",
    "            freq_nelma[qtit] += 1\n",
    "            if qtit not in TODO:\n",
    "                TODO[qtit].add('tit')\n",
    "            elif 'tit' not in TODO[qtit]:\n",
    "                TODO[qtit].add('tit')\n",
    "    if 'fn' in j:\n",
    "        for qtit in j['fn']:\n",
    "            qtit = int(qtit[6:])\n",
    "            freq_nelma[qtit] += 1\n",
    "    if 'ln' in j:\n",
    "        for qtit in j['ln']:\n",
    "            qtit = int(qtit[6:])\n",
    "            freq_nelma[qtit] += 1\n"
   ]
  },
  {
   "cell_type": "code",
   "execution_count": 36,
   "id": "7ff9e7ed",
   "metadata": {},
   "outputs": [
    {
     "data": {
      "application/vnd.jupyter.widget-view+json": {
       "model_id": "acd304ff6718479192f8309330b7a8ee",
       "version_major": 2,
       "version_minor": 0
      },
      "text/plain": [
       "  0%|          | 0/798119 [00:00<?, ?it/s]"
      ]
     },
     "metadata": {},
     "output_type": "display_data"
    },
    {
     "data": {
      "text/plain": [
       "(Counter({'W_tit_sl_Latn_': 4043,\n",
       "          'W_tit_de_Latn_': 4043,\n",
       "          'W_tit_wa_Latn_': 120,\n",
       "          'W_tit_fr_Latn_': 10}),\n",
       " Counter({'W_ln__unkn_': 1,\n",
       "          'W_fn0__unkn_': 1,\n",
       "          'W_tit_uk_Latn_': 222,\n",
       "          'W_tit_en_Latn_': 222,\n",
       "          'W_tit_nb_Latn_': 222,\n",
       "          'W_tit_lb_Latn_': 222,\n",
       "          'W_tit_lt_Latn_': 222,\n",
       "          'W_tit_nn_Latn_': 222,\n",
       "          'W_tit_ru_Latn_': 222,\n",
       "          'W_tit_cs_Latn_': 222,\n",
       "          'W_tit_fi_Latn_': 222,\n",
       "          'W_tit_da_Latn_': 222,\n",
       "          'W_tit_vi_Latn_': 222,\n",
       "          'W_tit_zh_Latn_': 222,\n",
       "          'W_tit_ar_Latn_': 222,\n",
       "          'W_tit_fr_Latn_': 222,\n",
       "          'W_tit_hu_Latn_': 222,\n",
       "          'W_tit_pt_Latn_': 222,\n",
       "          'W_tit_kk_Latn_': 222,\n",
       "          'W_tit_my_Latn_': 222,\n",
       "          'W_tit_fa_Latn_': 531,\n",
       "          'W_tit_id_Latn_': 222,\n",
       "          'W_tit_sv_Latn_': 222,\n",
       "          'W_tit_tr_Latn_': 222,\n",
       "          'W_tit_eu_Latn_': 222,\n",
       "          'W_tit_he_Latn_': 786}))"
      ]
     },
     "execution_count": 36,
     "metadata": {},
     "output_type": "execute_result"
    }
   ],
   "source": [
    "for qid, tips in tqdm(TODO.items(), total=len(TODO)):\n",
    "    lab = qid_lab_get(qid, include_alt=True)\n",
    "    for l, langs in lab.items():\n",
    "        for lang in langs:\n",
    "            for tip in tips:\n",
    "                provs = set([a[:-2] for a in get_provenance(l, lang)])\n",
    "                for prov in provs:\n",
    "                    tag = f'{tip}_'+prov\n",
    "                    #print(tag, tag in t2i)\n",
    "                    if tag in t2i:\n",
    "                        names[l][f'W_{tag}'] = freq_nelma[qid]\n",
    "                    else:\n",
    "                        names[l][f'W_{tip}__unkn_'] = freq_nelma[qid]\n",
    "                        nema[tag] += 1\n",
    "\n",
    "names['prof'], names['mba']"
   ]
  },
  {
   "cell_type": "code",
   "execution_count": 37,
   "id": "92a12e9a",
   "metadata": {},
   "outputs": [
    {
     "data": {
      "application/vnd.jupyter.widget-view+json": {
       "model_id": "22f870c791964a2e9ff81c9abf3c3d99",
       "version_major": 2,
       "version_minor": 0
      },
      "text/plain": [
       "  0%|          | 0/1820542 [00:00<?, ?it/s]"
      ]
     },
     "metadata": {},
     "output_type": "display_data"
    },
    {
     "ename": "ValueError",
     "evalue": "not enough values to unpack (expected 5, got 4)",
     "output_type": "error",
     "traceback": [
      "\u001b[0;31m---------------------------------------------------------------------------\u001b[0m",
      "\u001b[0;31mValueError\u001b[0m                                Traceback (most recent call last)",
      "Input \u001b[0;32mIn [37]\u001b[0m, in \u001b[0;36m<cell line: 2>\u001b[0;34m()\u001b[0m\n\u001b[1;32m      2\u001b[0m \u001b[38;5;28;01mfor\u001b[39;00m tok, v \u001b[38;5;129;01min\u001b[39;00m tqdm(names\u001b[38;5;241m.\u001b[39mitems(), total\u001b[38;5;241m=\u001b[39m\u001b[38;5;28mlen\u001b[39m(names)):\n\u001b[1;32m      3\u001b[0m     \u001b[38;5;28;01mfor\u001b[39;00m t_prov, cnt \u001b[38;5;129;01min\u001b[39;00m v\u001b[38;5;241m.\u001b[39mitems():\n\u001b[0;32m----> 4\u001b[0m         src, t, lang, script, cc \u001b[38;5;241m=\u001b[39m t_prov\u001b[38;5;241m.\u001b[39msplit(\u001b[38;5;124m'\u001b[39m\u001b[38;5;124m_\u001b[39m\u001b[38;5;124m'\u001b[39m)\n\u001b[1;32m      5\u001b[0m         toks[\u001b[38;5;124mf\u001b[39m\u001b[38;5;124m'\u001b[39m\u001b[38;5;132;01m{\u001b[39;00mtok\u001b[38;5;132;01m}\u001b[39;00m\u001b[38;5;124m_\u001b[39m\u001b[38;5;132;01m{\u001b[39;00mlang\u001b[38;5;132;01m}\u001b[39;00m\u001b[38;5;124m_\u001b[39m\u001b[38;5;132;01m{\u001b[39;00mscript\u001b[38;5;132;01m}\u001b[39;00m\u001b[38;5;124m'\u001b[39m][(src, t)] \u001b[38;5;241m+\u001b[39m\u001b[38;5;241m=\u001b[39m cnt\n\u001b[1;32m      6\u001b[0m         \u001b[38;5;28;01mif\u001b[39;00m tok[\u001b[38;5;241m-\u001b[39m\u001b[38;5;241m1\u001b[39m] \u001b[38;5;241m==\u001b[39m \u001b[38;5;124m'\u001b[39m\u001b[38;5;124m.\u001b[39m\u001b[38;5;124m'\u001b[39m \u001b[38;5;129;01mand\u001b[39;00m tok\u001b[38;5;241m.\u001b[39mcount(\u001b[38;5;124m'\u001b[39m\u001b[38;5;124m.\u001b[39m\u001b[38;5;124m'\u001b[39m) \u001b[38;5;241m==\u001b[39m \u001b[38;5;241m1\u001b[39m:\n",
      "\u001b[0;31mValueError\u001b[0m: not enough values to unpack (expected 5, got 4)"
     ]
    }
   ],
   "source": [
    "toks = defaultdict(Counter)\n",
    "for tok, v in tqdm(names.items(), total=len(names)):\n",
    "    for t_prov, cnt in v.items():\n",
    "        src, t, lang, script, cc = t_prov.split('_')\n",
    "        toks[f'{tok}_{lang}_{script}'][(src, t)] += cnt\n",
    "        if tok[-1] == '.' and tok.count('.') == 1:\n",
    "            toks[f'{tok[:-1]}_{lang}_{script}'][(src+'.', t)] += cnt\n",
    "            \n",
    "toks['dr_en_Latn'], toks['mba_en_Latn']"
   ]
  },
  {
   "cell_type": "code",
   "execution_count": null,
   "id": "bdf085a7",
   "metadata": {
    "scrolled": true
   },
   "outputs": [],
   "source": [
    "toks['doctor_en_Latn']"
   ]
  },
  {
   "cell_type": "code",
   "execution_count": null,
   "id": "d2589993",
   "metadata": {},
   "outputs": [],
   "source": [
    "for k, v in toks.items():\n",
    "    "
   ]
  },
  {
   "cell_type": "code",
   "execution_count": null,
   "id": "eb00b35f",
   "metadata": {},
   "outputs": [],
   "source": [
    "# to Oracle\n",
    "import cx_Oracle\n",
    "tls = 'db202201301230_high'\n",
    "connection = cx_Oracle.connect(user='mondo', password=open('orapsw.txt').read(),dsn=tls,encoding=\"UTF-8\")\n",
    "cur = connection.cursor()\n",
    "#cur.execute('drop table mondo.wiki_name_parts') \n",
    "#cur.execute('create table mondo.wiki_name_parts (token varchar2(200), cat char(3), provt varchar2(20), prov number(4,0), cnt number(9, 0))')\n",
    "cur.execute('delete  from  mondo.wiki_name_parts')\n",
    "\n",
    "batch = []\n",
    "br = 0\n",
    "for tok, v in tqdm(names.items(), total=len(names)):\n",
    "    for t_prov, cnt in v.items():\n",
    "        t, provt = t_prov.split('_', 1)\n",
    "        prov = t2i[provt]\n",
    "        if len(bytes(tok, 'utf-8')) < 190:\n",
    "            batch.append((tok, t, provt, prov, cnt))\n",
    "    if len(batch)>10_048:\n",
    "        cur.executemany('insert into mondo.wiki_name_parts values (:1, :2, :2, :4, :5) ', batch) \n",
    "        connection.commit()\n",
    "        batch = []\n",
    "    br += 1\n",
    "cur.executemany('insert into mondo.wiki_name_parts values (:1, :2, :2, :4, :5) ', batch) \n",
    "connection.commit()\n",
    "    "
   ]
  },
  {
   "cell_type": "code",
   "execution_count": null,
   "id": "eb00e683",
   "metadata": {},
   "outputs": [],
   "source": [
    "import cx_Oracle\n",
    "tls = 'db202201301230_high'\n",
    "connection = cx_Oracle.connect(user='mondo', password=open('orapsw.txt').read(),dsn=tls,encoding=\"UTF-8\")\n",
    "cur = connection.cursor()\n",
    "\n",
    "cur.execute('select count(*)  from  mondo.wiki_name_parts').fetchall()\n"
   ]
  }
 ],
 "metadata": {
  "kernelspec": {
   "display_name": "Python 3 (ipykernel)",
   "language": "python",
   "name": "python3"
  },
  "language_info": {
   "codemirror_mode": {
    "name": "ipython",
    "version": 3
   },
   "file_extension": ".py",
   "mimetype": "text/x-python",
   "name": "python",
   "nbconvert_exporter": "python",
   "pygments_lexer": "ipython3",
   "version": "3.10.5"
  }
 },
 "nbformat": 4,
 "nbformat_minor": 5
}

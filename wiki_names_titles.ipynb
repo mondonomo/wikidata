{
 "cells": [
  {
   "cell_type": "code",
   "execution_count": 46,
   "id": "830f5eae",
   "metadata": {},
   "outputs": [],
   "source": [
    "import os\n",
    "from collections import defaultdict, Counter\n",
    "from text_utils import remove_reg, tokenise, get_provenance\n",
    "import json\n",
    "import numpy as np\n",
    "from tqdm.notebook import tqdm\n",
    "from wiki_labels import qid_lab_get\n",
    "\n",
    "BASE_DIR, DB_DIR = '/projekti/mondoAPI', 'db'\n",
    "\n",
    "types = json.load(open(os.path.join(BASE_DIR, DB_DIR, 'types.json'), 'r'))\n",
    "types_a = np.array([tuple([b if b else '' for b in a]) if len(a) == 4 else ('', '', '', '') for a in types],\n",
    "                   [('tip', 'U3'), ('lang', 'U2'), ('script', 'U4'), ('cc', 'U2')])\n",
    "t2i = {'_'.join(v):i for i, v in enumerate(types_a)}\n",
    "\n"
   ]
  },
  {
   "cell_type": "code",
   "execution_count": null,
   "id": "edecfff3",
   "metadata": {},
   "outputs": [
    {
     "data": {
      "application/vnd.jupyter.widget-view+json": {
       "model_id": "4a453fc4313b42b0a8c2b22e035ef69c",
       "version_major": 2,
       "version_minor": 0
      },
      "text/plain": [
       "  0%|          | 0/26332292 [00:00<?, ?it/s]"
      ]
     },
     "metadata": {},
     "output_type": "display_data"
    }
   ],
   "source": [
    "i = 0\n",
    "names = defaultdict(Counter)\n",
    "nema = Counter()\n",
    "for l in tqdm(open('/backup/wikidata/fnln.txt'), total=26_332_292):\n",
    "    try:\n",
    "        qid, n, lang, fn, ln, tip, gender = l.strip('\\n').split('\\t')\n",
    "    except Exception as e:\n",
    "        print(e, l)\n",
    "    if fn and ln:\n",
    "        for prov in get_provenance(n, lang):\n",
    "            tag_t = 'fn' + ('1' if gender == 'm' else ('2' if gender == 'f' else '0'))\n",
    "            tag = tag_t +'_'+prov\n",
    "            if tag in t2i:\n",
    "                names[fn]['PER_'+tag] += 1\n",
    "            else:\n",
    "                names[fn]['PER_'+tag_t+'___'] += 1\n",
    "                nema[tag] += 1\n",
    "            tag = 'ln' + '_' + prov\n",
    "            if tag in t2i:\n",
    "                names[ln]['PER_'+tag] += 1\n",
    "            else:\n",
    "                names[ln]['PER_'+tag_t+'___'] += 1\n",
    "                nema[tag] += 1\n",
    "        \n",
    "names['davor'], names['prof.'], names['prof']"
   ]
  },
  {
   "cell_type": "code",
   "execution_count": null,
   "id": "59ec7399",
   "metadata": {},
   "outputs": [],
   "source": [
    "TODO = defaultdict(set)\n",
    "for l in tqdm(open('data/wikiid.tsv'), total=834281):\n",
    "    l = l.strip('\\n')\n",
    "    tip, qid = l.strip('\\n').split('\\t')\n",
    "    if qid[0] == 'Q':\n",
    "        if tip in ('TITLE', 'RANK', 'POS',):\n",
    "            tip = 'tit'\n",
    "        else:\n",
    "            tip = tip.lower()\n",
    "\n",
    "        qid = int(qid[1:])\n",
    "        TODO[qid].add(tip)\n",
    "TODO[121594], len(TODO)"
   ]
  },
  {
   "cell_type": "code",
   "execution_count": null,
   "id": "19e6bb3d",
   "metadata": {},
   "outputs": [],
   "source": [
    "for qid, tips in tqdm(TODO.items(), total=len(TODO)):\n",
    "    lab = qid_lab_get(qid, include_alt=True)\n",
    "    for l, langs in lab.items():\n",
    "        for lang in langs:\n",
    "            for tip in tips:\n",
    "                if tip == 'tit':\n",
    "                    provs = set([a[:-2] for a in get_provenance(l, lang)])\n",
    "                else:\n",
    "                    provs = set([a for a in get_provenance(l, lang)])\n",
    "                for prov in provs:\n",
    "                    tag = f'{tip}_'+prov\n",
    "                    print(tag, tag in t2i)\n",
    "                    if tag in t2i:\n",
    "                        names[l][f'W_{tag}'] += 1\n",
    "                    else:\n",
    "                        names[l][f'W_{tip}__unkn_'] += 1\n",
    "                        nema[tag] += 1\n",
    "\n",
    "names['prof'], names['davor']"
   ]
  },
  {
   "cell_type": "code",
   "execution_count": null,
   "id": "20267b31",
   "metadata": {},
   "outputs": [],
   "source": [
    "names['davor']"
   ]
  },
  {
   "cell_type": "code",
   "execution_count": null,
   "id": "7d4c8b4f",
   "metadata": {},
   "outputs": [],
   "source": []
  }
 ],
 "metadata": {
  "kernelspec": {
   "display_name": "Python 3 (ipykernel)",
   "language": "python",
   "name": "python3"
  },
  "language_info": {
   "codemirror_mode": {
    "name": "ipython",
    "version": 3
   },
   "file_extension": ".py",
   "mimetype": "text/x-python",
   "name": "python",
   "nbconvert_exporter": "python",
   "pygments_lexer": "ipython3",
   "version": "3.10.5"
  }
 },
 "nbformat": 4,
 "nbformat_minor": 5
}

{
 "cells": [
  {
   "cell_type": "code",
   "execution_count": null,
   "id": "805dea21",
   "metadata": {},
   "outputs": [],
   "source": [
    "# preparation of dataset for company similarity"
   ]
  },
  {
   "cell_type": "code",
   "execution_count": 3,
   "id": "a1c90e67",
   "metadata": {},
   "outputs": [
    {
     "data": {
      "text/plain": [
       "(dict_keys(['ibm', '18m', 'i.b.m.', 'big blue', 'ibm corp.', 'ibm corporation', 'international business machines', 'international business machines corporation']),\n",
       " 'FR',\n",
       " 'FR')"
      ]
     },
     "execution_count": 3,
     "metadata": {},
     "output_type": "execute_result"
    }
   ],
   "source": [
    "import os\n",
    "from collections import defaultdict, Counter\n",
    "from text_utils import remove_reg, tokenise, get_provenance\n",
    "import json\n",
    "import numpy as np\n",
    "from tqdm.notebook import tqdm\n",
    "from wiki_labels import qid_lab_get\n",
    "from wiki_location import q2cc\n",
    "from marisa_trie import Trie\n",
    "from sentence_transformers import SentenceTransformer, InputExample, losses\n",
    "from torch.utils.data import DataLoader\n",
    "\n",
    "qid_lab_get(37156, lang='en', include_alt=True).keys(), q2cc['Q90'], q2cc['Q142'], "
   ]
  },
  {
   "cell_type": "code",
   "execution_count": 23,
   "id": "bfa907b2",
   "metadata": {},
   "outputs": [
    {
     "name": "stdout",
     "output_type": "stream",
     "text": [
      "469135 469135 Counter({'non-us': 298917, 'no_loc': 109671, 'us': 77498})\n"
     ]
    }
   ],
   "source": [
    "stat = Counter()\n",
    "all_names = set()\n",
    "fo = open('/backup/wikidata/wiki_org_names.tmp', 'w')\n",
    "for l in open('/backup/wikidata/wiki_org.jsonl'):\n",
    "    j = json.loads(l)\n",
    "    names = list(qid_lab_get(int(j['id'][1:]), lang='en', include_alt=True).keys())\n",
    "    #names.update(j['names'])\n",
    "    ccs = set([q2cc[a] for a in j['location'] if a in q2cc])\n",
    "    if not j['location']:\n",
    "        stat['no_loc'] += 1\n",
    "    elif 'US' in ccs:\n",
    "        fo.write('\\t'.join(names)+'\\n')\n",
    "        stat['us'] += 1\n",
    "    else:\n",
    "        stat['non-us'] += 1\n",
    "    all_names.update([a for a in names if len(a)>2])\n",
    "fo.close()\n",
    "all_names = list(all_names)\n",
    "trie = Trie(all_names)\n",
    "print(len(all_names), len(trie), stat)"
   ]
  },
  {
   "cell_type": "code",
   "execution_count": 46,
   "id": "ca5e5c92",
   "metadata": {},
   "outputs": [
    {
     "name": "stdout",
     "output_type": "stream",
     "text": [
      "international business machines\n"
     ]
    }
   ],
   "source": [
    "# rearange all_names\n",
    "model = SentenceTransformer('sentence-transformers/all-mpnet-base-v2')\n",
    "all_names = [trie.restore_key(i) for i in range(len(trie))]\n",
    "vecs = model.encode(all_names)\n",
    "print(all_names[trie['international business machines']])"
   ]
  },
  {
   "cell_type": "code",
   "execution_count": 54,
   "id": "f00716fc",
   "metadata": {},
   "outputs": [
    {
     "data": {
      "text/plain": [
       "0.95381683"
      ]
     },
     "execution_count": 54,
     "metadata": {},
     "output_type": "execute_result"
    }
   ],
   "source": [
    "np.inner(vecs[trie['international business machines']], vecs[trie['international business machines corporation']])\n",
    "np.inner(vecs[trie['ibm']], vecs[trie['i.b.m.']])\n"
   ]
  },
  {
   "cell_type": "code",
   "execution_count": 68,
   "id": "6edbe05b",
   "metadata": {},
   "outputs": [
    {
     "name": "stdout",
     "output_type": "stream",
     "text": [
      "True\n",
      "469135\n"
     ]
    }
   ],
   "source": [
    "import faiss                   \n",
    "dimensionality = vecs.shape[1]\n",
    "quantizer = faiss.IndexFlatL2(dimensionality)\n",
    "index = faiss.IndexIVFFlat(quantizer, dimensionality, 100, faiss.METRIC_L2)\n",
    "\n",
    "index.train(vecs)\n",
    "print(index.is_trained)\n",
    "index.add(vecs)                  \n",
    "print(index.ntotal)"
   ]
  },
  {
   "cell_type": "code",
   "execution_count": 89,
   "id": "3f030c1b",
   "metadata": {},
   "outputs": [
    {
     "data": {
      "text/plain": [
       "[{'ind': 465953,\n",
       "  'dist': 0.09236614,\n",
       "  'name': 'international business machines corporation'},\n",
       " {'ind': 467404, 'dist': 0.5085323, 'name': 'international computers limited'},\n",
       " {'ind': 158242, 'dist': 0.6014789, 'name': 'innosoft international'},\n",
       " {'ind': 382576, 'dist': 0.6094106, 'name': 'business network international'},\n",
       " {'ind': 90693, 'dist': 0.6357165, 'name': 'iq infotech & co'},\n",
       " {'ind': 444981,\n",
       "  'dist': 0.63672066,\n",
       "  'name': 'integrated technologies & services international'},\n",
       " {'ind': 345783, 'dist': 0.6473044, 'name': 'intercorp'},\n",
       " {'ind': 88532, 'dist': 0.65288514, 'name': 'insoft inc.'},\n",
       " {'ind': 89963, 'dist': 0.65344036, 'name': 'idom inc.'}]"
      ]
     },
     "execution_count": 89,
     "metadata": {},
     "output_type": "execute_result"
    }
   ],
   "source": [
    "def find(s, n=10, onlyint=False, returnq=False):\n",
    "    sind = trie[s] if s in trie else None\n",
    "    if sind:\n",
    "        vec = vecs[sind]\n",
    "    else:\n",
    "        vec = model.encode([s])[0]        \n",
    "    D, I = index.search(vec.reshape(1, dimensionality), n)\n",
    "    ret = []\n",
    "    for dist, i in zip(D[0], I[0]):\n",
    "        if returnq or i != sind:\n",
    "            r = {'ind': i, 'dist': dist}\n",
    "            if not onlyint:\n",
    "                r['name'] = trie.restore_key(i)\n",
    "            ret.append(r)\n",
    "    return ret\n",
    "    \n",
    "\n",
    "find('international business machines')"
   ]
  },
  {
   "cell_type": "code",
   "execution_count": 118,
   "id": "214d36a3",
   "metadata": {},
   "outputs": [
    {
     "data": {
      "application/vnd.jupyter.widget-view+json": {
       "model_id": "2eacf54b969d4cdf8e73d12be0eed185",
       "version_major": 2,
       "version_minor": 0
      },
      "text/plain": [
       "  0%|          | 0/77498 [00:00<?, ?it/s]"
      ]
     },
     "metadata": {},
     "output_type": "display_data"
    }
   ],
   "source": [
    "from itertools import combinations\n",
    "from sklearn.model_selection import train_test_split\n",
    "br = 0\n",
    "n_negative = 10\n",
    "\n",
    "examples = []\n",
    "for l in tqdm(open('/backup/wikidata/wiki_org_names.tmp'), total=77498):\n",
    "    ls = [a for a in l.strip('\\n').split('\\t') if a]\n",
    "    if len(ls) > 1:\n",
    "        for n1, n2 in combinations(ls, 2):\n",
    "            examples.append((trie[n1], trie[n2], 1))\n",
    "    # hard negative\n",
    "    for n in ls:\n",
    "        uk = n_negative\n",
    "        for r in find(n, n=n_negative+5):\n",
    "            if r['name'] not in ls and r['name']:\n",
    "                examples.append((trie[n], trie[r['name']], 0))\n",
    "            uk -= 1\n",
    "            if uk == 0:\n",
    "                break\n",
    "    br += 1\n",
    "    #if br>100:\n",
    "    #    break\n",
    "\n",
    "ts = np.zeros((len(examples), 3))\n",
    "for i, (i1, i2, lab) in enumerate(examples):\n",
    "    ts[i] = (i1, i2, lab)\n",
    "    \n",
    "np.random.shuffle(ts)\n",
    "test_size = int(min(len(ts)*.1, 3000))\n",
    "\n",
    "np.savez_compressed('/backup/wikidata/name_similarity_ds', train=ts[test_size*2:], dev=ts[:test_size], test=ts[test_size:test_size*2])\n",
    "trie.save('/backup/wikidata/name_similarity_ds.trie')"
   ]
  },
  {
   "cell_type": "code",
   "execution_count": null,
   "id": "e6f220e9",
   "metadata": {},
   "outputs": [],
   "source": []
  }
 ],
 "metadata": {
  "kernelspec": {
   "display_name": "Python 3 (ipykernel)",
   "language": "python",
   "name": "python3"
  },
  "language_info": {
   "codemirror_mode": {
    "name": "ipython",
    "version": 3
   },
   "file_extension": ".py",
   "mimetype": "text/x-python",
   "name": "python",
   "nbconvert_exporter": "python",
   "pygments_lexer": "ipython3",
   "version": "3.10.5"
  }
 },
 "nbformat": 4,
 "nbformat_minor": 5
}

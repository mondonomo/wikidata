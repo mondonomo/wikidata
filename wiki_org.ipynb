{
 "cells": [
  {
   "cell_type": "code",
   "execution_count": 19,
   "id": "cde3adb0",
   "metadata": {},
   "outputs": [],
   "source": [
    "import json\n",
    "from collections import Counter, defaultdict\n",
    "from wiki_labels import qid_lab_get\n",
    "from wiki_location import q2cc\n",
    "from text_utils import cl\n",
    "import sys\n",
    "from tqdm.notebook import tqdm\n",
    "import gzip\n",
    "sys.path.insert(0, '/projekti/mondoAPI')\n",
    "from pnu.text_utils import norm_pname\n",
    "from pnu.detect_lang_scr import get_provenance\n",
    "\n",
    "WIKI_DIR = '/backup/wikidata'\n"
   ]
  },
  {
   "cell_type": "code",
   "execution_count": 2,
   "id": "08a5278b",
   "metadata": {},
   "outputs": [
    {
     "data": {
      "text/plain": [
       "(94, {'de', 'en', 'fr', 'it'})"
      ]
     },
     "execution_count": 2,
     "metadata": {},
     "output_type": "execute_result"
    }
   ],
   "source": [
    "# wiki lang to iso\n",
    "# TODO make separate script\n",
    "WIKI_DIR = '/backup/wikidata'\n",
    "api_key = open('airtable_key.txt').read()\n",
    "from pyairtable import Table, Api\n",
    "import sys\n",
    "sys.path.insert(0, '/projekti/nelma')\n",
    "from mondoDB.referencedb import provi\n",
    "\n",
    "if True:\n",
    "    lang2cc = defaultdict(Counter)\n",
    "    for k, v in provi.items():\n",
    "        lang, s, c = v['id'].split('_')\n",
    "        bod = float(v['Percent'])*3 if 'Percent' in v else 0\n",
    "        if 'Status' in v:\n",
    "            if v['Status'] == 'official':\n",
    "                bod += 1\n",
    "            elif v['Status'] == 'official_regional':\n",
    "                bod += 0.5\n",
    "            elif v['Status'] == 'de_facto_official':\n",
    "                bod += 0.9\n",
    "            elif v['Status'] == 'romanized':\n",
    "                bod += 0.2\n",
    "            elif v['Status'] == 'foreign':\n",
    "                bod += -0.5\n",
    "        if bod>1.1:\n",
    "            lang2cc[f'{lang}'][c] = max(bod, lang2cc[f'{lang}'][c])\n",
    "    api = Api(api_key)\n",
    "    w2iso = {t['fields']['WMF']: t['fields']['qid'] if 'qid' in t['fields'] else None for t in Table(api_key, 'appUZvAm9EHZgC1Eg', 'wiki_lang').all()}\n",
    "    wiki2cc = defaultdict(Counter)\n",
    "    for k, v in w2iso.items():\n",
    "        if len(k) == 2:\n",
    "            wiki2cc[v].update(lang2cc[k])\n",
    "        elif k.count('-') == 1:\n",
    "            a, b = k.split('-')\n",
    "            if len(a) == 2 and len(b) == 2:\n",
    "                wiki2cc[v][b.upper()] += 5 \n",
    "            elif len(a) == 2 and len(b) == 4:\n",
    "                #wiki2cc[v].update(lang2cc[f'{k}_{b.uppser()}'])\n",
    "                wiki2cc[v].update(lang2cc[a])\n",
    "    wikil2cc = {k: {cc: round(100*v2/max(v.values())) for cc, v2 in v.items()} for k, v in wiki2cc.items() if len(v)>0 and max(v.values())>0}\n",
    "\n",
    "cc2lang = defaultdict(set)\n",
    "for lang, ccs in lang2cc.items():\n",
    "    for cc in ccs:\n",
    "        if ccs[cc]>1:\n",
    "            cc2lang[cc].add(lang)\n",
    "iso2w = {k:v for v, k in w2iso.items()}\n",
    "\n",
    "wikil2cc['Q1860']['US'], cc2lang['CH']"
   ]
  },
  {
   "cell_type": "code",
   "execution_count": 22,
   "id": "34d4d07b",
   "metadata": {},
   "outputs": [],
   "source": [
    "fo = gzip.open('/projekti/data/companies/mondo_comp_wiki.csv.gz', 'wt')\n",
    "\n",
    "for l in open(f'{WIKI_DIR}/wiki_org.jsonl'):\n",
    "    j = json.loads(l)\n",
    "    qid = int(j['id'][1:])\n",
    "    ccs = Counter()\n",
    "    for q in j['location']:\n",
    "        if q in q2cc:\n",
    "            ccs[q2cc[q]] += 1\n",
    "    if len(ccs) > 0:\n",
    "        cc = ccs.most_common()[0][0]\n",
    "        if cc not in cc2lang:\n",
    "            raise NotImplementedError\n",
    "        labs = {}\n",
    "        # use companies names for languages in company country\n",
    "        for lang in cc2lang[cc]:\n",
    "            labs.update(qid_lab_get(qid, lang=lang, include_alt=True))\n",
    "        for l in labs:\n",
    "            prov,_ = get_provenance(l, cc)\n",
    "            if prov:\n",
    "                tow = f'{l}\\torg\\t{prov}\\n'\n",
    "                fo.write(tow)\n",
    "fo.close()            "
   ]
  },
  {
   "cell_type": "code",
   "execution_count": 14,
   "id": "e9221618",
   "metadata": {},
   "outputs": [
    {
     "data": {
      "text/plain": [
       "{'sabmiller': {'af',\n",
       "  'bg',\n",
       "  'ca',\n",
       "  'cs',\n",
       "  'da',\n",
       "  'de',\n",
       "  'el',\n",
       "  'en',\n",
       "  'en-ca',\n",
       "  'en-gb',\n",
       "  'es',\n",
       "  'fi',\n",
       "  'fr',\n",
       "  'hu',\n",
       "  'id',\n",
       "  'it',\n",
       "  'lmo',\n",
       "  'mk',\n",
       "  'ms',\n",
       "  'nb',\n",
       "  'nl',\n",
       "  'oc',\n",
       "  'pl',\n",
       "  'pt',\n",
       "  'pt-br',\n",
       "  'ro',\n",
       "  'ru',\n",
       "  'simple',\n",
       "  'sk',\n",
       "  'sv',\n",
       "  'tr',\n",
       "  'uk',\n",
       "  'vec'},\n",
       " 'sab miller': {'en', 'es', 'it', 'ro'},\n",
       " 'sabmiller group': {'en'},\n",
       " 'sabmiller plc': {'en', 'hu'}}"
      ]
     },
     "execution_count": 14,
     "metadata": {},
     "output_type": "execute_result"
    }
   ],
   "source": [
    "labs"
   ]
  }
 ],
 "metadata": {
  "kernelspec": {
   "display_name": "Python 3 (ipykernel)",
   "language": "python",
   "name": "python3"
  },
  "language_info": {
   "codemirror_mode": {
    "name": "ipython",
    "version": 3
   },
   "file_extension": ".py",
   "mimetype": "text/x-python",
   "name": "python",
   "nbconvert_exporter": "python",
   "pygments_lexer": "ipython3",
   "version": "3.10.5"
  }
 },
 "nbformat": 4,
 "nbformat_minor": 5
}

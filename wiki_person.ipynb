{
 "cells": [
  {
   "cell_type": "code",
   "execution_count": 33,
   "id": "125dcf97",
   "metadata": {},
   "outputs": [
    {
     "data": {
      "text/plain": [
       "dict_keys(['douglas adams'])"
      ]
     },
     "execution_count": 33,
     "metadata": {},
     "output_type": "execute_result"
    }
   ],
   "source": [
    "import json\n",
    "from collections import Counter, defaultdict\n",
    "from wiki_labels import qid_lab_get\n",
    "qid_lab_get(42, 'en').keys()"
   ]
  },
  {
   "cell_type": "code",
   "execution_count": 88,
   "id": "bc9a8704",
   "metadata": {},
   "outputs": [
    {
     "data": {
      "text/plain": [
       "94"
      ]
     },
     "execution_count": 88,
     "metadata": {},
     "output_type": "execute_result"
    }
   ],
   "source": [
    "# wiki lang to iso\n",
    "WIKI_DIR = '/backup/wikidata'\n",
    "api_key = open('airtable_key.txt')\n",
    "from pyairtable import Table, Api\n",
    "import sys\n",
    "sys.path.insert(0, '/projekti/nelma')\n",
    "from mondoDB.referencedb import provi\n",
    "\n",
    "if True:\n",
    "    lang2cc = defaultdict(Counter)\n",
    "    for k, v in provi.items():\n",
    "        lang, s, c = v['id'].split('_')\n",
    "        bod = float(v['Percent'])*3 if 'Percent' in v else 0\n",
    "        if 'Status' in v:\n",
    "            if v['Status'] == 'official':\n",
    "                bod += 1\n",
    "            elif v['Status'] == 'official_regional':\n",
    "                bod += 0.5\n",
    "            elif v['Status'] == 'de_facto_official':\n",
    "                bod += 0.9\n",
    "            elif v['Status'] == 'romanized':\n",
    "                bod += 0.2\n",
    "            elif v['Status'] == 'foreign':\n",
    "                bod += -0.5\n",
    "        if bod>0:\n",
    "            lang2cc[f'{lang}'][c] = max(bod, lang2cc[f'{lang}'][c])\n",
    "    api = Api(api_key)\n",
    "    w2iso = {t['fields']['WMF']: t['fields']['qid'] if 'qid' in t['fields'] else None for t in Table(api_key, 'appUZvAm9EHZgC1Eg', 'wiki_lang').all()}\n",
    "    wiki2cc = defaultdict(Counter)\n",
    "    for k, v in w2iso.items():\n",
    "        if len(k) == 2:\n",
    "            wiki2cc[v].update(lang2cc[k])\n",
    "        elif k.count('-') == 1:\n",
    "            a, b = k.split('-')\n",
    "            if len(a) == 2 and len(b) == 2:\n",
    "                wiki2cc[v][b.upper()] += 5 \n",
    "            elif len(a) == 2 and len(b) == 4:\n",
    "                #wiki2cc[v].update(lang2cc[f'{k}_{b.uppser()}'])\n",
    "                wiki2cc[v].update(lang2cc[a])\n",
    "    wikil2cc = {k: {cc: round(100*v2/max(v.values())) for cc, v2 in v.items()} for k, v in wiki2cc.items() if len(v)>0 and max(v.values())>0}\n",
    "    json.dump(wikil2cc, open(f'{WIKI_DIR}/wikil2cc.json', 'w'))\n",
    "else:\n",
    "    wikil2cc = json.load( open(f'{WIKI_DIR}/wikil2cc.json', 'r'))\n",
    "\n",
    "wikil2cc['Q1860']['US']"
   ]
  },
  {
   "cell_type": "code",
   "execution_count": 92,
   "id": "687a6bb3",
   "metadata": {},
   "outputs": [
    {
     "name": "stdout",
     "output_type": "stream",
     "text": [
      "US HR\n"
     ]
    }
   ],
   "source": [
    "from wiki_location import q2cc"
   ]
  },
  {
   "cell_type": "code",
   "execution_count": 96,
   "id": "ecf37331",
   "metadata": {},
   "outputs": [],
   "source": [
    "def get_wiki_cc(country, birth_place, language):\n",
    "    ccs = Counter()\n",
    "    for bp in birth_place:\n",
    "        if bp[5:] in q2cc:\n",
    "            ccs[q2cc[bp[5:]]] += 3\n",
    "    for cq in j['country']:\n",
    "        if cq[5:] in q2cc:\n",
    "            ccs[q2cc[cq[5:]]] += 1\n",
    "    for lng in language:\n",
    "        lng = lng[5:]\n",
    "        if lng in wikil2cc:\n",
    "            for cl,bod in wikil2cc[lng].items():\n",
    "                ccs[cl] += bod / 100\n",
    "    cc,_ = ccs.most_common()[0] if len(ccs)>0 else (None, None)\n",
    "    return cc\n",
    "    "
   ]
  },
  {
   "cell_type": "code",
   "execution_count": 110,
   "id": "b09a3c09",
   "metadata": {},
   "outputs": [
    {
     "name": "stdout",
     "output_type": "stream",
     "text": [
      "Q45209,TH,Poonsawat Kratingdaenggym,พูนสวัสดิ์ กระทิงแดงยิม\r\n",
      "Q52006,TH,Pen-Ek Karaket,เป็นเอก การะเกตุ\r\n",
      "Q57670,TH,Yingluck Shinawatra,ยิ่งลักษณ์ ชินวัตร\r\n",
      "Q74861,TH,Thanin Kraiwichian,ธานินทร์ กรัยวิเชียร\r\n",
      "Q78455,TH,Phra Chenduriyang (Piti Wathayakon),พระเจนดุริยางค์ (ปิติ วาทยะกร)\r\n",
      "Q158861,TH,Chulalongkorn,พระบาทสมเด็จพระจุลจอมเกล้าเจ้าอยู่หัว\r\n",
      "Q243623,TH,Samak Sunthorawet,สมัคร สุนทรเวช\r\n",
      "Q284211,TH,Prayad Boonya,ประหยัด บุญญา\r\n",
      "Q301290,TH,Phraya Phahonphonphayuhasena (Phot Phahonyothin),พระยาพหลพลพยุหเสนา (พจน์ พหลโยธิน)\r\n",
      "Q304412,TH,Narisara Nuwattiwong,สมเด็จพระเจ้าบรมวงศ์เธอ เจ้าฟ้ากรมพระยานริศรานุวัดติวงศ์\r\n"
     ]
    }
   ],
   "source": [
    "uk = 0\n",
    "fn = '/projekti/mondonomo/books/thai/thai_wiki.csv'\n",
    "fo = open(fn, 'w')\n",
    "fo2 = open(fn.replace('thai_', 'nonthai_'), 'w')\n",
    "for i, l in enumerate(open('/backup/wikidata/wiki_person.jsonl')):\n",
    "    j = json.loads(l)\n",
    "    cc = get_wiki_cc(j['country'], j['birth_place'], j['language'])\n",
    "    if 'en' in j['l'] and 'th' in j['l'] and cc:\n",
    "        native = j[\"name_native\"][0] if j[\"name_native\"] else ''\n",
    "        en = j[\"l\"][\"en\"][0].replace(',',' ')\n",
    "        th = j[\"l\"][\"th\"][0].replace(',',' ')\n",
    "        if cc == 'TH':\n",
    "            fo.write(f'{j[\"id\"]},{cc},{en},{th}\\n')\n",
    "        else:\n",
    "            fo2.write(f'{j[\"id\"]},{cc},{en},{th}\\n')\n",
    "        uk += 1\n",
    "fo.close()\n",
    "!head /projekti/mondonomo/books/thai/thai_wiki.csv"
   ]
  },
  {
   "cell_type": "code",
   "execution_count": 114,
   "id": "c3cdbd8d",
   "metadata": {},
   "outputs": [
    {
     "data": {
      "application/vnd.jupyter.widget-view+json": {
       "model_id": "5df9095438744b82a0dc756e9885f8a2",
       "version_major": 2,
       "version_minor": 0
      },
      "text/plain": [
       "  0%|          | 0/10044571 [00:00<?, ?it/s]"
      ]
     },
     "metadata": {},
     "output_type": "display_data"
    },
    {
     "name": "stdout",
     "output_type": "stream",
     "text": [
      "Q56220,HR,Ivo Sanader,Ivo Sanader\r\n",
      "Q71774,HR,Igor Bubnjić,Igor Bubnjić\r\n",
      "Q73376,HR,Wilhelm Ehm,Wilhelm Ehm\r\n",
      "Q92358,HR,Tom Bunk,Tom Bunk\r\n",
      "Q104440,HR,Vladimir Milojčić,Vladimir Milojčić\r\n",
      "Q112081,HR,Archduke Wilhelm of Austria,Nadvojvoda Vilim Austrijski\r\n",
      "Q114408,HR,Adolf Mussafia,Adolfo Mussafia\r\n",
      "Q143424,HR,Vedran Mataija,Vedran Mataija\r\n",
      "Q149090,HR,Ivan Ribar,Ivan Ribar\r\n",
      "Q152506,HR,Nina Badrić,Nina Badrić\r\n"
     ]
    }
   ],
   "source": [
    "from tqdm.notebook import tqdm\n",
    "uk = 0\n",
    "fn = '/backup/wikidata/hr_wiki.csv'\n",
    "fo = open(fn, 'w')\n",
    "fo2 = open(fn.replace('hr_', 'nonhr_'), 'w')\n",
    "for l in tqdm(open('/backup/wikidata/wiki_person.jsonl'), total=10_044_571):\n",
    "    j = json.loads(l)\n",
    "    cc = get_wiki_cc(j['country'], j['birth_place'], j['language'])\n",
    "    if 'en' in j['l'] and 'hr' in j['l'] and cc:\n",
    "        native = j[\"name_native\"][0] if j[\"name_native\"] else ''\n",
    "        en = j[\"l\"][\"en\"][0].replace(',',' ')\n",
    "        th = j[\"l\"][\"hr\"][0].replace(',',' ')\n",
    "        if cc == 'HR':\n",
    "            fo.write(f'{j[\"id\"]},{cc},{en},{th}\\n')\n",
    "        else:\n",
    "            fo2.write(f'{j[\"id\"]},{cc},{en},{th}\\n')\n",
    "        uk += 1\n",
    "fo.close()\n",
    "!head $fn"
   ]
  },
  {
   "cell_type": "code",
   "execution_count": 115,
   "id": "f5598f8b",
   "metadata": {},
   "outputs": [
    {
     "name": "stdout",
     "output_type": "stream",
     "text": [
      "6627 /backup/wikidata/hr_wiki.csv\r\n"
     ]
    }
   ],
   "source": [
    "!wc -l  $fn"
   ]
  }
 ],
 "metadata": {
  "kernelspec": {
   "display_name": "Python 3 (ipykernel)",
   "language": "python",
   "name": "python3"
  },
  "language_info": {
   "codemirror_mode": {
    "name": "ipython",
    "version": 3
   },
   "file_extension": ".py",
   "mimetype": "text/x-python",
   "name": "python",
   "nbconvert_exporter": "python",
   "pygments_lexer": "ipython3",
   "version": "3.10.5"
  }
 },
 "nbformat": 4,
 "nbformat_minor": 5
}

{
 "cells": [
  {
   "cell_type": "code",
   "execution_count": 1,
   "id": "125dcf97",
   "metadata": {},
   "outputs": [
    {
     "name": "stdout",
     "output_type": "stream",
     "text": [
      "US dict_keys(['douglas adams']) {'tokens': ['davor', 'lauc'], 'labels': ('fn1_hr_Latn_HR', 'ln_hr_Latn_HR'), 'counts': 483571.45267200004, 'prob': 96.51}\n"
     ]
    }
   ],
   "source": [
    "import sys\n",
    "sys.path.insert(0, '/projekti/mondoAPI')\n",
    "sys.path.insert(0, '/projekti/wikidata')\n",
    "\n",
    "import json\n",
    "from collections import Counter, defaultdict\n",
    "from wiki_labels import qid_lab_get\n",
    "from wikilang2iso import get_wiki_cc, iso2w, cc2lang, q2cc\n",
    "from text_utils import cl\n",
    "from pnu.parse import parse\n",
    "from text_utils import get_provenance\n",
    "from api.db import db\n",
    "from tqdm.notebook import tqdm\n",
    "import random\n",
    "\n",
    "print(get_wiki_cc({'country': ['Q161885','Q30'], 'birthplace': ['Q494413', 'Q216638'],\n",
    "                   'deathplace': ['Q731635']} ),\n",
    "        qid_lab_get(42, 'en').keys(), parse('davor lauc')['tags'][0])"
   ]
  },
  {
   "cell_type": "code",
   "execution_count": 4,
   "id": "ad2a9d0b",
   "metadata": {},
   "outputs": [
    {
     "data": {
      "application/vnd.jupyter.widget-view+json": {
       "model_id": "e2d8836a57c54b869823697af8148539",
       "version_major": 2,
       "version_minor": 0
      },
      "text/plain": [
       "  0%|          | 0/24969448 [00:00<?, ?it/s]"
      ]
     },
     "metadata": {},
     "output_type": "display_data"
    },
    {
     "ename": "JSONDecodeError",
     "evalue": "Unterminated string starting at: line 1 column 191 (char 190)",
     "output_type": "error",
     "traceback": [
      "\u001b[0;31m---------------------------------------------------------------------------\u001b[0m",
      "\u001b[0;31mJSONDecodeError\u001b[0m                           Traceback (most recent call last)",
      "Input \u001b[0;32mIn [4]\u001b[0m, in \u001b[0;36m<cell line: 6>\u001b[0;34m()\u001b[0m\n\u001b[1;32m      5\u001b[0m uk \u001b[38;5;241m=\u001b[39m \u001b[38;5;241m0\u001b[39m\n\u001b[1;32m      6\u001b[0m \u001b[38;5;28;01mfor\u001b[39;00m i, l \u001b[38;5;129;01min\u001b[39;00m tqdm(\u001b[38;5;28menumerate\u001b[39m(\u001b[38;5;28mopen\u001b[39m(\u001b[38;5;124m'\u001b[39m\u001b[38;5;124m/backup/wikidata/wikinelma.jsonl\u001b[39m\u001b[38;5;124m'\u001b[39m)), total\u001b[38;5;241m=\u001b[39m\u001b[38;5;241m24_969_448\u001b[39m):\n\u001b[0;32m----> 7\u001b[0m     j \u001b[38;5;241m=\u001b[39m \u001b[43mjson\u001b[49m\u001b[38;5;241;43m.\u001b[39;49m\u001b[43mloads\u001b[49m\u001b[43m(\u001b[49m\u001b[43ml\u001b[49m\u001b[43m)\u001b[49m\n\u001b[1;32m      8\u001b[0m     qid \u001b[38;5;241m=\u001b[39m \u001b[38;5;28mint\u001b[39m(j[\u001b[38;5;124m'\u001b[39m\u001b[38;5;124mwiki_id\u001b[39m\u001b[38;5;124m'\u001b[39m][\u001b[38;5;241m1\u001b[39m:])\n\u001b[1;32m      9\u001b[0m     tip \u001b[38;5;241m=\u001b[39m j[\u001b[38;5;124m'\u001b[39m\u001b[38;5;124mtype\u001b[39m\u001b[38;5;124m'\u001b[39m]\n",
      "File \u001b[0;32m/usr/lib/python3.10/json/__init__.py:346\u001b[0m, in \u001b[0;36mloads\u001b[0;34m(s, cls, object_hook, parse_float, parse_int, parse_constant, object_pairs_hook, **kw)\u001b[0m\n\u001b[1;32m    341\u001b[0m     s \u001b[38;5;241m=\u001b[39m s\u001b[38;5;241m.\u001b[39mdecode(detect_encoding(s), \u001b[38;5;124m'\u001b[39m\u001b[38;5;124msurrogatepass\u001b[39m\u001b[38;5;124m'\u001b[39m)\n\u001b[1;32m    343\u001b[0m \u001b[38;5;28;01mif\u001b[39;00m (\u001b[38;5;28mcls\u001b[39m \u001b[38;5;129;01mis\u001b[39;00m \u001b[38;5;28;01mNone\u001b[39;00m \u001b[38;5;129;01mand\u001b[39;00m object_hook \u001b[38;5;129;01mis\u001b[39;00m \u001b[38;5;28;01mNone\u001b[39;00m \u001b[38;5;129;01mand\u001b[39;00m\n\u001b[1;32m    344\u001b[0m         parse_int \u001b[38;5;129;01mis\u001b[39;00m \u001b[38;5;28;01mNone\u001b[39;00m \u001b[38;5;129;01mand\u001b[39;00m parse_float \u001b[38;5;129;01mis\u001b[39;00m \u001b[38;5;28;01mNone\u001b[39;00m \u001b[38;5;129;01mand\u001b[39;00m\n\u001b[1;32m    345\u001b[0m         parse_constant \u001b[38;5;129;01mis\u001b[39;00m \u001b[38;5;28;01mNone\u001b[39;00m \u001b[38;5;129;01mand\u001b[39;00m object_pairs_hook \u001b[38;5;129;01mis\u001b[39;00m \u001b[38;5;28;01mNone\u001b[39;00m \u001b[38;5;129;01mand\u001b[39;00m \u001b[38;5;129;01mnot\u001b[39;00m kw):\n\u001b[0;32m--> 346\u001b[0m     \u001b[38;5;28;01mreturn\u001b[39;00m \u001b[43m_default_decoder\u001b[49m\u001b[38;5;241;43m.\u001b[39;49m\u001b[43mdecode\u001b[49m\u001b[43m(\u001b[49m\u001b[43ms\u001b[49m\u001b[43m)\u001b[49m\n\u001b[1;32m    347\u001b[0m \u001b[38;5;28;01mif\u001b[39;00m \u001b[38;5;28mcls\u001b[39m \u001b[38;5;129;01mis\u001b[39;00m \u001b[38;5;28;01mNone\u001b[39;00m:\n\u001b[1;32m    348\u001b[0m     \u001b[38;5;28mcls\u001b[39m \u001b[38;5;241m=\u001b[39m JSONDecoder\n",
      "File \u001b[0;32m/usr/lib/python3.10/json/decoder.py:337\u001b[0m, in \u001b[0;36mJSONDecoder.decode\u001b[0;34m(self, s, _w)\u001b[0m\n\u001b[1;32m    332\u001b[0m \u001b[38;5;28;01mdef\u001b[39;00m \u001b[38;5;21mdecode\u001b[39m(\u001b[38;5;28mself\u001b[39m, s, _w\u001b[38;5;241m=\u001b[39mWHITESPACE\u001b[38;5;241m.\u001b[39mmatch):\n\u001b[1;32m    333\u001b[0m     \u001b[38;5;124;03m\"\"\"Return the Python representation of ``s`` (a ``str`` instance\u001b[39;00m\n\u001b[1;32m    334\u001b[0m \u001b[38;5;124;03m    containing a JSON document).\u001b[39;00m\n\u001b[1;32m    335\u001b[0m \n\u001b[1;32m    336\u001b[0m \u001b[38;5;124;03m    \"\"\"\u001b[39;00m\n\u001b[0;32m--> 337\u001b[0m     obj, end \u001b[38;5;241m=\u001b[39m \u001b[38;5;28;43mself\u001b[39;49m\u001b[38;5;241;43m.\u001b[39;49m\u001b[43mraw_decode\u001b[49m\u001b[43m(\u001b[49m\u001b[43ms\u001b[49m\u001b[43m,\u001b[49m\u001b[43m \u001b[49m\u001b[43midx\u001b[49m\u001b[38;5;241;43m=\u001b[39;49m\u001b[43m_w\u001b[49m\u001b[43m(\u001b[49m\u001b[43ms\u001b[49m\u001b[43m,\u001b[49m\u001b[43m \u001b[49m\u001b[38;5;241;43m0\u001b[39;49m\u001b[43m)\u001b[49m\u001b[38;5;241;43m.\u001b[39;49m\u001b[43mend\u001b[49m\u001b[43m(\u001b[49m\u001b[43m)\u001b[49m\u001b[43m)\u001b[49m\n\u001b[1;32m    338\u001b[0m     end \u001b[38;5;241m=\u001b[39m _w(s, end)\u001b[38;5;241m.\u001b[39mend()\n\u001b[1;32m    339\u001b[0m     \u001b[38;5;28;01mif\u001b[39;00m end \u001b[38;5;241m!=\u001b[39m \u001b[38;5;28mlen\u001b[39m(s):\n",
      "File \u001b[0;32m/usr/lib/python3.10/json/decoder.py:353\u001b[0m, in \u001b[0;36mJSONDecoder.raw_decode\u001b[0;34m(self, s, idx)\u001b[0m\n\u001b[1;32m    344\u001b[0m \u001b[38;5;124;03m\"\"\"Decode a JSON document from ``s`` (a ``str`` beginning with\u001b[39;00m\n\u001b[1;32m    345\u001b[0m \u001b[38;5;124;03ma JSON document) and return a 2-tuple of the Python\u001b[39;00m\n\u001b[1;32m    346\u001b[0m \u001b[38;5;124;03mrepresentation and the index in ``s`` where the document ended.\u001b[39;00m\n\u001b[0;32m   (...)\u001b[0m\n\u001b[1;32m    350\u001b[0m \n\u001b[1;32m    351\u001b[0m \u001b[38;5;124;03m\"\"\"\u001b[39;00m\n\u001b[1;32m    352\u001b[0m \u001b[38;5;28;01mtry\u001b[39;00m:\n\u001b[0;32m--> 353\u001b[0m     obj, end \u001b[38;5;241m=\u001b[39m \u001b[38;5;28;43mself\u001b[39;49m\u001b[38;5;241;43m.\u001b[39;49m\u001b[43mscan_once\u001b[49m\u001b[43m(\u001b[49m\u001b[43ms\u001b[49m\u001b[43m,\u001b[49m\u001b[43m \u001b[49m\u001b[43midx\u001b[49m\u001b[43m)\u001b[49m\n\u001b[1;32m    354\u001b[0m \u001b[38;5;28;01mexcept\u001b[39;00m \u001b[38;5;167;01mStopIteration\u001b[39;00m \u001b[38;5;28;01mas\u001b[39;00m err:\n\u001b[1;32m    355\u001b[0m     \u001b[38;5;28;01mraise\u001b[39;00m JSONDecodeError(\u001b[38;5;124m\"\u001b[39m\u001b[38;5;124mExpecting value\u001b[39m\u001b[38;5;124m\"\u001b[39m, s, err\u001b[38;5;241m.\u001b[39mvalue) \u001b[38;5;28;01mfrom\u001b[39;00m \u001b[38;5;28mNone\u001b[39m\n",
      "\u001b[0;31mJSONDecodeError\u001b[0m: Unterminated string starting at: line 1 column 191 (char 190)"
     ]
    }
   ],
   "source": [
    "fo = open('/projekti/mondodb_lm/wiki_train.tsv', 'w')\n",
    "fot = open('/projekti/mondodb_lm/wiki_test.tsv', 'w')\n",
    "fod = open('/projekti/mondodb_lm/wiki_dev.tsv', 'w')\n",
    "#fo.write('qid\\tname\\tfn\\tln\\tdesc\\tplace\\tdob\\timage\\tsort\\n')\n",
    "uk = 0\n",
    "for i, l in tqdm(enumerate(open('/backup/wikidata/wikinelma.jsonl')), total=24_969_448):\n",
    "    j = json.loads(l)\n",
    "    qid = int(j['wiki_id'][1:])\n",
    "    tip = j['type']\n",
    "    if tip == 'per':\n",
    "        cc = get_wiki_cc({'country': j['country'], 'birthplace': j['birth_place'], 'deathplace': j['death_place'],\n",
    "                          'language': j['native_language'], 'nationality': j['nationality']} )\n",
    "        if 'gender' in j and j['gender']==['WIKI_Q6581097']:\n",
    "            tip = 'per_1'\n",
    "        elif 'gender' in j and j['gender']==['WIKI_Q6581072']:\n",
    "            tip = 'per_2'\n",
    "    elif tip == 'loc':\n",
    "        if j['wiki_id'] in q2cc:\n",
    "            cc = q2cc[j['wiki_id']]\n",
    "        else:\n",
    "            cc = get_wiki_cc({'country': j['country'], 'headquarter': j['admin']} )\n",
    "    elif tip == 'org':\n",
    "        cc = get_wiki_cc({'country': j['country'], 'headquarter': j['headquarter']} )\n",
    "    else:\n",
    "        raise NotImplementedError\n",
    "\n",
    "    names = []\n",
    "    if 'native_language' in j and j['native_language']:\n",
    "        langs = Counter([iso2w[q[5:]] for q in j['native_language'] if q[5:] in iso2w])\n",
    "    else:\n",
    "        langs = Counter()\n",
    "    if cc and cc in cc2lang:\n",
    "        langs.update(cc2lang[cc])\n",
    "    rows = {}\n",
    "    for lang, f in langs.most_common():\n",
    "        for l in qid_lab_get(qid, lang, False):\n",
    "            if l not in rows:\n",
    "                rows[l] = lang\n",
    "        for l in qid_lab_get(qid, lang, True):\n",
    "            if l not in rows:\n",
    "                rows[l] = lang\n",
    "    for l, lang in rows.items():\n",
    "        prov = get_provenance(l, lang, no_countries=True)\n",
    "        if prov:\n",
    "            tow = f'{l}\\t{tip} {prov[0]}\\n'\n",
    "            r = random.random()\n",
    "            if r < .01:\n",
    "                fot.write(tow)\n",
    "            elif r < .02:\n",
    "                fod.write(tow)\n",
    "            else:\n",
    "                fo.write(tow)\n",
    "fo.close()\n",
    "fod.close()\n",
    "fot.close()"
   ]
  },
  {
   "cell_type": "code",
   "execution_count": 4,
   "id": "a84f7bd6",
   "metadata": {},
   "outputs": [
    {
     "data": {
      "text/plain": [
       "27137708"
      ]
     },
     "execution_count": 4,
     "metadata": {},
     "output_type": "execute_result"
    }
   ],
   "source": [
    "#qid_lab_get(31, 'fr', True)\n",
    "#q2cc['Q675848']\n",
    "uk"
   ]
  },
  {
   "cell_type": "code",
   "execution_count": 3,
   "id": "7f99ea0d",
   "metadata": {},
   "outputs": [
    {
     "data": {
      "text/plain": [
       "{'type': 'loc',\n",
       " 'country': ['WIKI_Q38'],\n",
       " 'geonames': [],\n",
       " 'admin': ['WIKI_Q18400'],\n",
       " 'population': [],\n",
       " 'wiki_id': 'Q55083490'}"
      ]
     },
     "execution_count": 3,
     "metadata": {},
     "output_type": "execute_result"
    }
   ],
   "source": [
    "j"
   ]
  }
 ],
 "metadata": {
  "kernelspec": {
   "display_name": "python310",
   "language": "python",
   "name": "python310"
  },
  "language_info": {
   "codemirror_mode": {
    "name": "ipython",
    "version": 3
   },
   "file_extension": ".py",
   "mimetype": "text/x-python",
   "name": "python",
   "nbconvert_exporter": "python",
   "pygments_lexer": "ipython3",
   "version": "3.10.5"
  }
 },
 "nbformat": 4,
 "nbformat_minor": 5
}

{
 "cells": [
  {
   "cell_type": "code",
   "execution_count": 6,
   "id": "125dcf97",
   "metadata": {},
   "outputs": [
    {
     "name": "stdout",
     "output_type": "stream",
     "text": [
      "US dict_keys(['douglas adams']) {'tokens': ['davor', 'lauc'], 'labels': ('fn1_hr_Latn_HR', 'ln_hr_Latn_HR'), 'counts': 483571.45267200004, 'prob': 96.51}\n"
     ]
    }
   ],
   "source": [
    "import sys\n",
    "sys.path.insert(0, '/projekti/mondoAPI')\n",
    "sys.path.insert(0, '/projekti/wikidata')\n",
    "\n",
    "import json\n",
    "from collections import Counter, defaultdict\n",
    "from wiki_labels import qid_lab_get\n",
    "from wikilang2iso import get_wiki_cc, iso2w, cc2lang, q2cc\n",
    "from text_utils import cl\n",
    "from pnu.parse import parse\n",
    "from text_utils import get_provenance\n",
    "from api.db import db\n",
    "from tqdm.notebook import tqdm\n",
    "import random\n",
    "\n",
    "print(get_wiki_cc({'country': ['Q161885','Q30'], 'birthplace': ['Q494413', 'Q216638'],\n",
    "                   'deathplace': ['Q731635']} ),\n",
    "        qid_lab_get(42, 'en').keys(), parse('davor lauc')['tags'][0])"
   ]
  },
  {
   "cell_type": "code",
   "execution_count": 1,
   "id": "ad2a9d0b",
   "metadata": {},
   "outputs": [
    {
     "ename": "NameError",
     "evalue": "name 'tqdm' is not defined",
     "output_type": "error",
     "traceback": [
      "\u001B[0;31m---------------------------------------------------------------------------\u001B[0m",
      "\u001B[0;31mNameError\u001B[0m                                 Traceback (most recent call last)",
      "Input \u001B[0;32mIn [1]\u001B[0m, in \u001B[0;36m<cell line: 6>\u001B[0;34m()\u001B[0m\n\u001B[1;32m      4\u001B[0m \u001B[38;5;66;03m#fo.write('qid\\tname\\tfn\\tln\\tdesc\\tplace\\tdob\\timage\\tsort\\n')\u001B[39;00m\n\u001B[1;32m      5\u001B[0m uk \u001B[38;5;241m=\u001B[39m \u001B[38;5;241m0\u001B[39m\n\u001B[0;32m----> 6\u001B[0m \u001B[38;5;28;01mfor\u001B[39;00m i, l \u001B[38;5;129;01min\u001B[39;00m \u001B[43mtqdm\u001B[49m(\u001B[38;5;28menumerate\u001B[39m(\u001B[38;5;28mopen\u001B[39m(\u001B[38;5;124m'\u001B[39m\u001B[38;5;124m/backup/wikidata/wikinelma.jsonl\u001B[39m\u001B[38;5;124m'\u001B[39m)), total\u001B[38;5;241m=\u001B[39m\u001B[38;5;241m24_969_448\u001B[39m):\n\u001B[1;32m      7\u001B[0m     j \u001B[38;5;241m=\u001B[39m json\u001B[38;5;241m.\u001B[39mloads(l)\n\u001B[1;32m      8\u001B[0m     qid \u001B[38;5;241m=\u001B[39m \u001B[38;5;28mint\u001B[39m(j[\u001B[38;5;124m'\u001B[39m\u001B[38;5;124mwiki_id\u001B[39m\u001B[38;5;124m'\u001B[39m][\u001B[38;5;241m1\u001B[39m:])\n",
      "\u001B[0;31mNameError\u001B[0m: name 'tqdm' is not defined"
     ]
    }
   ],
   "source": [
    "fo = open('/projekti/mondodb_lm/wiki_train.tsv', 'w')\n",
    "fot = open('/projekti/mondodb_lm/wiki_test.tsv', 'w')\n",
    "fod = open('/projekti/mondodb_lm/wiki_dev.tsv', 'w')\n",
    "#fo.write('qid\\tname\\tfn\\tln\\tdesc\\tplace\\tdob\\timage\\tsort\\n')\n",
    "uk = 0\n",
    "for i, l in tqdm(enumerate(open('/backup/wikidata/wikinelma.jsonl')), total=24_969_448):\n",
    "    j = json.loads(l)\n",
    "    qid = int(j['wiki_id'][1:])\n",
    "    tip = j['type']\n",
    "    if tip == 'per':\n",
    "        cc = get_wiki_cc({'country': j['country'], 'birthplace': j['birth_place'], 'deathplace': j['death_place'],\n",
    "                          'language': j['native_language'], 'nationality': j['nationality']} )\n",
    "    elif tip == 'loc':\n",
    "        if j['wiki_id'] in q2cc:\n",
    "            cc = q2cc[j['wiki_id']]\n",
    "        else:\n",
    "            cc = get_wiki_cc({'country': j['country'], 'headquarter': j['admin']} )\n",
    "    elif tip == 'org':\n",
    "        cc = get_wiki_cc({'country': j['country'], 'headquarter': j['headquarter']} )\n",
    "    else:\n",
    "        raise NotImplementedError\n",
    "\n",
    "    names = []\n",
    "    if 'native_language' in j and j['native_language']:\n",
    "        langs = Counter([iso2w[q[5:]] for q in j['native_language'] if q[5:] in iso2w])\n",
    "    else:\n",
    "        langs = Counter()\n",
    "    if cc and cc in cc2lang:\n",
    "        langs.update(cc2lang[cc])\n",
    "    rows = {}\n",
    "    for lang, f in langs.most_common():\n",
    "        for l in qid_lab_get(qid, lang, False):\n",
    "            if l not in rows:\n",
    "                rows[l] = lang\n",
    "        for l in qid_lab_get(qid, lang, True):\n",
    "            if l not in rows:\n",
    "                rows[l] = lang\n",
    "    for l, lang in rows.items():\n",
    "        prov = get_provenance(l, lang, no_countries=True)\n",
    "        if prov:\n",
    "            tow = f'{l}\\t{tip} {prov[0]}\\n'\n",
    "            r = random.random()\n",
    "            if r < .01:\n",
    "                fot.write(tow)\n",
    "            elif r < .02:\n",
    "                fod.write(tow)\n",
    "            else:\n",
    "                fo.write(tow)\n",
    "fo.close()\n",
    "fod.close()\n",
    "fot.close()"
   ]
  },
  {
   "cell_type": "code",
   "execution_count": 4,
   "id": "a84f7bd6",
   "metadata": {},
   "outputs": [
    {
     "data": {
      "text/plain": "27137708"
     },
     "execution_count": 4,
     "metadata": {},
     "output_type": "execute_result"
    }
   ],
   "source": [
    "#qid_lab_get(31, 'fr', True)\n",
    "#q2cc['Q675848']\n",
    "uk"
   ]
  },
  {
   "cell_type": "code",
   "execution_count": null,
   "outputs": [],
   "source": [],
   "metadata": {
    "collapsed": false
   }
  }
 ],
 "metadata": {
  "kernelspec": {
   "display_name": "python310",
   "language": "python",
   "name": "python310"
  },
  "language_info": {
   "codemirror_mode": {
    "name": "ipython",
    "version": 3
   },
   "file_extension": ".py",
   "mimetype": "text/x-python",
   "name": "python",
   "nbconvert_exporter": "python",
   "pygments_lexer": "ipython3",
   "version": "3.10.5"
  }
 },
 "nbformat": 4,
 "nbformat_minor": 5
}

{
 "cells": [
  {
   "cell_type": "code",
   "execution_count": 6,
   "id": "125dcf97",
   "metadata": {},
   "outputs": [
    {
     "name": "stdout",
     "output_type": "stream",
     "text": [
      "US dict_keys(['douglas adams']) {'tokens': ['davor', 'lauc'], 'labels': ('fn1_hr_Latn_HR', 'ln_hr_Latn_HR'), 'counts': 483571.45267200004, 'prob': 96.51}\n"
     ]
    }
   ],
   "source": [
    "import sys\n",
    "sys.path.insert(0, '/projekti/mondoAPI')\n",
    "sys.path.insert(0, '/projekti/wikidata')\n",
    "\n",
    "import json\n",
    "from collections import Counter, defaultdict\n",
    "from wiki_labels import qid_lab_get\n",
    "from wikilang2iso import get_wiki_cc, iso2w, cc2lang, q2cc\n",
    "from text_utils import cl\n",
    "from pnu.parse import parse\n",
    "from text_utils import get_provenance\n",
    "from api.db import db\n",
    "from tqdm.notebook import tqdm\n",
    "import random\n",
    "\n",
    "print(get_wiki_cc({'country': ['Q161885','Q30'], 'birthplace': ['Q494413', 'Q216638'],\n",
    "                   'deathplace': ['Q731635']} ),\n",
    "        qid_lab_get(42, 'en').keys(), parse('davor lauc')['tags'][0])"
   ]
  },
  {
   "cell_type": "code",
   "execution_count": 8,
   "id": "ad2a9d0b",
   "metadata": {},
   "outputs": [
    {
     "data": {
      "text/plain": "  0%|          | 0/24969448 [00:00<?, ?it/s]",
      "application/vnd.jupyter.widget-view+json": {
       "version_major": 2,
       "version_minor": 0,
       "model_id": "b771ba699da64595b213c617d2e64a67"
      }
     },
     "metadata": {},
     "output_type": "display_data"
    },
    {
     "ename": "KeyboardInterrupt",
     "evalue": "",
     "output_type": "error",
     "traceback": [
      "\u001B[0;31m---------------------------------------------------------------------------\u001B[0m",
      "\u001B[0;31mKeyboardInterrupt\u001B[0m                         Traceback (most recent call last)",
      "Input \u001B[0;32mIn [8]\u001B[0m, in \u001B[0;36m<cell line: 6>\u001B[0;34m()\u001B[0m\n\u001B[1;32m     37\u001B[0m             rows[l] \u001B[38;5;241m=\u001B[39m lang\n\u001B[1;32m     38\u001B[0m \u001B[38;5;28;01mfor\u001B[39;00m l, lang \u001B[38;5;129;01min\u001B[39;00m rows\u001B[38;5;241m.\u001B[39mitems():\n\u001B[0;32m---> 39\u001B[0m     prov \u001B[38;5;241m=\u001B[39m \u001B[43mget_provenance\u001B[49m\u001B[43m(\u001B[49m\u001B[43ml\u001B[49m\u001B[43m,\u001B[49m\u001B[43m \u001B[49m\u001B[43mlang\u001B[49m\u001B[43m,\u001B[49m\u001B[43m \u001B[49m\u001B[43mno_countries\u001B[49m\u001B[38;5;241;43m=\u001B[39;49m\u001B[38;5;28;43;01mTrue\u001B[39;49;00m\u001B[43m)\u001B[49m\n\u001B[1;32m     40\u001B[0m     \u001B[38;5;28;01mif\u001B[39;00m prov:\n\u001B[1;32m     41\u001B[0m         tow \u001B[38;5;241m=\u001B[39m \u001B[38;5;124mf\u001B[39m\u001B[38;5;124m'\u001B[39m\u001B[38;5;132;01m{\u001B[39;00ml\u001B[38;5;132;01m}\u001B[39;00m\u001B[38;5;130;01m\\t\u001B[39;00m\u001B[38;5;132;01m{\u001B[39;00mtip\u001B[38;5;132;01m}\u001B[39;00m\u001B[38;5;124m \u001B[39m\u001B[38;5;132;01m{\u001B[39;00mprov[\u001B[38;5;241m0\u001B[39m]\u001B[38;5;132;01m}\u001B[39;00m\u001B[38;5;130;01m\\n\u001B[39;00m\u001B[38;5;124m'\u001B[39m\n",
      "File \u001B[0;32m/projekti/wikidata/text_utils.py:84\u001B[0m, in \u001B[0;36mget_provenance\u001B[0;34m(text, wiki_lang, no_countries)\u001B[0m\n\u001B[1;32m     82\u001B[0m \u001B[38;5;28;01mif\u001B[39;00m wiki_lang \u001B[38;5;129;01mnot\u001B[39;00m \u001B[38;5;129;01min\u001B[39;00m wikilang2provenance:\n\u001B[1;32m     83\u001B[0m     \u001B[38;5;28;01mreturn\u001B[39;00m []\n\u001B[0;32m---> 84\u001B[0m scripts \u001B[38;5;241m=\u001B[39m \u001B[43mget_scripts\u001B[49m\u001B[43m(\u001B[49m\u001B[43mtext\u001B[49m\u001B[43m)\u001B[49m\n\u001B[1;32m     85\u001B[0m provs \u001B[38;5;241m=\u001B[39m \u001B[38;5;28mset\u001B[39m()\n\u001B[1;32m     86\u001B[0m \u001B[38;5;28;01mfor\u001B[39;00m prov \u001B[38;5;129;01min\u001B[39;00m wikilang2provenance[wiki_lang]:\n",
      "File \u001B[0;32m/projekti/wikidata/text_utils.py:74\u001B[0m, in \u001B[0;36mget_scripts\u001B[0;34m(s)\u001B[0m\n\u001B[1;32m     72\u001B[0m     \u001B[38;5;28;01mif\u001B[39;00m c \u001B[38;5;129;01min\u001B[39;00m detScript:\n\u001B[1;32m     73\u001B[0m         \u001B[38;5;28;01mfor\u001B[39;00m sc \u001B[38;5;129;01min\u001B[39;00m detScript[c]:\n\u001B[0;32m---> 74\u001B[0m             r[sc] \u001B[38;5;241m+\u001B[39m\u001B[38;5;241m=\u001B[39m \u001B[38;5;241m1\u001B[39m\n\u001B[1;32m     75\u001B[0m uk \u001B[38;5;241m=\u001B[39m \u001B[38;5;28msum\u001B[39m(r\u001B[38;5;241m.\u001B[39mvalues())\n\u001B[1;32m     76\u001B[0m r \u001B[38;5;241m=\u001B[39m {k: \u001B[38;5;28mround\u001B[39m(v \u001B[38;5;241m/\u001B[39m uk, \u001B[38;5;241m2\u001B[39m) \u001B[38;5;28;01mfor\u001B[39;00m k, v \u001B[38;5;129;01min\u001B[39;00m r\u001B[38;5;241m.\u001B[39mmost_common(n\u001B[38;5;241m=\u001B[39m\u001B[38;5;241m3\u001B[39m)}\n",
      "\u001B[0;31mKeyboardInterrupt\u001B[0m: "
     ]
    }
   ],
   "source": [
    "fo = open('/projekti/mondodb_lm/wiki_train.tsv', 'w')\n",
    "fot = open('/projekti/mondodb_lm/wiki_test.tsv', 'w')\n",
    "fod = open('/projekti/mondodb_lm/wiki_dev.tsv', 'w')\n",
    "#fo.write('qid\\tname\\tfn\\tln\\tdesc\\tplace\\tdob\\timage\\tsort\\n')\n",
    "uk = 0\n",
    "for i, l in tqdm(enumerate(open('/backup/wikidata/wikinelma.jsonl')), total=24_969_448):\n",
    "    j = json.loads(l)\n",
    "    qid = int(j['wiki_id'][1:])\n",
    "    tip = j['type']\n",
    "    if tip == 'per':\n",
    "        cc = get_wiki_cc({'country': j['country'], 'birthplace': j['birth_place'], 'deathplace': j['death_place'],\n",
    "                          'language': j['native_language'], 'nationality': j['nationality']} )\n",
    "    elif tip == 'loc':\n",
    "        if j['wiki_id'] in q2cc:\n",
    "            cc = q2cc[j['wiki_id']]\n",
    "        else:\n",
    "            cc = get_wiki_cc({'country': j['country'], 'headquarter': j['admin']} )\n",
    "    elif tip == 'org':\n",
    "        cc = get_wiki_cc({'country': j['country'], 'headquarter': j['headquarter']} )\n",
    "    else:\n",
    "        raise NotImplementedError\n",
    "\n",
    "    names = []\n",
    "    if 'native_language' in j and j['native_language']:\n",
    "        langs = Counter([iso2w[q[5:]] for q in j['native_language'] if q[5:] in iso2w])\n",
    "    else:\n",
    "        langs = Counter()\n",
    "    if cc and cc in cc2lang:\n",
    "        langs.update(cc2lang[cc])\n",
    "    rows = {}\n",
    "    for lang, f in langs.most_common():\n",
    "        for l in qid_lab_get(qid, lang, False):\n",
    "            if l not in rows:\n",
    "                rows[l] = lang\n",
    "        for l in qid_lab_get(qid, lang, True):\n",
    "            if l not in rows:\n",
    "                rows[l] = lang\n",
    "    for l, lang in rows.items():\n",
    "        prov = get_provenance(l, lang, no_countries=True)\n",
    "        if prov:\n",
    "            tow = f'{l}\\t{tip} {prov[0]}\\n'\n",
    "            r = random.random()\n",
    "            if r < 0.05:\n",
    "                fot.write(tow)\n",
    "            elif r < .1:\n",
    "                fod.write(tow)\n",
    "            else:\n",
    "                fo.write(tow)\n",
    "fo.close()\n",
    "fod.close()\n",
    "fot.close()"
   ]
  },
  {
   "cell_type": "code",
   "execution_count": 4,
   "id": "a84f7bd6",
   "metadata": {},
   "outputs": [
    {
     "data": {
      "text/plain": "27137708"
     },
     "execution_count": 4,
     "metadata": {},
     "output_type": "execute_result"
    }
   ],
   "source": [
    "#qid_lab_get(31, 'fr', True)\n",
    "#q2cc['Q675848']\n",
    "uk"
   ]
  },
  {
   "cell_type": "code",
   "execution_count": null,
   "outputs": [],
   "source": [],
   "metadata": {
    "collapsed": false
   }
  }
 ],
 "metadata": {
  "kernelspec": {
   "display_name": "python310",
   "language": "python",
   "name": "python310"
  },
  "language_info": {
   "codemirror_mode": {
    "name": "ipython",
    "version": 3
   },
   "file_extension": ".py",
   "mimetype": "text/x-python",
   "name": "python",
   "nbconvert_exporter": "python",
   "pygments_lexer": "ipython3",
   "version": "3.10.5"
  }
 },
 "nbformat": 4,
 "nbformat_minor": 5
}

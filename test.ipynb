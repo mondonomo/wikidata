{
 "cells": [
  {
   "cell_type": "code",
   "execution_count": 73,
   "id": "ecbc5270",
   "metadata": {},
   "outputs": [
    {
     "name": "stdout",
     "output_type": "stream",
     "text": [
      "1162091760 1.0 0.0\n"
     ]
    }
   ],
   "source": [
    "import numpy as np\n",
    "from scipy.sparse import load_npz, lil_matrix, identity, csr_matrix\n",
    "from sklearn.preprocessing import normalize\n",
    "import gzip\n",
    "import json\n",
    "\n",
    "sl = load_npz('data/graph4sparse_1.npz')\n",
    "print(sl.count_nonzero(), sl.max(), sl.min())\n"
   ]
  },
  {
   "cell_type": "code",
   "execution_count": null,
   "id": "cee4fd32",
   "metadata": {},
   "outputs": [
    {
     "name": "stdout",
     "output_type": "stream",
     "text": [
      "b'78404883\\t4151\\t200\\n'\n"
     ]
    }
   ],
   "source": [
    "fi = gzip.open('data/wikidata_translation_v1.tsv.gz', 'rb')\n",
    "j = json.load(open(f'data/label4sparse.json'))\n",
    "QUS = int(j['maxq'])\n",
    "\n",
    "bigq = np.zeros((QUS, 200), dtype=np.half)\n",
    "print(fi.readline())\n",
    "uk = 0\n",
    "for l in fi:\n",
    "    l = l.decode().split('\\t')\n",
    "    if '<http://www.wikidata.org/entity/Q' in l[0]:\n",
    "        qid = int(l[0].replace('<http://www.wikidata.org/entity/Q', '').replace('>', ''))\n",
    "        bigq[qid] = [np.half(a) for a in l[1:]]\n",
    "        uk += 1\n",
    "        \n",
    "print(uk)"
   ]
  },
  {
   "cell_type": "code",
   "execution_count": null,
   "id": "45517aba",
   "metadata": {},
   "outputs": [],
   "source": [
    "np.savez_compressed('data/bigq', vectors=bigq)"
   ]
  },
  {
   "cell_type": "code",
   "execution_count": 45,
   "id": "7489402c",
   "metadata": {},
   "outputs": [],
   "source": [
    "qids = ['Q28865', 'Q271218', 'Q10811', 'Q2407', 'Q842014', 'Q21198', 'Q420', 'Q80006', 'Q460387', 'Q179012']\n",
    "desc = ['Python language', 'Python snake', 'Reptils', 'C++', 'Django Python', 'Computer Science', 'Biology', 'Computer Programming', 'Scrum', 'Project management']\n",
    "\n",
    "qs = [int(a[1:]) for a in qids]"
   ]
  },
  {
   "cell_type": "code",
   "execution_count": null,
   "id": "b9780aa6",
   "metadata": {},
   "outputs": [],
   "source": []
  },
  {
   "cell_type": "code",
   "execution_count": 57,
   "id": "e301a4e1",
   "metadata": {},
   "outputs": [
    {
     "data": {
      "text/plain": [
       "28990031"
      ]
     },
     "execution_count": 57,
     "metadata": {},
     "output_type": "execute_result"
    }
   ],
   "source": [
    "qrank = np.zeros((1152625061), int)\n",
    "import gzip\n",
    "fi = gzip.open('/backup/wikidata/qrank.csv.gz', 'rb')\n",
    "fi.readline()\n",
    "uk = 0\n",
    "for l in fi:\n",
    "    q, r = l.decode().strip('\\n').split(',')\n",
    "    qrank[int(q[1:])] = int(r)\n",
    "    uk += 1\n",
    "print(uk), print([qrank[int(q[1:])] for q in qids])"
   ]
  },
  {
   "cell_type": "code",
   "execution_count": 70,
   "id": "3344b333",
   "metadata": {},
   "outputs": [
    {
     "ename": "TypeError",
     "evalue": "'_typedict' object is not callable",
     "output_type": "error",
     "traceback": [
      "\u001b[0;31m---------------------------------------------------------------------------\u001b[0m",
      "\u001b[0;31mTypeError\u001b[0m                                 Traceback (most recent call last)",
      "Input \u001b[0;32mIn [70]\u001b[0m, in \u001b[0;36m<cell line: 2>\u001b[0;34m()\u001b[0m\n\u001b[1;32m      1\u001b[0m qrankl \u001b[38;5;241m=\u001b[39m np\u001b[38;5;241m.\u001b[39mlog(qrank\u001b[38;5;241m+\u001b[39m\u001b[38;5;241m.0001\u001b[39m)\n\u001b[0;32m----> 2\u001b[0m qrankl \u001b[38;5;241m=\u001b[39m \u001b[43mnp\u001b[49m\u001b[38;5;241;43m.\u001b[39;49m\u001b[43mcast\u001b[49m\u001b[43m(\u001b[49m\u001b[43mqrankl\u001b[49m\u001b[43m \u001b[49m\u001b[38;5;241;43m/\u001b[39;49m\u001b[43m \u001b[49m\u001b[43mqrankl\u001b[49m\u001b[38;5;241;43m.\u001b[39;49m\u001b[43mmax\u001b[49m\u001b[43m(\u001b[49m\u001b[43m)\u001b[49m\u001b[43m,\u001b[49m\u001b[43m \u001b[49m\u001b[43mnp\u001b[49m\u001b[38;5;241;43m.\u001b[39;49m\u001b[43mhalf\u001b[49m\u001b[43m)\u001b[49m\n",
      "\u001b[0;31mTypeError\u001b[0m: '_typedict' object is not callable"
     ]
    }
   ],
   "source": [
    "qrankl = np.log(qrank+.0001)\n",
    "qrankl = np.cast(qrankl / qrankl.max(), np.half)"
   ]
  },
  {
   "cell_type": "code",
   "execution_count": 69,
   "id": "39e12296",
   "metadata": {},
   "outputs": [
    {
     "name": "stdout",
     "output_type": "stream",
     "text": [
      "Python language Python language 13740291 0.8556477584951567 2.0\n",
      "Python language Python snake 272866 0.6516195842311826 0.0\n",
      "Python language Reptils 2900452 0.7746704158309173 0.01\n",
      "Python language C++ 3650 0.427020125032955 1.7\n",
      "Python language Django Python 639953 0.6959961364416117 0.14\n",
      "Python language Computer Science 3131053 0.7786531403258956 0.3\n",
      "Python language Biology 4208329 0.7940470489239255 0.06\n",
      "Python language Computer Programming 1887097 0.7522936848070895 0.56\n",
      "Python language Scrum 2065137 0.756987240720752 0.16\n",
      "Python language Project management 1453877 0.7387161656483875 0.05\n",
      "Python snake Python snake 272866 0.6516195842311826 1.66\n",
      "Python snake Reptils 2900452 0.7746704158309173 0.18\n",
      "Python snake C++ 3650 0.427020125032955 0.0\n",
      "Python snake Django Python 639953 0.6959961364416117 0.0\n",
      "Python snake Computer Science 3131053 0.7786531403258956 0.0\n",
      "Python snake Biology 4208329 0.7940470489239255 0.01\n",
      "Python snake Computer Programming 1887097 0.7522936848070895 0.0\n",
      "Python snake Scrum 2065137 0.756987240720752 0.0\n",
      "Python snake Project management 1453877 0.7387161656483875 0.0\n",
      "Reptils Reptils 2900452 0.7746704158309173 1.89\n",
      "Reptils C++ 3650 0.427020125032955 0.0\n",
      "Reptils Django Python 639953 0.6959961364416117 0.0\n",
      "Reptils Computer Science 3131053 0.7786531403258956 0.05\n",
      "Reptils Biology 4208329 0.7940470489239255 0.13\n",
      "Reptils Computer Programming 1887097 0.7522936848070895 0.05\n",
      "Reptils Scrum 2065137 0.756987240720752 0.01\n",
      "Reptils Project management 1453877 0.7387161656483875 0.09\n",
      "C++ C++ 3650 0.427020125032955 2.0\n",
      "C++ Django Python 639953 0.6959961364416117 0.0\n",
      "C++ Computer Science 3131053 0.7786531403258956 0.0\n",
      "C++ Biology 4208329 0.7940470489239255 0.0\n",
      "C++ Computer Programming 1887097 0.7522936848070895 0.31\n",
      "C++ Scrum 2065137 0.756987240720752 0.02\n",
      "C++ Project management 1453877 0.7387161656483875 0.01\n",
      "Django Python Django Python 639953 0.6959961364416117 1.86\n",
      "Django Python Computer Science 3131053 0.7786531403258956 0.0\n",
      "Django Python Biology 4208329 0.7940470489239255 0.02\n",
      "Django Python Computer Programming 1887097 0.7522936848070895 0.02\n",
      "Django Python Scrum 2065137 0.756987240720752 0.02\n",
      "Django Python Project management 1453877 0.7387161656483875 0.02\n",
      "Computer Science Computer Science 3131053 0.7786531403258956 2.0\n",
      "Computer Science Biology 4208329 0.7940470489239255 0.51\n",
      "Computer Science Computer Programming 1887097 0.7522936848070895 0.67\n",
      "Computer Science Scrum 2065137 0.756987240720752 0.02\n",
      "Computer Science Project management 1453877 0.7387161656483875 0.27\n",
      "Biology Biology 4208329 0.7940470489239255 2.0\n",
      "Biology Computer Programming 1887097 0.7522936848070895 0.5\n",
      "Biology Scrum 2065137 0.756987240720752 0.05\n",
      "Biology Project management 1453877 0.7387161656483875 0.56\n",
      "Computer Programming Computer Programming 1887097 0.7522936848070895 2.0\n",
      "Computer Programming Scrum 2065137 0.756987240720752 0.23\n",
      "Computer Programming Project management 1453877 0.7387161656483875 0.29\n",
      "Scrum Scrum 2065137 0.756987240720752 2.0\n",
      "Scrum Project management 1453877 0.7387161656483875 1.2\n",
      "Project management Project management 1453877 0.7387161656483875 2.0\n"
     ]
    }
   ],
   "source": [
    "#%%timeit\n",
    "#sl[qs].todense()[:,qs]\n",
    "#m = normalize(sl[qs], norm='l2', axis=1)\n",
    "m = sl[qs]\n",
    "slic = m*m.T\n",
    "slic.data = np.minimum(slic.data / 5., 1)\n",
    "\n",
    "slic = (slic / slic.max()) + m.todense()[:,qs]\n",
    "#slic = m.todense()[:,qs]\n",
    "\n",
    "for i in range(len(qs)):\n",
    "    for j in range(len(qs)):\n",
    "        if i <= j:\n",
    "            print(desc[i], desc[j], qrank[qs[j]], qrankl[qs[j]], round(slic[i, j], 2))\n",
    "    "
   ]
  },
  {
   "cell_type": "code",
   "execution_count": 41,
   "id": "504bceca",
   "metadata": {},
   "outputs": [
    {
     "data": {
      "text/plain": [
       "matrix([[0. , 0. , 0. ],\n",
       "        [0. , 0. , 0. ],\n",
       "        [0.8, 0. , 0. ]])"
      ]
     },
     "execution_count": 41,
     "metadata": {},
     "output_type": "execute_result"
    }
   ],
   "source": [
    "m = csr_matrix([[0,0,0],[1,0,0],[0,1,0],])\n",
    "m = m*m*0.8\n",
    "m.todense()"
   ]
  }
 ],
 "metadata": {
  "kernelspec": {
   "display_name": "Python 3 (ipykernel)",
   "language": "python",
   "name": "python3"
  },
  "language_info": {
   "codemirror_mode": {
    "name": "ipython",
    "version": 3
   },
   "file_extension": ".py",
   "mimetype": "text/x-python",
   "name": "python",
   "nbconvert_exporter": "python",
   "pygments_lexer": "ipython3",
   "version": "3.10.5"
  }
 },
 "nbformat": 4,
 "nbformat_minor": 5
}

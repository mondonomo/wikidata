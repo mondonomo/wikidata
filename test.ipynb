{
 "cells": [
  {
   "cell_type": "code",
   "execution_count": null,
   "id": "ecbc5270",
   "metadata": {},
   "outputs": [],
   "source": [
    "import numpy as np\n",
    "from scipy.sparse import load_npz, lil_matrix, identity, csr_matrix\n",
    "from sklearn.preprocessing import normalize\n",
    "import gzip\n",
    "import json\n",
    "from tqdm.notebook import tqdm\n",
    "\n",
    "sl = load_npz('data/graph4sparse_1.npz')\n",
    "print(sl.count_nonzero(), sl.max(), sl.min())\n"
   ]
  },
  {
   "cell_type": "code",
   "execution_count": null,
   "id": "b21741db",
   "metadata": {},
   "outputs": [],
   "source": [
    "if False:\n",
    "    fi = gzip.open('data/wikidata_translation_v1.tsv.gz', 'rb')\n",
    "    j = json.load(open(f'data/label4sparse.json'))\n",
    "    QUS = int(j['maxq'])\n",
    "\n",
    "    bigq = np.zeros((QUS, 200), dtype=np.half)\n",
    "    print(fi.readline())\n",
    "    uk = 0\n",
    "    for l in tqdm(fi, total=143_121_769):\n",
    "        l = l.decode().split('\\t')\n",
    "        if '<http://www.wikidata.org/entity/Q' in l[0]:\n",
    "            try:\n",
    "                qid = int(l[0].replace('<http://www.wikidata.org/entity/Q', '').replace('>', ''))\n",
    "                bigq[qid] = [np.half(a) for a in l[1:]]\n",
    "                uk += 1\n",
    "            except Exception as e:\n",
    "                pass\n",
    "    np.savez_compressed('data/bigq', vectors=bigq)        \n",
    "    print(uk)\n",
    "else:\n",
    "    bigq = np.load('data/bigq.npz')['vectors']\n",
    "print(bigq.shape)"
   ]
  },
  {
   "cell_type": "code",
   "execution_count": null,
   "id": "e301a4e1",
   "metadata": {},
   "outputs": [],
   "source": [
    "if False:\n",
    "    qrank = np.zeros((1152625061), int)\n",
    "    fi = gzip.open('/backup/wikidata/qrank.csv.gz', 'rb')\n",
    "    fi.readline()\n",
    "    uk = 0\n",
    "    for l in fi:\n",
    "        q, r = l.decode().strip('\\n').split(',')\n",
    "        qrank[int(q[1:])] = int(r)\n",
    "        uk += 1\n",
    "    qrank = np.log(qrank+.0001)\n",
    "    qrank = (qrank / qrank.max()).astype(np.half)\n",
    "    print(uk)#, print([qrank[int(q[1:])] for q in qids])\n",
    "    np.savez_compressed('data/qrank', vectors=qrank)        \n",
    "else:\n",
    "    qrank = np.load('data/qrank.npz')['vectors']\n",
    "print(qrank.shape)"
   ]
  },
  {
   "cell_type": "code",
   "execution_count": null,
   "id": "1f58d62a",
   "metadata": {},
   "outputs": [],
   "source": [
    "#!pip install tensorflow_hub\n",
    "import tensorflow as tf\n",
    "import tensorflow_hub as hub\n",
    "\n",
    "module_url = \"https://tfhub.dev/google/universal-sentence-encoder-large/5\"\n",
    "model = hub.load(module_url)\n",
    "m = model(['python programmer', 'python snake', 'computer science', 'biology', 'c++ programming language'])\n",
    "np.inner(m, m)"
   ]
  },
  {
   "cell_type": "code",
   "execution_count": null,
   "id": "7489402c",
   "metadata": {},
   "outputs": [],
   "source": [
    "qids = ['Q28865', 'Q271218', 'Q10811', 'Q2407', 'Q842014', 'Q21198', 'Q420', 'Q80006', 'Q460387', 'Q179012']\n",
    "desc = ['Python language', 'Python snake', 'Reptils', 'C++', 'Django Python', 'Computer Science', 'Biology', 'Computer Programming', 'Scrum', 'Project management']\n",
    "\n",
    "qs = [int(a[1:]) for a in qids]"
   ]
  },
  {
   "cell_type": "code",
   "execution_count": null,
   "id": "39e12296",
   "metadata": {},
   "outputs": [],
   "source": [
    "#%%timeit\n",
    "#sl[qs].todense()[:,qs]\n",
    "#m = normalize(sl[qs], norm='l2', axis=1)\n",
    "m = sl[qs]\n",
    "slic = m*m.T\n",
    "slic.data = np.minimum(slic.data / 5., 1)\n",
    "\n",
    "slic = (slic / slic.max()) + m.todense()[:,qs]\n",
    "#slic = m.todense()[:,qs]\n",
    "\n",
    "for i in range(len(qs)):\n",
    "    for j in range(len(qs)):\n",
    "        if i <= j:\n",
    "            print(desc[i], desc[j], qrank[qs[j]], qrankl[qs[j]], round(slic[i, j], 2))\n",
    "    "
   ]
  },
  {
   "cell_type": "code",
   "execution_count": null,
   "id": "504bceca",
   "metadata": {},
   "outputs": [],
   "source": [
    "m = csr_matrix([[0,0,0],[1,0,0],[0,1,0],])\n",
    "m = m*m*0.8\n",
    "m.todense()"
   ]
  },
  {
   "cell_type": "code",
   "execution_count": null,
   "id": "f9221cf8",
   "metadata": {},
   "outputs": [],
   "source": [
    "from wiki_labels import find_qid, qid_en_desc_get, qid_lab_get, descl, tried\n",
    "tried['common name of Homo sapiens, unique extant species of the genus Homo']"
   ]
  },
  {
   "cell_type": "code",
   "execution_count": 3,
   "id": "317a58ff",
   "metadata": {},
   "outputs": [
    {
     "data": {
      "text/plain": [
       "'English science fiction writer and humourist (1952–2001)'"
      ]
     },
     "execution_count": 3,
     "metadata": {},
     "output_type": "execute_result"
    }
   ],
   "source": [
    "qid_en_desc_get(42)"
   ]
  },
  {
   "cell_type": "code",
   "execution_count": null,
   "id": "71b03ba9",
   "metadata": {},
   "outputs": [],
   "source": []
  }
 ],
 "metadata": {
  "kernelspec": {
   "display_name": "Python 3 (ipykernel)",
   "language": "python",
   "name": "python3"
  },
  "language_info": {
   "codemirror_mode": {
    "name": "ipython",
    "version": 3
   },
   "file_extension": ".py",
   "mimetype": "text/x-python",
   "name": "python",
   "nbconvert_exporter": "python",
   "pygments_lexer": "ipython3",
   "version": "3.10.5"
  }
 },
 "nbformat": 4,
 "nbformat_minor": 5
}

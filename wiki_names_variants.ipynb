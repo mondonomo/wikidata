{
 "cells": [
  {
   "cell_type": "code",
   "execution_count": 16,
   "id": "830f5eae",
   "metadata": {},
   "outputs": [
    {
     "name": "stdout",
     "output_type": "stream",
     "text": [
      "{'en_Latn'}\n",
      "{'eu_Latn', 'zh_Latn', 'mt_Latn', 'vi_Latn', 'pt_Latn', 'kk_Latn', 'lb_Latn', 'sv_Latn', 'my_Latn', 'nn_Latn', 'id_Latn', 'lt_Latn', 'uk_Latn', 'fi_Latn', 'nb_Latn', 'ru_Latn', 'en_Latn', 'tr_Latn', 'da_Latn', 'hu_Latn', 'fa_Latn', 'fr_Latn', 'ar_Latn', 'cs_Latn'}\n"
     ]
    }
   ],
   "source": [
    "import sys\n",
    "sys.path.insert(0, '/projekti/wikidata')\n",
    "import os\n",
    "from collections import defaultdict, Counter\n",
    "from text_utils import remove_reg, tokenise, get_provenance\n",
    "from itertools import combinations, product\n",
    "import json\n",
    "import numpy as np\n",
    "from tqdm.auto import tqdm\n",
    "from wiki_labels import qid_lab_get\n",
    "\n",
    "print(qid_lab_get(177053, include_alt=True)['mr'])\n",
    "print(qid_lab_get(191701, include_alt=True)['mba'])"
   ]
  },
  {
   "cell_type": "code",
   "execution_count": 4,
   "id": "98135616-8a7b-47af-8949-9bed8be368d3",
   "metadata": {},
   "outputs": [
    {
     "name": "stdout",
     "output_type": "stream",
     "text": [
      "640755 /backup/wikidata/wikiname.jsonl\n"
     ]
    }
   ],
   "source": [
    "!wc -l /backup/wikidata/wikiname.jsonl"
   ]
  },
  {
   "cell_type": "code",
   "execution_count": 29,
   "id": "b14fecbd",
   "metadata": {},
   "outputs": [
    {
     "data": {
      "application/vnd.jupyter.widget-view+json": {
       "model_id": "83c37859e9664636bc520062e646468b",
       "version_major": 2,
       "version_minor": 0
      },
      "text/plain": [
       "  0%|          | 0/640755 [00:00<?, ?it/s]"
      ]
     },
     "metadata": {},
     "output_type": "display_data"
    },
    {
     "data": {
      "text/plain": [
       "286357"
      ]
     },
     "execution_count": 29,
     "metadata": {},
     "output_type": "execute_result"
    }
   ],
   "source": [
    "pairs = Counter()\n",
    "for l in tqdm(open('/backup/wikidata/wikiname.jsonl'), total=640755):\n",
    "    j = json.loads(l)\n",
    "    sim = [int(a.replace('WIKI_Q', '').replace('Q', '')) for a in j['variants']+[j['wiki_id']] if 'P' not in a]\n",
    "    for w1, w2 in combinations(sim, 2):\n",
    "        w1, w2 = qid_lab_get(w1), qid_lab_get(w2)\n",
    "        for v1, v2 in product(w1.keys(), w2.keys()):\n",
    "            if v1<v2 and w1[v1].intersection(w2[v2]):\n",
    "                pairs[(v1, v2)] += 1\n",
    "    #break\n",
    "len(pairs)"
   ]
  },
  {
   "cell_type": "code",
   "execution_count": 33,
   "id": "7ff9e7ed",
   "metadata": {},
   "outputs": [],
   "source": [
    "import oracledb\n",
    "\n",
    "tls = 'db202201301230_high'\n",
    "tls = 'db202201301230_high'\n",
    "psw = open('/projekti/wikidata/orapsw.txt').read()\n",
    "connection = oracledb.connect(user='mondo', password=psw, dsn=tls, encoding=\"UTF-8\",\n",
    "                                   config_dir='/usr/lib/oracle/21/client64/lib/network/admin/',\n",
    "                              wallet_location='/usr/lib/oracle/21/client64/lib/network/admin/', wallet_password=psw)\n",
    "cur = connection.cursor()\n",
    "sql = 'create table wiki_samaas (w1 varchar2(100), w2 varchar2(100), freq number(7,0))'\n",
    "#NAME2NAME BIBLICAL_TRANS_BIBLE BIBLICAL_NAME_TRANSLATION\n",
    "t = cur.execute(sql)\n",
    "for (n1, n2), v in pairs.items():\n",
    "    cur.execute('insert into wiki_samaas values (:1, :2, :3)', (n1, n2, v))\n",
    "\n",
    "connection.commit()"
   ]
  },
  {
   "cell_type": "code",
   "execution_count": 36,
   "id": "f452e216-2a40-4d87-a9ac-9a157908317a",
   "metadata": {},
   "outputs": [],
   "source": [
    "cur.execute(\"alter table name2name add wiki_sameas number (5,0)\")\n",
    "cur.execute(\"\"\"MERGE into name2name nn\n",
    "using (select * from wiki_samaas) B\n",
    "on (B.w1=nn.N1 and B.w2=nn.N2)\n",
    "when MATCHED then update set wiki_sameas = B.freq\n",
    "when not MATCHED then insert (N1, N2, wiki_sameas) values (b.w1, b.w2, b.freq)\n",
    "\"\"\")\n",
    "connection.commit()"
   ]
  },
  {
   "cell_type": "code",
   "execution_count": 37,
   "id": "92a12e9a",
   "metadata": {},
   "outputs": [
    {
     "data": {
      "application/vnd.jupyter.widget-view+json": {
       "model_id": "5846a28209ca445384241ca6ff5b6695",
       "version_major": 2,
       "version_minor": 0
      },
      "text/plain": [
       "  0%|          | 0/1820542 [00:00<?, ?it/s]"
      ]
     },
     "metadata": {},
     "output_type": "display_data"
    },
    {
     "data": {
      "text/plain": [
       "(Counter({('W.', 'tit'): 1486}), Counter({('W', 'tit'): 222}))"
      ]
     },
     "execution_count": 37,
     "metadata": {},
     "output_type": "execute_result"
    }
   ],
   "source": [
    "toks = defaultdict(Counter)\n",
    "for tok, v in tqdm(names.items(), total=len(names)):\n",
    "    for t_prov, cnt in v.items():\n",
    "        src, t, lang, script, cc = t_prov.split('_')\n",
    "        tok = tok.replace('_', ' ')\n",
    "        if len(tok)>0:\n",
    "            toks[f'{tok}_{lang}_{script}'][(src, t)] += cnt\n",
    "            if tok[-1] == '.' and tok.count('.') == 1:\n",
    "                toks[f'{tok[:-1]}_{lang}_{script}'][(src+'.', t)] += cnt\n",
    "toks = dict(toks)\n",
    "toks['dr_en_Latn'], toks['mba_en_Latn']"
   ]
  },
  {
   "cell_type": "code",
   "execution_count": 38,
   "id": "b4406ec7",
   "metadata": {},
   "outputs": [
    {
     "data": {
      "text/plain": [
       "({1521},\n",
       " {'de_Latn_',\n",
       "  'de_Latn_AT',\n",
       "  'de_Latn_CH',\n",
       "  'de_Latn_DE',\n",
       "  'de_Latn_LI',\n",
       "  'de_Latn_NL'})"
      ]
     },
     "execution_count": 38,
     "metadata": {},
     "output_type": "execute_result"
    }
   ],
   "source": [
    "t2set = defaultdict(set)\n",
    "prov2set = defaultdict(set)\n",
    "\n",
    "for t, c in t2i.items():\n",
    "    t = t.split('_')\n",
    "    t2set['_'.join(t[:3])].add(c)    \n",
    "    prov2set['_'.join(t[1:3])].add('_'.join(t[1:]))\n",
    "t2set = dict(t2set)    \n",
    "i2t = {k: v for v, k in t2i.items()}\n",
    "prov2set = dict(prov2set)    \n",
    "i2t = {k: v for v, k in t2i.items()}\n",
    "t2set['tit_hr_Latn'], prov2set['de_Latn']"
   ]
  },
  {
   "cell_type": "code",
   "execution_count": 39,
   "id": "d2589993",
   "metadata": {},
   "outputs": [
    {
     "data": {
      "application/vnd.jupyter.widget-view+json": {
       "model_id": "c600f8261655413eb25cec3f109833d7",
       "version_major": 2,
       "version_minor": 0
      },
      "text/plain": [
       "  0%|          | 0/8314074 [00:00<?, ?it/s]"
      ]
     },
     "metadata": {},
     "output_type": "display_data"
    },
    {
     "data": {
      "text/plain": [
       "{'fn0': 0, 'fn1': 0, 'fn2': 0, 'ln': 0, 'tit': 4043}"
      ]
     },
     "execution_count": 39,
     "metadata": {},
     "output_type": "execute_result"
    }
   ],
   "source": [
    "freqs = {}\n",
    "for k, v in tqdm(toks.items(), total=len(toks)):\n",
    "    (tok, provt) = k.split('_', 1) \n",
    "    for (src, tip), cnt in v.items():\n",
    "        if (tok, provt) not in freqs:\n",
    "            freqs[(tok, provt)] = {'fn0': 0, 'fn1': 0, 'fn2': 0, 'ln': 0, 'tit': 0, }\n",
    "        freqs[(tok, provt)][tip] += cnt\n",
    "\n",
    "freqs[('prof', 'hr_Latn')]"
   ]
  },
  {
   "cell_type": "code",
   "execution_count": 40,
   "id": "4e2afcb1",
   "metadata": {},
   "outputs": [
    {
     "data": {
      "application/vnd.jupyter.widget-view+json": {
       "model_id": "28fa2c5c6e234ccc9e91382937bb0fe6",
       "version_major": 2,
       "version_minor": 0
      },
      "text/plain": [
       "  0%|          | 0/8314074 [00:00<?, ?it/s]"
      ]
     },
     "metadata": {},
     "output_type": "display_data"
    },
    {
     "data": {
      "text/plain": [
       "(20, 1263446, (1, 5.88), (16, 94.12), (4043, 100.0))"
      ]
     },
     "execution_count": 40,
     "metadata": {},
     "output_type": "execute_result"
    }
   ],
   "source": [
    "freqs2 = {}\n",
    "nema = Counter()\n",
    "for k, v in tqdm(freqs.items(), total=len(freqs)):\n",
    "    tok, provt = k\n",
    "    tips = [k for k in v if v[k]>0]\n",
    "    if provt in prov2set:\n",
    "        for tip in tips:\n",
    "            if tip == 'tit':\n",
    "                allprovs = [provt+'_']\n",
    "            else:\n",
    "                allprovs = [a for a in prov2set[provt] if not a.endswith('_')]\n",
    "            cnt = v[tip]\n",
    "            cnt_all = sum(v.values())\n",
    "            if cnt_all > 0: \n",
    "                for prov in allprovs:\n",
    "                    if f'{tip}_{prov}' in t2i:\n",
    "                        provi = t2i[f'{tip}_{prov}']\n",
    "                        freqs2[(tok, provi)] = (cnt, round(cnt*100 / cnt_all,2))\n",
    "                    else:\n",
    "                        nema[f'{tip}_{prov}'] += 1\n",
    "len(nema), sum(nema.values()), freqs2[('doctor', t2i['tit_en_Latn_'])], freqs2[('doctor', t2i['ln_en_Latn_US'])], freqs2[('prof', t2i['tit_hr_Latn_'])]"
   ]
  },
  {
   "cell_type": "code",
   "execution_count": 41,
   "id": "566f552c",
   "metadata": {},
   "outputs": [],
   "source": [
    "# to Oracle\n",
    "import cx_Oracle\n",
    "tls = 'db202201301230_high'\n",
    "connection = cx_Oracle.connect(user='mondo', password=open('orapsw.txt').read(),dsn=tls,encoding=\"UTF-8\")\n",
    "cur = connection.cursor()\n"
   ]
  },
  {
   "cell_type": "code",
   "execution_count": 42,
   "id": "eb00b35f",
   "metadata": {},
   "outputs": [
    {
     "name": "stdout",
     "output_type": "stream",
     "text": [
      "loading ...\n"
     ]
    },
    {
     "data": {
      "application/vnd.jupyter.widget-view+json": {
       "model_id": "93cbde324ada4e97aea30cbb50b970e6",
       "version_major": 2,
       "version_minor": 0
      },
      "text/plain": [
       "  0%|          | 0/44574635 [00:00<?, ?it/s]"
      ]
     },
     "metadata": {},
     "output_type": "display_data"
    },
    {
     "name": "stdout",
     "output_type": "stream",
     "text": [
      "8314074\n"
     ]
    }
   ],
   "source": [
    "try:\n",
    "    cur.execute('drop table mondo.wiki_name_parts purge') \n",
    "except:\n",
    "    pass\n",
    "cur.execute(\"\"\"create table mondo.wiki_name_parts (token varchar2(200), lang varchar2(10), fn0 number(6, 0), fn1 number(6, 0), fn2 number(6, 0),\n",
    "            ln number(6, 0), tit number(6, 0), CONSTRAINT pk_locations PRIMARY KEY (token, lang)) ORGANIZATION INDEX\"\"\")\n",
    "print('loading ...')\n",
    "batch = []\n",
    "br = 0\n",
    "for (tok, lng), cnt in tqdm(freqs.items(), total=len(freqs)):\n",
    "    if len(bytes(tok, 'utf-8')) < 190:\n",
    "        batch.append((tok, lng, cnt['fn0'], cnt['fn1'], cnt['fn2'], cnt['ln'], cnt['tit'] ))\n",
    "    if len(batch)>10_048:\n",
    "        cur.executemany('insert into mondo.wiki_name_parts values (:1, :2, :3, :4, :5, :6, :7) ', batch) \n",
    "        connection.commit()\n",
    "        batch = []\n",
    "    br += 1\n",
    "cur.executemany('insert into mondo.wiki_name_parts values (:1, :2, :3, :4, :5, :6, :7) ', batch) \n",
    "connection.commit()\n",
    "print(br)"
   ]
  },
  {
   "cell_type": "code",
   "execution_count": 44,
   "id": "8f1a45b8",
   "metadata": {},
   "outputs": [
    {
     "data": {
      "text/plain": [
       "[(8313994,)]"
      ]
     },
     "execution_count": 44,
     "metadata": {},
     "output_type": "execute_result"
    }
   ],
   "source": [
    "cur.execute('select count(*) from mondo.wiki_name_parts').fetchall()"
   ]
  },
  {
   "cell_type": "code",
   "execution_count": null,
   "id": "eb00e683",
   "metadata": {},
   "outputs": [],
   "source": [
    "# select m.n, (select t.t from  mondo.TYPEID t where t.id=m.t) t, c from MONDO.NAME_M m where n='dr' and\n",
    "# not exists (select 1 from mondo.TYPEID where id=m.t and regexp_like(t, 'title_.+') )  and\n",
    "# exists (select 1 from mondo.wiki_name_parts w where w.token=m.n) and\n",
    "# not exists (select 1 from mondo.wiki_name_parts w where w.token=m.n and w.PROV=m.T and w.RATIO>5);\n",
    "\n",
    "# AD HOC cleaning \n",
    "\n",
    "cur.execute(\"\"\"\n",
    "delete from MONDO.NAME_M m where\n",
    "not exists (select 1 from mondo.TYPEID where id=m.t and regexp_like(t, 'title_.+') )  and\n",
    "exists (select 1 from mondo.wiki_name_parts w where w.token=m.n) and\n",
    "not exists (select 1 from mondo.wiki_name_parts w where w.token=m.n and w.PROV=m.T and w.RATIO>5)\n",
    "\"\"\")\n",
    "connection.commit()"
   ]
  },
  {
   "cell_type": "code",
   "execution_count": 1,
   "id": "1d8471f4",
   "metadata": {},
   "outputs": [
    {
     "ename": "NameError",
     "evalue": "name 'cur' is not defined",
     "output_type": "error",
     "traceback": [
      "\u001b[0;31m---------------------------------------------------------------------------\u001b[0m",
      "\u001b[0;31mNameError\u001b[0m                                 Traceback (most recent call last)",
      "Input \u001b[0;32mIn [1]\u001b[0m, in \u001b[0;36m<cell line: 1>\u001b[0;34m()\u001b[0m\n\u001b[0;32m----> 1\u001b[0m \u001b[43mcur\u001b[49m\u001b[38;5;241m.\u001b[39mexecute(\u001b[38;5;124m\"\u001b[39m\u001b[38;5;124mselect m.n, t.t from mondo.name_m m, mondo.TYPEID t where t.id=m.t and m.n=\u001b[39m\u001b[38;5;124m'\u001b[39m\u001b[38;5;124mmr.\u001b[39m\u001b[38;5;124m'\u001b[39m\u001b[38;5;124m\"\u001b[39m)\u001b[38;5;241m.\u001b[39mfetchall()\n",
      "\u001b[0;31mNameError\u001b[0m: name 'cur' is not defined"
     ]
    }
   ],
   "source": [
    "cur.execute(\"select m.n, t.t from mondo.name_m m, mondo.TYPEID t where t.id=m.t and m.n='mr.'\").fetchall()"
   ]
  }
 ],
 "metadata": {
  "kernelspec": {
   "display_name": "Python 3 (ipykernel)",
   "language": "python",
   "name": "python3"
  },
  "language_info": {
   "codemirror_mode": {
    "name": "ipython",
    "version": 3
   },
   "file_extension": ".py",
   "mimetype": "text/x-python",
   "name": "python",
   "nbconvert_exporter": "python",
   "pygments_lexer": "ipython3",
   "version": "3.11.3"
  }
 },
 "nbformat": 4,
 "nbformat_minor": 5
}

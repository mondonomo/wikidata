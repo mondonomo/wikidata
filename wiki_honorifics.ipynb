{
 "cells": [
  {
   "cell_type": "code",
   "execution_count": 23,
   "id": "f044d521",
   "metadata": {},
   "outputs": [],
   "source": [
    "from wiki_labels import qid_lab_get, find_qid, trie\n",
    "from text_utils import get_provenance\n",
    "import json\n",
    "import os\n",
    "import numpy as np\n",
    "\n",
    "BASE_DIR, DB_DIR = '/projekti/mondoAPI', 'db'\n",
    "\n",
    "types = json.load(open(os.path.join(BASE_DIR, DB_DIR, 'types.json'), 'r'))\n",
    "types_a = np.array([tuple([b if b else '' for b in a]) if len(a) == 4 else ('', '', '', '') for a in types],\n",
    "                   [('tip', 'U3'), ('lang', 'U2'), ('script', 'U4'), ('cc', 'U2')])\n",
    "t2i = {'_'.join(v):i for i, v in enumerate(types_a)}\n"
   ]
  },
  {
   "cell_type": "code",
   "execution_count": null,
   "id": "db4aa1c3",
   "metadata": {},
   "outputs": [],
   "source": [
    "male = ['Q8441', 'Q212878', 'Q17051299', 'Q12826225', 'Q2366336', 'Q1092777', 'Q854905', 'Q435940', 'Q177053', 'Q1937846', 'Q2747456', 'Q12097', 'Q749212', 'Q209690', 'Q102083', 'Q166382', 'Q165503']\n",
    "female = ['Q467', 'Q188830', 'Q16963317', 'Q901407', 'Q104154414', 'Q13359947', 'Q1951543', 'Q313549', 'Q901407', 'Q863048', 'Q16511993', 'Q1378024', 'Q13359947']\n",
    "unisex = ['Q12540025', 'Q678928', 'Q48942']"
   ]
  },
  {
   "cell_type": "code",
   "execution_count": null,
   "id": "c70ec791",
   "metadata": {},
   "outputs": [],
   "source": [
    "fi = open('/backup/wikidata/wiki_gender_label.tsv')\n",
    "fi.readline()\n",
    "gen = {}\n",
    "for i in fi:\n",
    "    g, wid, lab, lang = i.strip('\\n\\r').split('\\t')\n",
    "    if lab in gen and gen[lab] != g and len(gen[lab]) == 1:\n",
    "        gen[lab] = 'mf'\n",
    "    else:\n",
    "        gen[lab] = g"
   ]
  },
  {
   "cell_type": "code",
   "execution_count": 69,
   "id": "dd602d1c",
   "metadata": {},
   "outputs": [
    {
     "name": "stdout",
     "output_type": "stream",
     "text": [
      "{'mr': {'en'}, 'g.': {'tl'}, 'sr.': {'es'}, 'pan': {'pl', 'cs'}, 'mr.': {'en', 'nl', 'ko'}, 'bay': {'tr'}, 'úr': {'hu'}, 'saks': {'et'}, 'sig.': {'it'}, 's-ro': {'eo'}, 'pán': {'sk'}, 'knj.': {'hsb'}, 'domn': {'ro'}, 'herr': {'da', 'sv', 'de'}, 'jaun': {'eu'}, 'señor': {'es'}, 'sciur': {'lmo'}, 'knjez': {'hsb'}, 'budni': {'pam'}, 'herre': {'nb'}, 'herra': {'fi'}, 'ginoo': {'tl'}, 'signor': {'it'}, 'maighstir': {'gd'}, 'meneer': {'nl'}, 'mister': {'en'}, 'mudane': {'so'}, 'domine': {'la'}, 'härra': {'et'}, 'sinjoro': {'eo'}, 'budning': {'pam'}, 'ginoong': {'tl'}, 'monsieur': {'fr'}, 'gospodin': {'sh'}, 'مستر': {'ar'}, '미스터': {'ko'}, 'خواجه': {'fa'}, 'мистер': {'mk', 'ru'}, 'містер': {'uk'}, 'спадар': {'be-tarask', 'be'}, 'сударь': {'ru'}, 'ミスター': {'ja'}, 'господин': {'mk', 'ru'}}\n"
     ]
    },
    {
     "data": {
      "text/plain": [
       "1961"
      ]
     },
     "execution_count": 69,
     "metadata": {},
     "output_type": "execute_result"
    }
   ],
   "source": [
    "honor = {}\n",
    "genders = ((male, 'm'), (female, 'f'), (unisex, 'mf'))\n",
    "for ds, gender in genders:\n",
    "    for i in ds:\n",
    "        labs = qid_lab_get(int(i[1:]), include_alt=True)\n",
    "        if i == 'Q177053':\n",
    "            print(labs)\n",
    "        for lab in labs:\n",
    "            for lang in labs[lab]:\n",
    "                provs = get_provenance(lab, lang, no_countries=True)\n",
    "                for prov in provs:\n",
    "                    k = (lab, prov)\n",
    "                    if lab in gen and (gen[lab] == 'mf' or gen[lab] != gender):\n",
    "                        g = 'mf'\n",
    "                    elif lab in gen:\n",
    "                        g = gen[lab]\n",
    "                    else:\n",
    "                        g = gender\n",
    "                    if k not in honor:\n",
    "                        honor[k] = g\n",
    "                    elif honor[k] != g and len(honor[k]) == 1:\n",
    "                        honor[k] = 'mf'\n",
    "                       \n",
    "len(honor)"
   ]
  },
  {
   "cell_type": "code",
   "execution_count": 70,
   "id": "0228e9e0",
   "metadata": {},
   "outputs": [],
   "source": [
    "# few corrections\n",
    "honor[('先生', 'zh_Hani_')] = 'm'\n",
    "honor[('さん', 'ja_Kana_')] = 'mf'\n",
    "honor[('さま', 'ja_Kana_')] = 'mf'\n",
    "honor[('様', 'ja_Hira_')] = 'mf'\n",
    "\n",
    "honor[('mstr', 'en_Latn_')] = 'm'\n",
    "honor[('mstr.', 'en_Latn_')] = 'm'\n",
    "honor[('master', 'en_Latn_')] = 'm'\n",
    "honor[('datuk', 'ms_Latn_')] = 'm'\n",
    "honor[('datuk.', 'ms_Latn_')] = 'm'\n",
    "honor[('datuk seri', 'ms_Latn_')] = 'm'\n",
    "honor[('datuk seri', 'ms_Latn_')] = 'm'\n",
    "honor[('dato', 'ms_Latn_')] = 'm'\n",
    "honor[('datu', 'ms_Latn_')] = 'm'\n",
    "honor[('dato.', 'ms_Latn_')] = 'm'\n",
    "honor[('datu.', 'ms_Latn_')] = 'm'\n",
    "honor[('tan sri', 'ms_Latn_')] = 'm'\n",
    "honor[('puan sri', 'ms_Latn_')] = 'f'\n",
    "honor[('puan sri.', 'ms_Latn_')] = 'f'\n",
    "honor[('datin', 'ms_Latn_')] = 'f'\n",
    "honor[('datin.', 'ms_Latn_')] = 'f'\n",
    "honor[('datin seri', 'ms_Latn_')] = 'f'\n",
    "honor[('datin seri.', 'ms_Latn_')] = 'f'\n",
    "honor[('seri.', 'ms_Latn_')] = 'f'\n",
    "\n",
    "honor[('mevrouw', 'nl_Latn_')] = 'f'\n",
    "honor[('mw.', 'nl_Latn_')] = 'f'\n",
    "\n",
    "\n",
    "for n in ('เด็กหญิง', 'นางสาว', 'ด.ญ.', 'นาง', 'คุณหญิง', 'นารี'):\n",
    "    honor[(n, 'th_Thai_')] = 'f'\n",
    "for n in ('นาย', 'เด็กชาย', 'มร.', ):\n",
    "    honor[(n, 'th_Thai_')] = 'm'\n",
    "honor[('คุณ', 'th_Thai_')] = 'mf'"
   ]
  },
  {
   "cell_type": "code",
   "execution_count": 72,
   "id": "c26b0d23",
   "metadata": {},
   "outputs": [
    {
     "data": {
      "text/plain": [
       "[('ด.ญ.', 'th_Thai', 'f')]"
      ]
     },
     "execution_count": 72,
     "metadata": {},
     "output_type": "execute_result"
    }
   ],
   "source": [
    "[(l, p, g) for (l, p), g in honor.items() if l == 'ด.ญ.'] "
   ]
  },
  {
   "cell_type": "code",
   "execution_count": 80,
   "id": "078f7c00",
   "metadata": {},
   "outputs": [],
   "source": [
    "# to Oracle\n",
    "import cx_Oracle\n",
    "tls = 'db202201301230_high'\n",
    "connection = cx_Oracle.connect(user='mondo', password=open('orapsw.txt').read(),dsn=tls,encoding=\"UTF-8\")\n",
    "cur = connection.cursor()\n",
    "cur.execute('drop table temp_honorific purge')\n",
    "cur.execute('create table temp_honorific (tag varchar2(50), n varchar2(100))')\n",
    "for (l, p), g in honor.items():\n",
    "    tit = \"title\"\n",
    "    if g == \"mf\":\n",
    "        pass\n",
    "    elif g == 'm':\n",
    "        tit += '1'\n",
    "    elif g == 'f':\n",
    "        tit += '2'\n",
    "    else:\n",
    "        raise NotImplementedError\n",
    "    tit += '_'+(p.strip('_'))\n",
    "    cur.execute('insert into temp_honorific values (:1, :2)', (tit, l))\n",
    "connection.commit()    "
   ]
  },
  {
   "cell_type": "code",
   "execution_count": 79,
   "id": "d71eccaa",
   "metadata": {},
   "outputs": [],
   "source": []
  }
 ],
 "metadata": {
  "kernelspec": {
   "display_name": "Python 3 (ipykernel)",
   "language": "python",
   "name": "python3"
  },
  "language_info": {
   "codemirror_mode": {
    "name": "ipython",
    "version": 3
   },
   "file_extension": ".py",
   "mimetype": "text/x-python",
   "name": "python",
   "nbconvert_exporter": "python",
   "pygments_lexer": "ipython3",
   "version": "3.10.5"
  }
 },
 "nbformat": 4,
 "nbformat_minor": 5
}
